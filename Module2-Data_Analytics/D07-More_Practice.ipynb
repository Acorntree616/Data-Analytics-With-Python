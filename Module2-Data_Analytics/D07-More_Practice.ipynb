{
 "cells": [
  {
   "cell_type": "markdown",
   "metadata": {},
   "source": [
    "# Lesson 6 Class Exercises: More Practice"
   ]
  },
  {
   "cell_type": "markdown",
   "metadata": {},
   "source": [
    "We will use today's class exercise to reinforce the learning we've done to this point"
   ]
  },
  {
   "cell_type": "markdown",
   "metadata": {},
   "source": [
    "## Get Started\n",
    "Import the Numpy and Pandas packages"
   ]
  },
  {
   "cell_type": "code",
   "execution_count": 1,
   "metadata": {},
   "outputs": [],
   "source": [
    "import numpy as np\n",
    "import pandas as pd"
   ]
  },
  {
   "cell_type": "markdown",
   "metadata": {},
   "source": [
    "## Exercise 1"
   ]
  },
  {
   "cell_type": "markdown",
   "metadata": {},
   "source": [
    "Read in the apple data found in the `data/apple_data.tsv` directory."
   ]
  },
  {
   "cell_type": "code",
   "execution_count": 2,
   "metadata": {},
   "outputs": [
    {
     "data": {
      "text/html": [
       "<div>\n",
       "<style scoped>\n",
       "    .dataframe tbody tr th:only-of-type {\n",
       "        vertical-align: middle;\n",
       "    }\n",
       "\n",
       "    .dataframe tbody tr th {\n",
       "        vertical-align: top;\n",
       "    }\n",
       "\n",
       "    .dataframe thead th {\n",
       "        text-align: right;\n",
       "    }\n",
       "</style>\n",
       "<table border=\"1\" class=\"dataframe\">\n",
       "  <thead>\n",
       "    <tr style=\"text-align: right;\">\n",
       "      <th></th>\n",
       "      <th>State</th>\n",
       "      <th>1982</th>\n",
       "      <th>1987</th>\n",
       "      <th>1992</th>\n",
       "      <th>1997</th>\n",
       "      <th>2002</th>\n",
       "      <th>2007</th>\n",
       "      <th>1982</th>\n",
       "      <th>1987</th>\n",
       "      <th>1992.1</th>\n",
       "      <th>1997.1</th>\n",
       "      <th>2002.1</th>\n",
       "      <th>2007.1</th>\n",
       "      <th>2002.2</th>\n",
       "      <th>2007.2</th>\n",
       "      <th>2002.3</th>\n",
       "      <th>2007.3</th>\n",
       "    </tr>\n",
       "  </thead>\n",
       "  <tbody>\n",
       "    <tr>\n",
       "      <th>0</th>\n",
       "      <td>Alabama</td>\n",
       "      <td>899</td>\n",
       "      <td>626</td>\n",
       "      <td>474</td>\n",
       "      <td>479</td>\n",
       "      <td>265</td>\n",
       "      <td>231</td>\n",
       "      <td>1,548</td>\n",
       "      <td>1,217</td>\n",
       "      <td>1,011</td>\n",
       "      <td>968</td>\n",
       "      <td>594</td>\n",
       "      <td>393</td>\n",
       "      <td>191</td>\n",
       "      <td>144</td>\n",
       "      <td>386</td>\n",
       "      <td>307</td>\n",
       "    </tr>\n",
       "    <tr>\n",
       "      <th>1</th>\n",
       "      <td>Alaska</td>\n",
       "      <td>--</td>\n",
       "      <td>--</td>\n",
       "      <td>2</td>\n",
       "      <td>4</td>\n",
       "      <td>9</td>\n",
       "      <td>10</td>\n",
       "      <td>--</td>\n",
       "      <td>--</td>\n",
       "      <td>(D)</td>\n",
       "      <td>2</td>\n",
       "      <td>13</td>\n",
       "      <td>15</td>\n",
       "      <td>8</td>\n",
       "      <td>10</td>\n",
       "      <td>(D)</td>\n",
       "      <td>(D)</td>\n",
       "    </tr>\n",
       "    <tr>\n",
       "      <th>2</th>\n",
       "      <td>Arizona</td>\n",
       "      <td>214</td>\n",
       "      <td>224</td>\n",
       "      <td>235</td>\n",
       "      <td>158</td>\n",
       "      <td>185</td>\n",
       "      <td>496</td>\n",
       "      <td>1,969</td>\n",
       "      <td>4,881</td>\n",
       "      <td>5,770</td>\n",
       "      <td>4,003</td>\n",
       "      <td>1,581</td>\n",
       "      <td>1,344</td>\n",
       "      <td>118</td>\n",
       "      <td>424</td>\n",
       "      <td>1,459</td>\n",
       "      <td>1,249</td>\n",
       "    </tr>\n",
       "    <tr>\n",
       "      <th>3</th>\n",
       "      <td>Arkansas</td>\n",
       "      <td>512</td>\n",
       "      <td>451</td>\n",
       "      <td>247</td>\n",
       "      <td>238</td>\n",
       "      <td>164</td>\n",
       "      <td>153</td>\n",
       "      <td>2,276</td>\n",
       "      <td>2,120</td>\n",
       "      <td>1,430</td>\n",
       "      <td>1,048</td>\n",
       "      <td>658</td>\n",
       "      <td>287</td>\n",
       "      <td>123</td>\n",
       "      <td>116</td>\n",
       "      <td>560</td>\n",
       "      <td>220</td>\n",
       "    </tr>\n",
       "    <tr>\n",
       "      <th>4</th>\n",
       "      <td>California</td>\n",
       "      <td>2,904</td>\n",
       "      <td>2,787</td>\n",
       "      <td>3,082</td>\n",
       "      <td>3,454</td>\n",
       "      <td>2,120</td>\n",
       "      <td>2,074</td>\n",
       "      <td>29,933</td>\n",
       "      <td>34,105</td>\n",
       "      <td>42,024</td>\n",
       "      <td>49,704</td>\n",
       "      <td>38,268</td>\n",
       "      <td>22,184</td>\n",
       "      <td>1,850</td>\n",
       "      <td>1,850</td>\n",
       "      <td>35,856</td>\n",
       "      <td>20,954</td>\n",
       "    </tr>\n",
       "  </tbody>\n",
       "</table>\n",
       "</div>"
      ],
      "text/plain": [
       "           State    1982    1987    1992    1997    2002    2007     1982  \\\n",
       "0        Alabama    899     626     474     479     265     231    1,548    \n",
       "1         Alaska      --      --      2       4       9      10        --   \n",
       "2        Arizona    214     224     235     158     185     496    1,969    \n",
       "3       Arkansas    512     451     247     238     164     153    2,276    \n",
       "4     California  2,904   2,787   3,082   3,454   2,120   2,074   29,933    \n",
       "\n",
       "      1987   1992.1   1997.1   2002.1   2007.1 2002.2 2007.2  2002.3  2007.3  \n",
       "0   1,217    1,011      968      594      393     191    144     386     307  \n",
       "1       --      (D)       2       13       15       8     10     (D)     (D)  \n",
       "2   4,881    5,770    4,003    1,581    1,344     118    424   1,459   1,249  \n",
       "3   2,120    1,430    1,048      658      287     123    116     560     220  \n",
       "4  34,105   42,024   49,704   38,268   22,184   1,850  1,850  35,856  20,954  "
      ]
     },
     "execution_count": 2,
     "metadata": {},
     "output_type": "execute_result"
    }
   ],
   "source": [
    "apple = pd.read_csv('data/apple_data.tsv', delimiter='\\t')\n",
    "apple.head(5)"
   ]
  },
  {
   "cell_type": "markdown",
   "metadata": {},
   "source": [
    "Explore the data using the approach we've used thus far:\n",
    "- List all of the column names\n",
    "- Identify the data types\n",
    "- Find the shape of the data\n",
    "- Explore categorical values -- do we have the expected number of values for each?\n",
    "- Get descriptive statistics for the numerical data\n",
    "- Do we have missing values?\n",
    "- Do we have duplicates?"
   ]
  },
  {
   "cell_type": "code",
   "execution_count": 3,
   "metadata": {},
   "outputs": [
    {
     "data": {
      "text/plain": [
       "Index(['       State', '1982', '1987', '1992', '1997', '2002', '2007',\n",
       "       '  1982', '  1987', '1992.1', '1997.1', '2002.1', '2007.1', '2002.2',\n",
       "       '2007.2', '2002.3', '2007.3'],\n",
       "      dtype='object')"
      ]
     },
     "execution_count": 3,
     "metadata": {},
     "output_type": "execute_result"
    }
   ],
   "source": [
    "apple.columns"
   ]
  },
  {
   "cell_type": "code",
   "execution_count": 4,
   "metadata": {},
   "outputs": [
    {
     "data": {
      "text/plain": [
       "       State    object\n",
       "1982            object\n",
       "1987            object\n",
       "1992            object\n",
       "1997            object\n",
       "2002            object\n",
       "2007            object\n",
       "  1982          object\n",
       "  1987          object\n",
       "1992.1          object\n",
       "1997.1          object\n",
       "2002.1          object\n",
       "2007.1          object\n",
       "2002.2          object\n",
       "2007.2          object\n",
       "2002.3          object\n",
       "2007.3          object\n",
       "dtype: object"
      ]
     },
     "execution_count": 4,
     "metadata": {},
     "output_type": "execute_result"
    }
   ],
   "source": [
    "apple.dtypes"
   ]
  },
  {
   "cell_type": "code",
   "execution_count": 5,
   "metadata": {},
   "outputs": [
    {
     "data": {
      "text/plain": [
       "(50, 17)"
      ]
     },
     "execution_count": 5,
     "metadata": {},
     "output_type": "execute_result"
    }
   ],
   "source": [
    "apple.shape"
   ]
  },
  {
   "cell_type": "code",
   "execution_count": 6,
   "metadata": {
    "tags": []
   },
   "outputs": [
    {
     "data": {
      "text/plain": [
       "<bound method Series.unique of 0               Alabama\n",
       "1                Alaska\n",
       "2               Arizona\n",
       "3              Arkansas\n",
       "4            California\n",
       "5              Colorado\n",
       "6           Connecticut\n",
       "7              Delaware\n",
       "8               Florida\n",
       "9               Georgia\n",
       "10               Hawaii\n",
       "11                Idaho\n",
       "12             Illinois\n",
       "13              Indiana\n",
       "14                 Iowa\n",
       "15               Kansas\n",
       "16             Kentucky\n",
       "17            Louisiana\n",
       "18                Maine\n",
       "19             Maryland\n",
       "20        Massachusetts\n",
       "21             Michigan\n",
       "22            Minnesota\n",
       "23          Mississippi\n",
       "24             Missouri\n",
       "25              Montana\n",
       "26             Nebraska\n",
       "27               Nevada\n",
       "28        New Hampshire\n",
       "29           New Jersey\n",
       "30           New Mexico\n",
       "31             New York\n",
       "32       North Carolina\n",
       "33         North Dakota\n",
       "34                 Ohio\n",
       "35             Oklahoma\n",
       "36               Oregon\n",
       "37         Pennsylvania\n",
       "38         Rhode Island\n",
       "39       South Carolina\n",
       "40         South Dakota\n",
       "41            Tennessee\n",
       "42                Texas\n",
       "43                 Utah\n",
       "44              Vermont\n",
       "45             Virginia\n",
       "46           Washington\n",
       "47        West Virginia\n",
       "48            Wisconsin\n",
       "49              Wyoming\n",
       "Name:        State, dtype: object>"
      ]
     },
     "execution_count": 6,
     "metadata": {},
     "output_type": "execute_result"
    }
   ],
   "source": [
    "apple['       State'].unique"
   ]
  },
  {
   "cell_type": "code",
   "execution_count": null,
   "metadata": {},
   "outputs": [],
   "source": []
  },
  {
   "cell_type": "code",
   "execution_count": 7,
   "metadata": {},
   "outputs": [
    {
     "data": {
      "text/html": [
       "<div>\n",
       "<style scoped>\n",
       "    .dataframe tbody tr th:only-of-type {\n",
       "        vertical-align: middle;\n",
       "    }\n",
       "\n",
       "    .dataframe tbody tr th {\n",
       "        vertical-align: top;\n",
       "    }\n",
       "\n",
       "    .dataframe thead th {\n",
       "        text-align: right;\n",
       "    }\n",
       "</style>\n",
       "<table border=\"1\" class=\"dataframe\">\n",
       "  <thead>\n",
       "    <tr style=\"text-align: right;\">\n",
       "      <th></th>\n",
       "      <th>State</th>\n",
       "      <th>1982</th>\n",
       "      <th>1987</th>\n",
       "      <th>1992</th>\n",
       "      <th>1997</th>\n",
       "      <th>2002</th>\n",
       "      <th>2007</th>\n",
       "      <th>1982</th>\n",
       "      <th>1987</th>\n",
       "      <th>1992.1</th>\n",
       "      <th>1997.1</th>\n",
       "      <th>2002.1</th>\n",
       "      <th>2007.1</th>\n",
       "      <th>2002.2</th>\n",
       "      <th>2007.2</th>\n",
       "      <th>2002.3</th>\n",
       "      <th>2007.3</th>\n",
       "    </tr>\n",
       "  </thead>\n",
       "  <tbody>\n",
       "    <tr>\n",
       "      <th>count</th>\n",
       "      <td>50</td>\n",
       "      <td>50</td>\n",
       "      <td>50</td>\n",
       "      <td>50</td>\n",
       "      <td>50</td>\n",
       "      <td>50</td>\n",
       "      <td>50</td>\n",
       "      <td>50</td>\n",
       "      <td>50</td>\n",
       "      <td>50</td>\n",
       "      <td>50</td>\n",
       "      <td>50</td>\n",
       "      <td>50</td>\n",
       "      <td>50</td>\n",
       "      <td>50</td>\n",
       "      <td>50</td>\n",
       "      <td>50</td>\n",
       "    </tr>\n",
       "    <tr>\n",
       "      <th>unique</th>\n",
       "      <td>50</td>\n",
       "      <td>49</td>\n",
       "      <td>48</td>\n",
       "      <td>49</td>\n",
       "      <td>49</td>\n",
       "      <td>50</td>\n",
       "      <td>49</td>\n",
       "      <td>49</td>\n",
       "      <td>49</td>\n",
       "      <td>49</td>\n",
       "      <td>48</td>\n",
       "      <td>48</td>\n",
       "      <td>48</td>\n",
       "      <td>46</td>\n",
       "      <td>49</td>\n",
       "      <td>46</td>\n",
       "      <td>48</td>\n",
       "    </tr>\n",
       "    <tr>\n",
       "      <th>top</th>\n",
       "      <td>Alabama</td>\n",
       "      <td>--</td>\n",
       "      <td>--</td>\n",
       "      <td>392</td>\n",
       "      <td>485</td>\n",
       "      <td>265</td>\n",
       "      <td>35</td>\n",
       "      <td>--</td>\n",
       "      <td>--</td>\n",
       "      <td>(D)</td>\n",
       "      <td>5,389</td>\n",
       "      <td>(D)</td>\n",
       "      <td>(D)</td>\n",
       "      <td>8</td>\n",
       "      <td>427</td>\n",
       "      <td>(D)</td>\n",
       "      <td>(D)</td>\n",
       "    </tr>\n",
       "    <tr>\n",
       "      <th>freq</th>\n",
       "      <td>1</td>\n",
       "      <td>2</td>\n",
       "      <td>2</td>\n",
       "      <td>2</td>\n",
       "      <td>2</td>\n",
       "      <td>1</td>\n",
       "      <td>2</td>\n",
       "      <td>2</td>\n",
       "      <td>2</td>\n",
       "      <td>2</td>\n",
       "      <td>2</td>\n",
       "      <td>3</td>\n",
       "      <td>3</td>\n",
       "      <td>2</td>\n",
       "      <td>2</td>\n",
       "      <td>5</td>\n",
       "      <td>3</td>\n",
       "    </tr>\n",
       "  </tbody>\n",
       "</table>\n",
       "</div>"
      ],
      "text/plain": [
       "              State 1982 1987  1992  1997  2002 2007   1982   1987 1992.1  \\\n",
       "count            50   50   50    50    50    50   50     50     50     50   \n",
       "unique           50   49   48    49    49    50   49     49     49     49   \n",
       "top         Alabama   --   --  392   485   265   35      --     --    (D)   \n",
       "freq              1    2    2     2     2     1    2      2      2      2   \n",
       "\n",
       "        1997.1 2002.1 2007.1 2002.2 2007.2 2002.3 2007.3  \n",
       "count       50     50     50     50     50     50     50  \n",
       "unique      48     48     48     46     49     46     48  \n",
       "top     5,389     (D)    (D)      8    427    (D)    (D)  \n",
       "freq         2      3      3      2      2      5      3  "
      ]
     },
     "execution_count": 7,
     "metadata": {},
     "output_type": "execute_result"
    }
   ],
   "source": [
    "apple.describe()"
   ]
  },
  {
   "cell_type": "code",
   "execution_count": 9,
   "metadata": {},
   "outputs": [
    {
     "data": {
      "text/plain": [
       "       State    0\n",
       "1982            0\n",
       "1987            0\n",
       "1992            0\n",
       "1997            0\n",
       "2002            0\n",
       "2007            0\n",
       "  1982          0\n",
       "  1987          0\n",
       "1992.1          0\n",
       "1997.1          0\n",
       "2002.1          0\n",
       "2007.1          0\n",
       "2002.2          0\n",
       "2007.2          0\n",
       "2002.3          0\n",
       "2007.3          0\n",
       "dtype: int64"
      ]
     },
     "execution_count": 9,
     "metadata": {},
     "output_type": "execute_result"
    }
   ],
   "source": [
    "apple.isna().sum()"
   ]
  },
  {
   "cell_type": "code",
   "execution_count": 10,
   "metadata": {},
   "outputs": [
    {
     "data": {
      "text/plain": [
       "0"
      ]
     },
     "execution_count": 10,
     "metadata": {},
     "output_type": "execute_result"
    }
   ],
   "source": [
    "apple.duplicated().sum()"
   ]
  },
  {
   "cell_type": "markdown",
   "metadata": {},
   "source": [
    "What needs cleaning with the data?"
   ]
  },
  {
   "cell_type": "raw",
   "metadata": {},
   "source": [
    "- Column headers have spaces\n",
    "- Column headers have .1 .2 .3\n",
    "- Column headers need unique names\n",
    "- Missing Values are missing\n",
    "- Changing numerical values"
   ]
  },
  {
   "cell_type": "markdown",
   "metadata": {},
   "source": [
    "### Clean the data"
   ]
  },
  {
   "cell_type": "markdown",
   "metadata": {},
   "source": [
    "Re-read the file and make sure we have get the missing values correct."
   ]
  },
  {
   "cell_type": "code",
   "execution_count": 11,
   "metadata": {},
   "outputs": [
    {
     "data": {
      "text/html": [
       "<div>\n",
       "<style scoped>\n",
       "    .dataframe tbody tr th:only-of-type {\n",
       "        vertical-align: middle;\n",
       "    }\n",
       "\n",
       "    .dataframe tbody tr th {\n",
       "        vertical-align: top;\n",
       "    }\n",
       "\n",
       "    .dataframe thead th {\n",
       "        text-align: right;\n",
       "    }\n",
       "</style>\n",
       "<table border=\"1\" class=\"dataframe\">\n",
       "  <thead>\n",
       "    <tr style=\"text-align: right;\">\n",
       "      <th></th>\n",
       "      <th>State</th>\n",
       "      <th>1982</th>\n",
       "      <th>1987</th>\n",
       "      <th>1992</th>\n",
       "      <th>1997</th>\n",
       "      <th>2002</th>\n",
       "      <th>2007</th>\n",
       "      <th>1982</th>\n",
       "      <th>1987</th>\n",
       "      <th>1992.1</th>\n",
       "      <th>1997.1</th>\n",
       "      <th>2002.1</th>\n",
       "      <th>2007.1</th>\n",
       "      <th>2002.2</th>\n",
       "      <th>2007.2</th>\n",
       "      <th>2002.3</th>\n",
       "      <th>2007.3</th>\n",
       "    </tr>\n",
       "  </thead>\n",
       "  <tbody>\n",
       "    <tr>\n",
       "      <th>0</th>\n",
       "      <td>Alabama</td>\n",
       "      <td>899</td>\n",
       "      <td>626</td>\n",
       "      <td>474</td>\n",
       "      <td>479</td>\n",
       "      <td>265</td>\n",
       "      <td>231</td>\n",
       "      <td>1,548</td>\n",
       "      <td>1,217</td>\n",
       "      <td>1,011</td>\n",
       "      <td>968</td>\n",
       "      <td>594</td>\n",
       "      <td>393</td>\n",
       "      <td>191</td>\n",
       "      <td>144</td>\n",
       "      <td>386</td>\n",
       "      <td>307</td>\n",
       "    </tr>\n",
       "    <tr>\n",
       "      <th>1</th>\n",
       "      <td>Alaska</td>\n",
       "      <td>NaN</td>\n",
       "      <td>NaN</td>\n",
       "      <td>2</td>\n",
       "      <td>4</td>\n",
       "      <td>9</td>\n",
       "      <td>10</td>\n",
       "      <td>NaN</td>\n",
       "      <td>NaN</td>\n",
       "      <td>NaN</td>\n",
       "      <td>2</td>\n",
       "      <td>13</td>\n",
       "      <td>15</td>\n",
       "      <td>8</td>\n",
       "      <td>10</td>\n",
       "      <td>NaN</td>\n",
       "      <td>NaN</td>\n",
       "    </tr>\n",
       "    <tr>\n",
       "      <th>2</th>\n",
       "      <td>Arizona</td>\n",
       "      <td>214</td>\n",
       "      <td>224</td>\n",
       "      <td>235</td>\n",
       "      <td>158</td>\n",
       "      <td>185</td>\n",
       "      <td>496</td>\n",
       "      <td>1,969</td>\n",
       "      <td>4,881</td>\n",
       "      <td>5,770</td>\n",
       "      <td>4,003</td>\n",
       "      <td>1,581</td>\n",
       "      <td>1,344</td>\n",
       "      <td>118</td>\n",
       "      <td>424</td>\n",
       "      <td>1,459</td>\n",
       "      <td>1,249</td>\n",
       "    </tr>\n",
       "    <tr>\n",
       "      <th>3</th>\n",
       "      <td>Arkansas</td>\n",
       "      <td>512</td>\n",
       "      <td>451</td>\n",
       "      <td>247</td>\n",
       "      <td>238</td>\n",
       "      <td>164</td>\n",
       "      <td>153</td>\n",
       "      <td>2,276</td>\n",
       "      <td>2,120</td>\n",
       "      <td>1,430</td>\n",
       "      <td>1,048</td>\n",
       "      <td>658</td>\n",
       "      <td>287</td>\n",
       "      <td>123</td>\n",
       "      <td>116</td>\n",
       "      <td>560</td>\n",
       "      <td>220</td>\n",
       "    </tr>\n",
       "    <tr>\n",
       "      <th>4</th>\n",
       "      <td>California</td>\n",
       "      <td>2,904</td>\n",
       "      <td>2,787</td>\n",
       "      <td>3,082</td>\n",
       "      <td>3,454</td>\n",
       "      <td>2,120</td>\n",
       "      <td>2,074</td>\n",
       "      <td>29,933</td>\n",
       "      <td>34,105</td>\n",
       "      <td>42,024</td>\n",
       "      <td>49,704</td>\n",
       "      <td>38,268</td>\n",
       "      <td>22,184</td>\n",
       "      <td>1,850</td>\n",
       "      <td>1,850</td>\n",
       "      <td>35,856</td>\n",
       "      <td>20,954</td>\n",
       "    </tr>\n",
       "  </tbody>\n",
       "</table>\n",
       "</div>"
      ],
      "text/plain": [
       "           State    1982    1987    1992    1997    2002    2007     1982  \\\n",
       "0        Alabama    899     626     474     479     265     231    1,548    \n",
       "1         Alaska     NaN     NaN      2       4       9      10       NaN   \n",
       "2        Arizona    214     224     235     158     185     496    1,969    \n",
       "3       Arkansas    512     451     247     238     164     153    2,276    \n",
       "4     California  2,904   2,787   3,082   3,454   2,120   2,074   29,933    \n",
       "\n",
       "      1987   1992.1   1997.1   2002.1   2007.1 2002.2 2007.2  2002.3  2007.3  \n",
       "0   1,217    1,011      968      594      393     191    144     386     307  \n",
       "1      NaN      NaN       2       13       15       8     10     NaN     NaN  \n",
       "2   4,881    5,770    4,003    1,581    1,344     118    424   1,459   1,249  \n",
       "3   2,120    1,430    1,048      658      287     123    116     560     220  \n",
       "4  34,105   42,024   49,704   38,268   22,184   1,850  1,850  35,856  20,954  "
      ]
     },
     "execution_count": 11,
     "metadata": {},
     "output_type": "execute_result"
    }
   ],
   "source": [
    "apple=pd.read_csv('./data/apple_data.tsv', delimiter='\\t', na_values=['--','(D)'])\n",
    "apple.head()"
   ]
  },
  {
   "cell_type": "markdown",
   "metadata": {},
   "source": [
    "Make the column names correct"
   ]
  },
  {
   "cell_type": "code",
   "execution_count": 54,
   "metadata": {},
   "outputs": [
    {
     "data": {
      "text/html": [
       "<div>\n",
       "<style scoped>\n",
       "    .dataframe tbody tr th:only-of-type {\n",
       "        vertical-align: middle;\n",
       "    }\n",
       "\n",
       "    .dataframe tbody tr th {\n",
       "        vertical-align: top;\n",
       "    }\n",
       "\n",
       "    .dataframe thead th {\n",
       "        text-align: right;\n",
       "    }\n",
       "</style>\n",
       "<table border=\"1\" class=\"dataframe\">\n",
       "  <thead>\n",
       "    <tr style=\"text-align: right;\">\n",
       "      <th></th>\n",
       "      <th>State</th>\n",
       "      <th>1982_Farms</th>\n",
       "      <th>1987_Farms</th>\n",
       "      <th>1992_Farms</th>\n",
       "      <th>1997_Farms</th>\n",
       "      <th>2002_Farms</th>\n",
       "      <th>2007_Farms</th>\n",
       "      <th>1982_TTLAcres</th>\n",
       "      <th>1987_TTLAcres</th>\n",
       "      <th>1992_TTLAcres</th>\n",
       "      <th>1997_TTLAcres</th>\n",
       "      <th>2002_TTLAcres</th>\n",
       "      <th>2007_TTLAcres</th>\n",
       "      <th>2002_FarmBear_Acres</th>\n",
       "      <th>2007_FarmBear_Acres</th>\n",
       "      <th>2002_Bear_Acres</th>\n",
       "      <th>2007_Bear_Acres</th>\n",
       "    </tr>\n",
       "  </thead>\n",
       "  <tbody>\n",
       "    <tr>\n",
       "      <th>0</th>\n",
       "      <td>Alabama</td>\n",
       "      <td>899</td>\n",
       "      <td>626</td>\n",
       "      <td>474</td>\n",
       "      <td>479</td>\n",
       "      <td>265</td>\n",
       "      <td>231</td>\n",
       "      <td>1,548</td>\n",
       "      <td>1,217</td>\n",
       "      <td>1,011</td>\n",
       "      <td>968</td>\n",
       "      <td>594</td>\n",
       "      <td>393</td>\n",
       "      <td>191</td>\n",
       "      <td>144</td>\n",
       "      <td>386</td>\n",
       "      <td>307</td>\n",
       "    </tr>\n",
       "    <tr>\n",
       "      <th>1</th>\n",
       "      <td>Alaska</td>\n",
       "      <td>NaN</td>\n",
       "      <td>NaN</td>\n",
       "      <td>2</td>\n",
       "      <td>4</td>\n",
       "      <td>9</td>\n",
       "      <td>10</td>\n",
       "      <td>NaN</td>\n",
       "      <td>NaN</td>\n",
       "      <td>NaN</td>\n",
       "      <td>2</td>\n",
       "      <td>13</td>\n",
       "      <td>15</td>\n",
       "      <td>8</td>\n",
       "      <td>10</td>\n",
       "      <td>NaN</td>\n",
       "      <td>NaN</td>\n",
       "    </tr>\n",
       "    <tr>\n",
       "      <th>2</th>\n",
       "      <td>Arizona</td>\n",
       "      <td>214</td>\n",
       "      <td>224</td>\n",
       "      <td>235</td>\n",
       "      <td>158</td>\n",
       "      <td>185</td>\n",
       "      <td>496</td>\n",
       "      <td>1,969</td>\n",
       "      <td>4,881</td>\n",
       "      <td>5,770</td>\n",
       "      <td>4,003</td>\n",
       "      <td>1,581</td>\n",
       "      <td>1,344</td>\n",
       "      <td>118</td>\n",
       "      <td>424</td>\n",
       "      <td>1,459</td>\n",
       "      <td>1,249</td>\n",
       "    </tr>\n",
       "    <tr>\n",
       "      <th>3</th>\n",
       "      <td>Arkansas</td>\n",
       "      <td>512</td>\n",
       "      <td>451</td>\n",
       "      <td>247</td>\n",
       "      <td>238</td>\n",
       "      <td>164</td>\n",
       "      <td>153</td>\n",
       "      <td>2,276</td>\n",
       "      <td>2,120</td>\n",
       "      <td>1,430</td>\n",
       "      <td>1,048</td>\n",
       "      <td>658</td>\n",
       "      <td>287</td>\n",
       "      <td>123</td>\n",
       "      <td>116</td>\n",
       "      <td>560</td>\n",
       "      <td>220</td>\n",
       "    </tr>\n",
       "    <tr>\n",
       "      <th>4</th>\n",
       "      <td>California</td>\n",
       "      <td>2,904</td>\n",
       "      <td>2,787</td>\n",
       "      <td>3,082</td>\n",
       "      <td>3,454</td>\n",
       "      <td>2,120</td>\n",
       "      <td>2,074</td>\n",
       "      <td>29,933</td>\n",
       "      <td>34,105</td>\n",
       "      <td>42,024</td>\n",
       "      <td>49,704</td>\n",
       "      <td>38,268</td>\n",
       "      <td>22,184</td>\n",
       "      <td>1,850</td>\n",
       "      <td>1,850</td>\n",
       "      <td>35,856</td>\n",
       "      <td>20,954</td>\n",
       "    </tr>\n",
       "  </tbody>\n",
       "</table>\n",
       "</div>"
      ],
      "text/plain": [
       "           State 1982_Farms 1987_Farms 1992_Farms 1997_Farms 2002_Farms  \\\n",
       "0        Alabama       899        626        474        479        265    \n",
       "1         Alaska        NaN        NaN         2          4          9    \n",
       "2        Arizona       214        224        235        158        185    \n",
       "3       Arkansas       512        451        247        238        164    \n",
       "4     California     2,904      2,787      3,082      3,454      2,120    \n",
       "\n",
       "  2007_Farms 1982_TTLAcres 1987_TTLAcres 1992_TTLAcres 1997_TTLAcres  \\\n",
       "0       231         1,548         1,217         1,011           968    \n",
       "1        10            NaN           NaN           NaN            2    \n",
       "2       496         1,969         4,881         5,770         4,003    \n",
       "3       153         2,276         2,120         1,430         1,048    \n",
       "4     2,074        29,933        34,105        42,024        49,704    \n",
       "\n",
       "  2002_TTLAcres 2007_TTLAcres 2002_FarmBear_Acres 2007_FarmBear_Acres  \\\n",
       "0          594           393                  191                 144   \n",
       "1           13            15                    8                  10   \n",
       "2        1,581         1,344                  118                 424   \n",
       "3          658           287                  123                 116   \n",
       "4       38,268        22,184                1,850               1,850   \n",
       "\n",
       "  2002_Bear_Acres 2007_Bear_Acres  \n",
       "0             386             307  \n",
       "1             NaN             NaN  \n",
       "2           1,459           1,249  \n",
       "3             560             220  \n",
       "4          35,856          20,954  "
      ]
     },
     "execution_count": 54,
     "metadata": {},
     "output_type": "execute_result"
    }
   ],
   "source": [
    "apple2 = apple.set_axis(['State', '1982_Farms', '1987_Farms', '1992_Farms', '1997_Farms', \n",
    "                         '2002_Farms', '2007_Farms', '1982_TTLAcres', '1987_TTLAcres', '1992_TTLAcres',\n",
    "                         '1997_TTLAcres', '2002_TTLAcres', '2007_TTLAcres', '2002_FarmBear_Acres', \n",
    "                         '2007_FarmBear_Acres', '2002_Bear_Acres', '2007_Bear_Acres' ], axis=1)\n",
    "apple2.head()"
   ]
  },
  {
   "cell_type": "markdown",
   "metadata": {},
   "source": [
    "Next, remove commas. We need to alter the strings of multiple columns. We know how to do this within a single column, but how do we do this with multiple columns?  Remember the `apply()` function! We can apply any function we want.  We can't use the `pd.Series.str.replace()` function though because that belongs to the Pandas Series objects, we need an independent function. We can write our own!\n",
    "\n",
    "We can use the formal defintion (e.g.):\n",
    "\n",
    "```python\n",
    "def remoteCommas(col):\n",
    "    return col.str.replace(',','')\n",
    "\n",
    "apple_data = apple_data.apply(remoteCommas)\n",
    "```\n",
    "\n",
    "Or we can simplify it using Pythons `lambda` function definition. `lambda` is used to declare an in-line function.  It works just like a normal function but it does not have a name and is used for quick very short in-line functions.  For example:\n",
    "\n",
    "```python\n",
    "apple_data = apple_data.apply(lambda x: x.str.replace(',',''))\n",
    "```"
   ]
  },
  {
   "cell_type": "code",
   "execution_count": 55,
   "metadata": {},
   "outputs": [
    {
     "data": {
      "text/html": [
       "<div>\n",
       "<style scoped>\n",
       "    .dataframe tbody tr th:only-of-type {\n",
       "        vertical-align: middle;\n",
       "    }\n",
       "\n",
       "    .dataframe tbody tr th {\n",
       "        vertical-align: top;\n",
       "    }\n",
       "\n",
       "    .dataframe thead th {\n",
       "        text-align: right;\n",
       "    }\n",
       "</style>\n",
       "<table border=\"1\" class=\"dataframe\">\n",
       "  <thead>\n",
       "    <tr style=\"text-align: right;\">\n",
       "      <th></th>\n",
       "      <th>State</th>\n",
       "      <th>1982_Farms</th>\n",
       "      <th>1987_Farms</th>\n",
       "      <th>1992_Farms</th>\n",
       "      <th>1997_Farms</th>\n",
       "      <th>2002_Farms</th>\n",
       "      <th>2007_Farms</th>\n",
       "      <th>1982_TTLAcres</th>\n",
       "      <th>1987_TTLAcres</th>\n",
       "      <th>1992_TTLAcres</th>\n",
       "      <th>1997_TTLAcres</th>\n",
       "      <th>2002_TTLAcres</th>\n",
       "      <th>2007_TTLAcres</th>\n",
       "      <th>2002_FarmBear_Acres</th>\n",
       "      <th>2007_FarmBear_Acres</th>\n",
       "      <th>2002_Bear_Acres</th>\n",
       "      <th>2007_Bear_Acres</th>\n",
       "    </tr>\n",
       "  </thead>\n",
       "  <tbody>\n",
       "    <tr>\n",
       "      <th>0</th>\n",
       "      <td>Alabama</td>\n",
       "      <td>899</td>\n",
       "      <td>626</td>\n",
       "      <td>474</td>\n",
       "      <td>479</td>\n",
       "      <td>265</td>\n",
       "      <td>231</td>\n",
       "      <td>1548</td>\n",
       "      <td>1217</td>\n",
       "      <td>1011</td>\n",
       "      <td>968</td>\n",
       "      <td>594</td>\n",
       "      <td>393</td>\n",
       "      <td>191</td>\n",
       "      <td>144</td>\n",
       "      <td>386</td>\n",
       "      <td>307</td>\n",
       "    </tr>\n",
       "    <tr>\n",
       "      <th>1</th>\n",
       "      <td>Alaska</td>\n",
       "      <td>NaN</td>\n",
       "      <td>NaN</td>\n",
       "      <td>2</td>\n",
       "      <td>4</td>\n",
       "      <td>9</td>\n",
       "      <td>10</td>\n",
       "      <td>NaN</td>\n",
       "      <td>NaN</td>\n",
       "      <td>NaN</td>\n",
       "      <td>2</td>\n",
       "      <td>13</td>\n",
       "      <td>15</td>\n",
       "      <td>8</td>\n",
       "      <td>10</td>\n",
       "      <td>NaN</td>\n",
       "      <td>NaN</td>\n",
       "    </tr>\n",
       "    <tr>\n",
       "      <th>2</th>\n",
       "      <td>Arizona</td>\n",
       "      <td>214</td>\n",
       "      <td>224</td>\n",
       "      <td>235</td>\n",
       "      <td>158</td>\n",
       "      <td>185</td>\n",
       "      <td>496</td>\n",
       "      <td>1969</td>\n",
       "      <td>4881</td>\n",
       "      <td>5770</td>\n",
       "      <td>4003</td>\n",
       "      <td>1581</td>\n",
       "      <td>1344</td>\n",
       "      <td>118</td>\n",
       "      <td>424</td>\n",
       "      <td>1459</td>\n",
       "      <td>1249</td>\n",
       "    </tr>\n",
       "    <tr>\n",
       "      <th>3</th>\n",
       "      <td>Arkansas</td>\n",
       "      <td>512</td>\n",
       "      <td>451</td>\n",
       "      <td>247</td>\n",
       "      <td>238</td>\n",
       "      <td>164</td>\n",
       "      <td>153</td>\n",
       "      <td>2276</td>\n",
       "      <td>2120</td>\n",
       "      <td>1430</td>\n",
       "      <td>1048</td>\n",
       "      <td>658</td>\n",
       "      <td>287</td>\n",
       "      <td>123</td>\n",
       "      <td>116</td>\n",
       "      <td>560</td>\n",
       "      <td>220</td>\n",
       "    </tr>\n",
       "    <tr>\n",
       "      <th>4</th>\n",
       "      <td>California</td>\n",
       "      <td>2904</td>\n",
       "      <td>2787</td>\n",
       "      <td>3082</td>\n",
       "      <td>3454</td>\n",
       "      <td>2120</td>\n",
       "      <td>2074</td>\n",
       "      <td>29933</td>\n",
       "      <td>34105</td>\n",
       "      <td>42024</td>\n",
       "      <td>49704</td>\n",
       "      <td>38268</td>\n",
       "      <td>22184</td>\n",
       "      <td>1850</td>\n",
       "      <td>1850</td>\n",
       "      <td>35856</td>\n",
       "      <td>20954</td>\n",
       "    </tr>\n",
       "  </tbody>\n",
       "</table>\n",
       "</div>"
      ],
      "text/plain": [
       "           State 1982_Farms 1987_Farms 1992_Farms 1997_Farms 2002_Farms  \\\n",
       "0        Alabama       899        626        474        479        265    \n",
       "1         Alaska        NaN        NaN         2          4          9    \n",
       "2        Arizona       214        224        235        158        185    \n",
       "3       Arkansas       512        451        247        238        164    \n",
       "4     California      2904       2787       3082       3454       2120    \n",
       "\n",
       "  2007_Farms 1982_TTLAcres 1987_TTLAcres 1992_TTLAcres 1997_TTLAcres  \\\n",
       "0       231          1548          1217          1011           968    \n",
       "1        10            NaN           NaN           NaN            2    \n",
       "2       496          1969          4881          5770          4003    \n",
       "3       153          2276          2120          1430          1048    \n",
       "4      2074         29933         34105         42024         49704    \n",
       "\n",
       "  2002_TTLAcres 2007_TTLAcres 2002_FarmBear_Acres 2007_FarmBear_Acres  \\\n",
       "0          594           393                  191                 144   \n",
       "1           13            15                    8                  10   \n",
       "2         1581          1344                  118                 424   \n",
       "3          658           287                  123                 116   \n",
       "4        38268         22184                 1850                1850   \n",
       "\n",
       "  2002_Bear_Acres 2007_Bear_Acres  \n",
       "0             386             307  \n",
       "1             NaN             NaN  \n",
       "2            1459            1249  \n",
       "3             560             220  \n",
       "4           35856           20954  "
      ]
     },
     "execution_count": 55,
     "metadata": {},
     "output_type": "execute_result"
    }
   ],
   "source": [
    "apple2 = apple2.apply(lambda x: x.str.replace(',',''))\n",
    "apple2.head()"
   ]
  },
  {
   "cell_type": "markdown",
   "metadata": {},
   "source": [
    "Remove spaces preceeding the state names"
   ]
  },
  {
   "cell_type": "code",
   "execution_count": 56,
   "metadata": {},
   "outputs": [
    {
     "data": {
      "text/plain": [
       "array(['Alabama', 'Alaska', 'Arizona', 'Arkansas', 'California',\n",
       "       'Colorado', 'Connecticut', 'Delaware', 'Florida', 'Georgia',\n",
       "       'Hawaii', 'Idaho', 'Illinois', 'Indiana', 'Iowa', 'Kansas',\n",
       "       'Kentucky', 'Louisiana', 'Maine', 'Maryland', 'Massachusetts',\n",
       "       'Michigan', 'Minnesota', 'Mississippi', 'Missouri', 'Montana',\n",
       "       'Nebraska', 'Nevada', 'New Hampshire', 'New Jersey', 'New Mexico',\n",
       "       'New York', 'North Carolina', 'North Dakota', 'Ohio', 'Oklahoma',\n",
       "       'Oregon', 'Pennsylvania', 'Rhode Island', 'South Carolina',\n",
       "       'South Dakota', 'Tennessee', 'Texas', 'Utah', 'Vermont',\n",
       "       'Virginia', 'Washington', 'West Virginia', 'Wisconsin', 'Wyoming'],\n",
       "      dtype=object)"
      ]
     },
     "execution_count": 56,
     "metadata": {},
     "output_type": "execute_result"
    }
   ],
   "source": [
    "apple2['State'].str.replace('   ', '').unique()"
   ]
  },
  {
   "cell_type": "markdown",
   "metadata": {},
   "source": [
    "Convert columns to numeric. Convert to floats instead of integers because NaNs are considered float values."
   ]
  },
  {
   "cell_type": "code",
   "execution_count": 60,
   "metadata": {},
   "outputs": [
    {
     "data": {
      "text/plain": [
       "State                   object\n",
       "1982_Farms             float64\n",
       "1987_Farms             float64\n",
       "1992_Farms             float64\n",
       "1997_Farms             float64\n",
       "2002_Farms             float64\n",
       "2007_Farms             float64\n",
       "1982_TTLAcres          float64\n",
       "1987_TTLAcres          float64\n",
       "1992_TTLAcres          float64\n",
       "1997_TTLAcres          float64\n",
       "2002_TTLAcres          float64\n",
       "2007_TTLAcres          float64\n",
       "2002_FarmBear_Acres    float64\n",
       "2007_FarmBear_Acres    float64\n",
       "2002_Bear_Acres        float64\n",
       "2007_Bear_Acres        float64\n",
       "dtype: object"
      ]
     },
     "execution_count": 60,
     "metadata": {},
     "output_type": "execute_result"
    }
   ],
   "source": [
    "temp = apple2.iloc[:,1:].apply(lambda x: x.astype('float'))\n",
    "apple2 = pd.concat([apple2['State'], temp], axis=1)\n",
    "apple2.dtypes"
   ]
  },
  {
   "cell_type": "markdown",
   "metadata": {},
   "source": [
    "Check the types to make sure all is good"
   ]
  },
  {
   "cell_type": "markdown",
   "metadata": {},
   "source": [
    "Now desribe the numeric data"
   ]
  },
  {
   "cell_type": "markdown",
   "metadata": {},
   "source": [
    "### Explore the Data Again"
   ]
  },
  {
   "cell_type": "markdown",
   "metadata": {},
   "source": [
    "Now that we have problems with the dataframe correct, let's explore. Are our data types correct?"
   ]
  },
  {
   "cell_type": "code",
   "execution_count": null,
   "metadata": {},
   "outputs": [],
   "source": []
  },
  {
   "cell_type": "markdown",
   "metadata": {},
   "source": [
    "Now that we have numeric data we can perform a proper summary"
   ]
  },
  {
   "cell_type": "code",
   "execution_count": null,
   "metadata": {},
   "outputs": [],
   "source": []
  },
  {
   "cell_type": "markdown",
   "metadata": {},
   "source": [
    "Do we have any missing values?"
   ]
  },
  {
   "cell_type": "code",
   "execution_count": null,
   "metadata": {},
   "outputs": [],
   "source": []
  },
  {
   "cell_type": "markdown",
   "metadata": {},
   "source": [
    "Are missing values reasonable?  Should we remove any?"
   ]
  },
  {
   "cell_type": "raw",
   "metadata": {},
   "source": []
  },
  {
   "cell_type": "markdown",
   "metadata": {},
   "source": [
    "Do we have any duplicated data?"
   ]
  },
  {
   "cell_type": "code",
   "execution_count": null,
   "metadata": {},
   "outputs": [],
   "source": []
  },
  {
   "cell_type": "markdown",
   "metadata": {},
   "source": [
    "Does our only categorical column have expected values?"
   ]
  },
  {
   "cell_type": "code",
   "execution_count": null,
   "metadata": {},
   "outputs": [],
   "source": [
    "\n"
   ]
  },
  {
   "cell_type": "markdown",
   "metadata": {},
   "source": [
    "How many rows do we have per state? "
   ]
  },
  {
   "cell_type": "code",
   "execution_count": null,
   "metadata": {},
   "outputs": [],
   "source": []
  },
  {
   "cell_type": "markdown",
   "metadata": {},
   "source": [
    "Are the number of rows per state what we expect?"
   ]
  },
  {
   "cell_type": "raw",
   "metadata": {},
   "source": []
  },
  {
   "cell_type": "markdown",
   "metadata": {},
   "source": [
    "### Tidy the data"
   ]
  },
  {
   "cell_type": "markdown",
   "metadata": {},
   "source": [
    "What is/are the observable unit(s)?"
   ]
  },
  {
   "cell_type": "raw",
   "metadata": {},
   "source": [
    "States"
   ]
  },
  {
   "cell_type": "markdown",
   "metadata": {},
   "source": [
    "What are the variables?"
   ]
  },
  {
   "cell_type": "raw",
   "metadata": {},
   "source": [
    "State, Year, acreage, bearing acres"
   ]
  },
  {
   "cell_type": "markdown",
   "metadata": {},
   "source": [
    "What are the observations (values)?"
   ]
  },
  {
   "cell_type": "raw",
   "metadata": {},
   "source": [
    "numeric year, amount of acres, amount of bearing acres, number of farms, number of bearing farms, state name"
   ]
  },
  {
   "cell_type": "code",
   "execution_count": 41,
   "metadata": {},
   "outputs": [
    {
     "data": {
      "text/html": [
       "<div>\n",
       "<style scoped>\n",
       "    .dataframe tbody tr th:only-of-type {\n",
       "        vertical-align: middle;\n",
       "    }\n",
       "\n",
       "    .dataframe tbody tr th {\n",
       "        vertical-align: top;\n",
       "    }\n",
       "\n",
       "    .dataframe thead th {\n",
       "        text-align: right;\n",
       "    }\n",
       "</style>\n",
       "<table border=\"1\" class=\"dataframe\">\n",
       "  <thead>\n",
       "    <tr style=\"text-align: right;\">\n",
       "      <th></th>\n",
       "      <th>1987_Farms</th>\n",
       "      <th>1992_Farms</th>\n",
       "      <th>1997_Farms</th>\n",
       "      <th>2002_Farms</th>\n",
       "      <th>2007_Farms</th>\n",
       "      <th>1982_TTLAcres</th>\n",
       "      <th>1987_TTLAcres</th>\n",
       "      <th>1992_TTLAcres</th>\n",
       "      <th>1997_TTLAcres</th>\n",
       "      <th>2002_TTLAcres</th>\n",
       "      <th>2007_TTLAcres</th>\n",
       "      <th>2002_FarmBear_Acres</th>\n",
       "      <th>2007_FarmBear_Acres</th>\n",
       "      <th>2002_Bear_Acres</th>\n",
       "      <th>2007_Bear_Acres</th>\n",
       "    </tr>\n",
       "  </thead>\n",
       "  <tbody>\n",
       "    <tr>\n",
       "      <th>0</th>\n",
       "      <td>626.0</td>\n",
       "      <td>474.0</td>\n",
       "      <td>479.0</td>\n",
       "      <td>265.0</td>\n",
       "      <td>231.0</td>\n",
       "      <td>1548.0</td>\n",
       "      <td>1217.0</td>\n",
       "      <td>1011.0</td>\n",
       "      <td>968.0</td>\n",
       "      <td>594.0</td>\n",
       "      <td>393.0</td>\n",
       "      <td>191.0</td>\n",
       "      <td>144.0</td>\n",
       "      <td>386.0</td>\n",
       "      <td>307.0</td>\n",
       "    </tr>\n",
       "    <tr>\n",
       "      <th>1</th>\n",
       "      <td>NaN</td>\n",
       "      <td>2.0</td>\n",
       "      <td>4.0</td>\n",
       "      <td>9.0</td>\n",
       "      <td>10.0</td>\n",
       "      <td>NaN</td>\n",
       "      <td>NaN</td>\n",
       "      <td>NaN</td>\n",
       "      <td>2.0</td>\n",
       "      <td>13.0</td>\n",
       "      <td>15.0</td>\n",
       "      <td>8.0</td>\n",
       "      <td>10.0</td>\n",
       "      <td>NaN</td>\n",
       "      <td>NaN</td>\n",
       "    </tr>\n",
       "    <tr>\n",
       "      <th>2</th>\n",
       "      <td>224.0</td>\n",
       "      <td>235.0</td>\n",
       "      <td>158.0</td>\n",
       "      <td>185.0</td>\n",
       "      <td>496.0</td>\n",
       "      <td>1969.0</td>\n",
       "      <td>4881.0</td>\n",
       "      <td>5770.0</td>\n",
       "      <td>4003.0</td>\n",
       "      <td>1581.0</td>\n",
       "      <td>1344.0</td>\n",
       "      <td>118.0</td>\n",
       "      <td>424.0</td>\n",
       "      <td>1459.0</td>\n",
       "      <td>1249.0</td>\n",
       "    </tr>\n",
       "    <tr>\n",
       "      <th>3</th>\n",
       "      <td>451.0</td>\n",
       "      <td>247.0</td>\n",
       "      <td>238.0</td>\n",
       "      <td>164.0</td>\n",
       "      <td>153.0</td>\n",
       "      <td>2276.0</td>\n",
       "      <td>2120.0</td>\n",
       "      <td>1430.0</td>\n",
       "      <td>1048.0</td>\n",
       "      <td>658.0</td>\n",
       "      <td>287.0</td>\n",
       "      <td>123.0</td>\n",
       "      <td>116.0</td>\n",
       "      <td>560.0</td>\n",
       "      <td>220.0</td>\n",
       "    </tr>\n",
       "    <tr>\n",
       "      <th>4</th>\n",
       "      <td>2787.0</td>\n",
       "      <td>3082.0</td>\n",
       "      <td>3454.0</td>\n",
       "      <td>2120.0</td>\n",
       "      <td>2074.0</td>\n",
       "      <td>29933.0</td>\n",
       "      <td>34105.0</td>\n",
       "      <td>42024.0</td>\n",
       "      <td>49704.0</td>\n",
       "      <td>38268.0</td>\n",
       "      <td>22184.0</td>\n",
       "      <td>1850.0</td>\n",
       "      <td>1850.0</td>\n",
       "      <td>35856.0</td>\n",
       "      <td>20954.0</td>\n",
       "    </tr>\n",
       "  </tbody>\n",
       "</table>\n",
       "</div>"
      ],
      "text/plain": [
       "   1987_Farms  1992_Farms  1997_Farms  2002_Farms  2007_Farms  1982_TTLAcres  \\\n",
       "0       626.0       474.0       479.0       265.0       231.0         1548.0   \n",
       "1         NaN         2.0         4.0         9.0        10.0            NaN   \n",
       "2       224.0       235.0       158.0       185.0       496.0         1969.0   \n",
       "3       451.0       247.0       238.0       164.0       153.0         2276.0   \n",
       "4      2787.0      3082.0      3454.0      2120.0      2074.0        29933.0   \n",
       "\n",
       "   1987_TTLAcres  1992_TTLAcres  1997_TTLAcres  2002_TTLAcres  2007_TTLAcres  \\\n",
       "0         1217.0         1011.0          968.0          594.0          393.0   \n",
       "1            NaN            NaN            2.0           13.0           15.0   \n",
       "2         4881.0         5770.0         4003.0         1581.0         1344.0   \n",
       "3         2120.0         1430.0         1048.0          658.0          287.0   \n",
       "4        34105.0        42024.0        49704.0        38268.0        22184.0   \n",
       "\n",
       "   2002_FarmBear_Acres  2007_FarmBear_Acres  2002_Bear_Acres  2007_Bear_Acres  \n",
       "0                191.0                144.0            386.0            307.0  \n",
       "1                  8.0                 10.0              NaN              NaN  \n",
       "2                118.0                424.0           1459.0           1249.0  \n",
       "3                123.0                116.0            560.0            220.0  \n",
       "4               1850.0               1850.0          35856.0          20954.0  "
      ]
     },
     "execution_count": 41,
     "metadata": {},
     "output_type": "execute_result"
    }
   ],
   "source": [
    "apple2.head()"
   ]
  },
  {
   "cell_type": "markdown",
   "metadata": {},
   "source": [
    "Next, tidy the data by melting the data. We have multiple variables in the header and we must melt them individually.  The best way to do this is to melt each variable separately, then combine them back to a single data frame. \n",
    "\n",
    "Do this, you will need to perform multiple melts:\n",
    "1. First melt only the colums that have the number of farms and name the column `Farms`.\n",
    "2. Second, melt only the columns that have the number of acres and name the column `Acres`.\n",
    "3. Third, melt only the columns that have the number of bearing farms and name the column `Bearing_Farms`,\n",
    "4. Fourth, melt only the columns that have the number of bearing acres and name the column `Bearing_Acres`.\n",
    "\n",
    "You'll also want to remove the prefix (e.g. \"Farms-\") from each value after melting and convert the 'Year' column to an integer.\n",
    "\n",
    "For example, after the first melt you should have a dataframe that looks like the following:\n",
    "\n",
    "|  | State | Year | Farms |\n",
    "| - | ----- | ---- | --------- |\n",
    "| 0 | Alabama | 1982 | 899 |\n",
    "| 1 | Alaska | 1982 | NaN |\n",
    "| 2 | Arizona | 1982 | 214 |\n",
    "| 3 | Arkansas | 1982 | 512 |\n",
    "| 4 | California | 1982 | 2904 |"
   ]
  },
  {
   "cell_type": "markdown",
   "metadata": {},
   "source": [
    "Melt #1"
   ]
  },
  {
   "cell_type": "code",
   "execution_count": 61,
   "metadata": {},
   "outputs": [
    {
     "data": {
      "text/html": [
       "<div>\n",
       "<style scoped>\n",
       "    .dataframe tbody tr th:only-of-type {\n",
       "        vertical-align: middle;\n",
       "    }\n",
       "\n",
       "    .dataframe tbody tr th {\n",
       "        vertical-align: top;\n",
       "    }\n",
       "\n",
       "    .dataframe thead th {\n",
       "        text-align: right;\n",
       "    }\n",
       "</style>\n",
       "<table border=\"1\" class=\"dataframe\">\n",
       "  <thead>\n",
       "    <tr style=\"text-align: right;\">\n",
       "      <th></th>\n",
       "      <th>State</th>\n",
       "      <th>Year_VarName</th>\n",
       "      <th>Farms</th>\n",
       "    </tr>\n",
       "  </thead>\n",
       "  <tbody>\n",
       "    <tr>\n",
       "      <th>0</th>\n",
       "      <td>Alabama</td>\n",
       "      <td>1982_Farms</td>\n",
       "      <td>899.0</td>\n",
       "    </tr>\n",
       "    <tr>\n",
       "      <th>1</th>\n",
       "      <td>Alaska</td>\n",
       "      <td>1982_Farms</td>\n",
       "      <td>NaN</td>\n",
       "    </tr>\n",
       "    <tr>\n",
       "      <th>2</th>\n",
       "      <td>Arizona</td>\n",
       "      <td>1982_Farms</td>\n",
       "      <td>214.0</td>\n",
       "    </tr>\n",
       "    <tr>\n",
       "      <th>3</th>\n",
       "      <td>Arkansas</td>\n",
       "      <td>1982_Farms</td>\n",
       "      <td>512.0</td>\n",
       "    </tr>\n",
       "    <tr>\n",
       "      <th>4</th>\n",
       "      <td>California</td>\n",
       "      <td>1982_Farms</td>\n",
       "      <td>2904.0</td>\n",
       "    </tr>\n",
       "  </tbody>\n",
       "</table>\n",
       "</div>"
      ],
      "text/plain": [
       "           State Year_VarName   Farms\n",
       "0        Alabama   1982_Farms   899.0\n",
       "1         Alaska   1982_Farms     NaN\n",
       "2        Arizona   1982_Farms   214.0\n",
       "3       Arkansas   1982_Farms   512.0\n",
       "4     California   1982_Farms  2904.0"
      ]
     },
     "execution_count": 61,
     "metadata": {},
     "output_type": "execute_result"
    }
   ],
   "source": [
    "apple_melt1 = pd.melt(apple2, id_vars='State', var_name='Year_VarName',\n",
    "                      value_name='Farms', ignore_index=True)\n",
    "apple_melt1.head()"
   ]
  },
  {
   "cell_type": "markdown",
   "metadata": {},
   "source": [
    "Melt #2"
   ]
  },
  {
   "cell_type": "code",
   "execution_count": 63,
   "metadata": {},
   "outputs": [
    {
     "data": {
      "text/html": [
       "<div>\n",
       "<style scoped>\n",
       "    .dataframe tbody tr th:only-of-type {\n",
       "        vertical-align: middle;\n",
       "    }\n",
       "\n",
       "    .dataframe tbody tr th {\n",
       "        vertical-align: top;\n",
       "    }\n",
       "\n",
       "    .dataframe thead th {\n",
       "        text-align: right;\n",
       "    }\n",
       "</style>\n",
       "<table border=\"1\" class=\"dataframe\">\n",
       "  <thead>\n",
       "    <tr style=\"text-align: right;\">\n",
       "      <th></th>\n",
       "      <th>0</th>\n",
       "      <th>1</th>\n",
       "    </tr>\n",
       "  </thead>\n",
       "  <tbody>\n",
       "    <tr>\n",
       "      <th>0</th>\n",
       "      <td>1982</td>\n",
       "      <td>Farms</td>\n",
       "    </tr>\n",
       "    <tr>\n",
       "      <th>1</th>\n",
       "      <td>1982</td>\n",
       "      <td>Farms</td>\n",
       "    </tr>\n",
       "    <tr>\n",
       "      <th>2</th>\n",
       "      <td>1982</td>\n",
       "      <td>Farms</td>\n",
       "    </tr>\n",
       "    <tr>\n",
       "      <th>3</th>\n",
       "      <td>1982</td>\n",
       "      <td>Farms</td>\n",
       "    </tr>\n",
       "    <tr>\n",
       "      <th>4</th>\n",
       "      <td>1982</td>\n",
       "      <td>Farms</td>\n",
       "    </tr>\n",
       "    <tr>\n",
       "      <th>...</th>\n",
       "      <td>...</td>\n",
       "      <td>...</td>\n",
       "    </tr>\n",
       "    <tr>\n",
       "      <th>795</th>\n",
       "      <td>2007</td>\n",
       "      <td>Bear_Acres</td>\n",
       "    </tr>\n",
       "    <tr>\n",
       "      <th>796</th>\n",
       "      <td>2007</td>\n",
       "      <td>Bear_Acres</td>\n",
       "    </tr>\n",
       "    <tr>\n",
       "      <th>797</th>\n",
       "      <td>2007</td>\n",
       "      <td>Bear_Acres</td>\n",
       "    </tr>\n",
       "    <tr>\n",
       "      <th>798</th>\n",
       "      <td>2007</td>\n",
       "      <td>Bear_Acres</td>\n",
       "    </tr>\n",
       "    <tr>\n",
       "      <th>799</th>\n",
       "      <td>2007</td>\n",
       "      <td>Bear_Acres</td>\n",
       "    </tr>\n",
       "  </tbody>\n",
       "</table>\n",
       "<p>800 rows × 2 columns</p>\n",
       "</div>"
      ],
      "text/plain": [
       "        0           1\n",
       "0    1982       Farms\n",
       "1    1982       Farms\n",
       "2    1982       Farms\n",
       "3    1982       Farms\n",
       "4    1982       Farms\n",
       "..    ...         ...\n",
       "795  2007  Bear_Acres\n",
       "796  2007  Bear_Acres\n",
       "797  2007  Bear_Acres\n",
       "798  2007  Bear_Acres\n",
       "799  2007  Bear_Acres\n",
       "\n",
       "[800 rows x 2 columns]"
      ]
     },
     "execution_count": 63,
     "metadata": {},
     "output_type": "execute_result"
    }
   ],
   "source": [
    "apple_melt1['Year_VarName'].str.split('_', n=1, expand=True)\n"
   ]
  },
  {
   "cell_type": "markdown",
   "metadata": {},
   "source": [
    "Melt #3"
   ]
  },
  {
   "cell_type": "code",
   "execution_count": null,
   "metadata": {},
   "outputs": [],
   "source": []
  },
  {
   "cell_type": "markdown",
   "metadata": {},
   "source": [
    "Melt #4"
   ]
  },
  {
   "cell_type": "code",
   "execution_count": null,
   "metadata": {},
   "outputs": [],
   "source": []
  },
  {
   "cell_type": "markdown",
   "metadata": {},
   "source": [
    "Now combine all four melted dataframes into a single dataframe. To do this we can use the [pd.DataFrame.join()](https://pandas.pydata.org/docs/reference/api/pandas.DataFrame.join.html) function. We will need to join one table at a time.  \n",
    "\n",
    "Note: when you join tables they must have the same indexes. So, be sure to set the index of each dataframe before joining by using the [set_index()](https://pandas.pydata.org/docs/reference/api/pandas.DataFrame.set_index.html) function."
   ]
  },
  {
   "cell_type": "code",
   "execution_count": null,
   "metadata": {},
   "outputs": [],
   "source": [
    "# Set the indexes to be the same\n"
   ]
  },
  {
   "cell_type": "code",
   "execution_count": null,
   "metadata": {},
   "outputs": [],
   "source": [
    "# Join all of the tables.\n"
   ]
  },
  {
   "cell_type": "markdown",
   "metadata": {},
   "source": [
    "What's the shape of the data now?"
   ]
  },
  {
   "cell_type": "code",
   "execution_count": null,
   "metadata": {},
   "outputs": [],
   "source": []
  },
  {
   "cell_type": "markdown",
   "metadata": {},
   "source": [
    "Do we have any duplicated rows now?"
   ]
  },
  {
   "cell_type": "code",
   "execution_count": null,
   "metadata": {},
   "outputs": [],
   "source": []
  },
  {
   "cell_type": "code",
   "execution_count": null,
   "metadata": {},
   "outputs": [],
   "source": []
  },
  {
   "cell_type": "markdown",
   "metadata": {},
   "source": [
    "Now, do we want to remove missing values?"
   ]
  },
  {
   "cell_type": "raw",
   "metadata": {},
   "source": []
  },
  {
   "cell_type": "code",
   "execution_count": null,
   "metadata": {},
   "outputs": [],
   "source": []
  },
  {
   "cell_type": "markdown",
   "metadata": {},
   "source": [
    "### Explore the Data Again"
   ]
  },
  {
   "cell_type": "markdown",
   "metadata": {},
   "source": [
    "Now that we have our data fully cleaned and tidy'ed let's explore it to make sure all looks good. First, we should still have 50 states. Can you find out?"
   ]
  },
  {
   "cell_type": "code",
   "execution_count": null,
   "metadata": {},
   "outputs": [],
   "source": []
  },
  {
   "cell_type": "markdown",
   "metadata": {},
   "source": [
    "How many years do we have per state? We should have the same number except for the states where we removed rows with missing values"
   ]
  },
  {
   "cell_type": "code",
   "execution_count": null,
   "metadata": {},
   "outputs": [],
   "source": []
  },
  {
   "cell_type": "markdown",
   "metadata": {},
   "source": [
    "Describe the data, but make sure it does so by state."
   ]
  },
  {
   "cell_type": "code",
   "execution_count": null,
   "metadata": {},
   "outputs": [],
   "source": []
  }
 ],
 "metadata": {
  "kernelspec": {
   "display_name": "Python 3 (ipykernel)",
   "language": "python",
   "name": "python3"
  },
  "language_info": {
   "codemirror_mode": {
    "name": "ipython",
    "version": 3
   },
   "file_extension": ".py",
   "mimetype": "text/x-python",
   "name": "python",
   "nbconvert_exporter": "python",
   "pygments_lexer": "ipython3",
   "version": "3.9.13"
  }
 },
 "nbformat": 4,
 "nbformat_minor": 4
}
