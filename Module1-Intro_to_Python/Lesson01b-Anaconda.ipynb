{
 "cells": [
  {
   "cell_type": "markdown",
   "id": "2e4f49db-44bb-43d1-96a6-3c0aaaab4782",
   "metadata": {},
   "source": [
    "# Software Setup"
   ]
  },
  {
   "cell_type": "markdown",
   "id": "15d7c554-7e35-48d1-b30b-34d342511ca0",
   "metadata": {},
   "source": [
    "For this course we need to have the Python interpreter installed. Additionally, we will also use popular 3rd-party libraries that have been created for Python.  To make this easy we will use the software package Anaconda, which make it easy for us to manage Python on our local machines.  Instructions are provided below for three operating systems: Windows, OS X and Ubuntu.  Follow the instructions that match the machine you are using."
   ]
  },
  {
   "cell_type": "markdown",
   "id": "6f00c5e9-cf28-4a64-a096-534617dbc8fa",
   "metadata": {},
   "source": [
    "## Anaconda Installation on Windows\n",
    "**Step 1**: These instructions assume Windows 10.\n",
    "\n",
    "**Step 2**: Download the Anaconda 3.9 installer for Windows at https://www.anaconda.com/download/#windows.  \n",
    "\n",
    "**Step 3**: Double click the installer for Python 3.9 to launch.  \n",
    "\n",
    "**Step 4**: View and accept the license terms.\n",
    "\n",
    "**Step 5**: Select and install for “Just Me”.\n",
    "\n",
    "**Step 6**: Accept the default installation location.\n",
    "\n",
    "**Step 7**: Do not select “Add Anaconda to my PATH environment variable.”\n",
    "\n",
    "**Step 8**: Do select “Register Anaconda as my default Python 3.8.”\n",
    "\n",
    "**Step 9**: Click “Install”.\n",
    "\n",
    "**Step 10**: Skip installing VS Code when asked.\n",
    "\n",
    "**Step 11**: After installation you will have three new installed tools:  Anaconda Navigator, Spyder and Jupyter \n",
    "Notebook.\n",
    "\n",
    "**Step 12**: Confirm the installation by opening Anaconda Navigator. If navigator opens you have been successfull, otherwise contact an instructor for help.\n"
   ]
  },
  {
   "cell_type": "markdown",
   "id": "34e79e40-428b-4c62-9d4c-e2fd3d222df0",
   "metadata": {},
   "source": [
    "## Anaconda Installation on Ubuntu Linux\n",
    "This assumes an x86 system. While these instructions should work for most Linux distributions, for this class we can only support Ubuntu LTS releases\n",
    "\n",
    "**Step 1**: Download the Anaconda 3.9 installer for Linux from https://www.anaconda.com/download/#linux \n",
    "\n",
    "**Step 2**: Run the downloaded installer fileby entering the following command\n",
    "\n",
    "```bash\n",
    "bash ~/Downloads/Anaconda3-2022.10-Linux-x86_64.sh\n",
    "```\n",
    "\n",
    "If you did not download the installer to your `Downloads` directory, replace `~/Downloads/` above with the path where you downloaded the file. During installation, choose “Install Anaconda as a user”.\n",
    "\n",
    "**Step 3**: View and accept the license terms\n",
    "\n",
    "**Step 4**: Accept the default installation location\n",
    "\n",
    "**Step 5**: The installer prompts “Do you wish the installer to prepend the Anaconda3 install location to PATH in your `/home/<user>/.bashrc` ?” Enter Yes\n",
    "\n",
    "**Step 6**: The installer will then ask if you would like to install VS Code. This is a text editor, select No. This program can be installed later if you desire\n",
    "\n",
    "**Step 7**: The installer should finish and display “Thank you for installing Anaconda3!”\n",
    "\n",
    "**Step 8**: Close and open your terminal window, or, use the command source ~/.bashrc for the installation to take effect.\n",
    "\n",
    "**Step 9**: Confirm the installation by typing anaconda-navigator into a terminal window. If navigator opens the installation was successful, otherwise contact the instructor or another student for help."
   ]
  },
  {
   "cell_type": "markdown",
   "id": "1fc36f5b-f279-4a59-9bf5-822ee85610f6",
   "metadata": {},
   "source": [
    "## Anaconda Installation on MacOS\n",
    "**Step 1**: These instructions assume a recent MacOS version, High Sierra or newer.\n",
    "\n",
    "**Step 2**: Download the Anaconda 3.9 installer for MacOS: https://www.anaconda.com/downloads#macos \n",
    "\n",
    "**Step 3**: Double click the installer to launch.\n",
    "\n",
    "**Step 4**: View and accept the license terms.\n",
    "\n",
    "**Step 5**: Select an install for your home user directory.\n",
    "\n",
    "**Step 6**: Select continue to install Anaconda.\n",
    "\n",
    "**Step 7**: Skip installing VS Code for now.\n",
    "\n",
    "**Step 8**: Confirm the installation by opening Anaconda Navigator. If navigator opens you have been successful, otherwise contact an instructor for help.\n"
   ]
  }
 ],
 "metadata": {
  "kernelspec": {
   "display_name": "Python 3 (ipykernel)",
   "language": "python",
   "name": "python3"
  },
  "language_info": {
   "codemirror_mode": {
    "name": "ipython",
    "version": 3
   },
   "file_extension": ".py",
   "mimetype": "text/x-python",
   "name": "python",
   "nbconvert_exporter": "python",
   "pygments_lexer": "ipython3",
   "version": "3.9.7"
  }
 },
 "nbformat": 4,
 "nbformat_minor": 5
}
