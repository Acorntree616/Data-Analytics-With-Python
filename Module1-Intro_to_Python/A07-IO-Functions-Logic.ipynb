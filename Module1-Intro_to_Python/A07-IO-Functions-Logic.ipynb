{
 "cells": [
  {
   "cell_type": "markdown",
   "id": "cc0e8238-2923-4ee1-acf7-27fe6851271c",
   "metadata": {},
   "source": [
    "# Assignment 7 - File IO, Functions and Logic"
   ]
  },
  {
   "cell_type": "markdown",
   "id": "532a1c75-5428-4a58-bd14-038c8efb065e",
   "metadata": {
    "tags": []
   },
   "source": [
    "## Table of Contents\n",
    "- [Learning Objectives](#section-objectives)\n",
    "- [Instructions](#section-instructions)\n",
    "- [Background](#section-background)\n",
    "- [Tips for Success](#section-tips)\n",
    "- [1. File Input/Output (IO)](#section-1)\n",
    "  - [1.1. Opening a file](#section-1.1)\n",
    "  - [1.2. The File Object](#section-1.2)\n",
    "  - [1.3. Reading from a file](#section-1.3)\n",
    "    - [1.3.1. The read() Function](#section-1.3.1)\n",
    "    - [1.3.2. The readline() Function](#section-1.3.2)\n",
    "  - [1.4. Closing a file](#section-1.4)\n",
    "  - [1.5. Writing to a file](#section-1.5)\n",
    "    - [1.5.1. The write() function](#section-1.5.1)\n",
    "    - [1.5.2. Write with print()](#section-1.5.2)\n",
    "  - [1.6. Character Encoding](#section-1.6)\n",
    "  - [1.7. Splitting a line](#section-1.7)\n",
    "  - [1.8. Function Chains](#section-1.8)\n",
    "  - [1.9. Unpacking](#section-1.9)\n",
    "  - [1.10. Type Casting](#section-1.10)\n",
    "- [2. Python Documentation](#section-2)\n",
    "- [3. Functions](#section-3)\n",
    "- [4. Logic](#section-4)\n",
    "- [Expected Outcomes](#section-outcomes)\n",
    "- [What to turn in](#section-turn_in)\n"
   ]
  },
  {
   "cell_type": "markdown",
   "id": "f68d4975-9cb9-4ac7-94c9-bdd7befbf3e7",
   "metadata": {},
   "source": [
    "## Learning Objectives <a id=\"section-objectives\"></a>\n",
    "This lesson meets the following learning objectives:\n",
    "\n",
    "1. Program linear scripts in python.\n",
    "2. Program scripts that include functions, logic, and control statements\n",
    "\n",
    "\n",
    "You will meet these objectives by learning to read and write to files, write functions and use logic in programs."
   ]
  },
  {
   "cell_type": "markdown",
   "id": "1ce6686a-0011-41c4-be71-ceea970cee6e",
   "metadata": {
    "jp-MarkdownHeadingCollapsed": true,
    "tags": []
   },
   "source": [
    "## Instructions <a id=\"section-instructions\"></a>\n",
    "Read through all of the text in this page. This assignment provides step-by-step training divided into numbered sections. The sections often contain embeded exectable code for demonstration.  Section headers with icons have special meanings: \n",
    "\n",
    "- <i class=\"fas fa-puzzle-piece\"></i> The puzzle icon indicates that the section provides a practice exercise that must be completed.  Follow the instructions for the exercise and do what it asks.  Exercises must be turned in for credit.\n",
    "- <i class=\"fa fa-cogs\"></i> The cogs icon indicates that the section provides a task to perform.  Follow the instructions to complete the task.  Tasks are not turned in for credit but must be completed to continue progress.\n",
    "\n",
    "Review the list of items in the **Expected Outcomes** section to check that you feel comfortable with the material you just learned. If you do not, then take some time to re-review that material again. If after re-review you are not comfortable, do not feel confident or do not understand the material, please ask questions on Slack to help.\n",
    "\n",
    "Follow the instructions in the **What to turn in** section to turn in the exercises of the assginment for course credit."
   ]
  },
  {
   "cell_type": "markdown",
   "id": "ca57605c-a6a5-4c70-8c97-aff7a6b9e997",
   "metadata": {},
   "source": [
    "## Background <a id=\"section-background\"></a>\n",
    "In this lesson we will learn how to read data from files, write data to files, write new functions and use logic.  One of the most important tasks in data analytics is the ability to read data files into your Python scripts and to write files with results or reformatted data.  The process of reading and writing files is also referred to as File Input/Output or File IO.  Next, functions are a critical component of all modern programming languages. They provide several benefits.  They help you to simplify your programs and encapsulate commonly used code into reusable bits of code. Lastly, programs must be able to make decisions and logic is key to programming decision making."
   ]
  },
  {
   "cell_type": "markdown",
   "id": "d75866dd-cb96-4e8d-9bd5-6138b45ef8fa",
   "metadata": {},
   "source": [
    "## Tips for Success <a id=\"section-tips\"></a>\n",
    "As a reminder, here is a quick list of the tips for success from [Assignment 6 - Python Basics](A06-Python-Basics.ipynb)\n",
    "\n",
    "* <i class=\"fas fa-clone\"></i> **Do not cut-and-paste**.\n",
    "* <i class=\"fas fa-wrench\"></i> **Do each practice excercise**.\n",
    "* <i class=\"fas fa-clock\"></i> **Take time to understand**.\n",
    "* <i class=\"fas fa-question-circle\"></i> **Ask for help**.\n",
    "* <i class=\"fas fa-users\"></i> **Do not compare yourself**."
   ]
  },
  {
   "cell_type": "markdown",
   "id": "3cee7fb1-b719-4562-969e-51c86e1e9c9a",
   "metadata": {},
   "source": [
    "## 1. File Input/Output (IO) <a id=\"section-1\"></a>\n",
    "Python provides a built-in function named `open()` that allows you to open a file either for reading or writing. We will learn to use it to do both.  There are two types of files that Python can open: plain **text** files and **binary** files.  A text file contains human-readable text.  It may have some special encodings, which we will learn about, but in general you can open it with any text editor and read it.  A binary file is one where the contents are machine-readable. The language of the computer is 1's and 0's (binary). These files store information in patterns of 1's and 0's that are not legible by a human. If you open one with a text editor you will often see a series of illegible characters. Text and binary files can store the same information but binary files can be organized to access data more quickly and store data more compactly.  In data analytics, many data files are plain text files, often in tab-delimited, or comma-separated formats.  In this lesson, we will learn read and write text files only. Binary files are more complicated and if you see a binary file that needs reading there is often a Python library with functions that you can use to read the file for you."
   ]
  },
  {
   "cell_type": "markdown",
   "id": "39af4281-7666-4bcb-816c-4cf0fc94879f",
   "metadata": {},
   "source": [
    "### 1.1. Opening a File <a id=\"section-1.1\"></a>\n",
    "In Python, opening a file asks Python to give **access** to a file.  As part of the open process, Python will reserve a **file handle** which is like a cursor in a word processor. The file handle indicates precisely where you are in the file.  When the file is first openend, the file handle is placed at the beginning of the file.\n",
    "\n",
    "The `open()` function can take several arguments but only the file name is required if we want to open a file for reading.  The `open()` function will then return an **object** that will allow us to perform operations on the file--such as reading its contents.  \n",
    "\n",
    "Suppose we had a file named `my_data.csv`.  We can open that file by simply passing the filename to the `open()` function:\n",
    "\n",
    "```python\n",
    "data = open(\"my_data.csv\")\n",
    "```\n",
    "\n",
    "The above line of code will work only if the `my_data.csv` file is in the same directory where the script is being run.  If the file is located elsewhere you can provide the path to the file. This can be the absolute path ora relative path. Remember, we learned about the path in [Assignment 3: The Command-line](A03-Command-line.ipynb).  Suppose the file were located in our home directory we could use the following:\n",
    "\n",
    "```python\n",
    "data = open(\"~/my_data.csv\")\n",
    "```\n",
    "\n",
    "Or for an absolute path to our home directory if located at `/Users/bob`:\n",
    "```python\n",
    "data = open(\"/Users/bob/my_data.csv\")\n",
    "```\n",
    "\n",
    "Of if on a Windows machine:\n",
    "\n",
    "```python\n",
    "data = open(\"C:\\Users\\bob\\my_data.csv\")           \n",
    "```\n",
    "\n",
    "In all three examples of the `open()` function, it returns a **file object** and stores that object in a variable named `data`.  "
   ]
  },
  {
   "cell_type": "markdown",
   "id": "a8e79aa2-2726-4fec-981a-0ad61403e870",
   "metadata": {},
   "source": [
    "### 1.2. The File Object <a id=\"section-1.2\"></a>\n",
    "In the previous section, the code examples created a new `data` varible that houses a file object created by opening a file.  We have seen objects before. You may recall in the [Assignment 6 - Python Basics](A06-Python-Basics.ipynb) lesson that strings are objects too. Objects have functions. Remember, we used the `format` function of a string object to format the string for printing?  Similarly, the file object has functions that allows you to perform operations on the newly opened file.  The table below lists some commonly used functions of the file object.\n",
    "\n",
    "| Function Name | Purpose | \n",
    "| ------------- | ------- |\n",
    "| `read()` | Reads *all* of the contents from a file and returns it.|\n",
    "| `readline()` | Reads a one line at a time from the file. Repeated calls to this function will read successive lines in the file.|\n",
    "| `write()` | Writes a line to the file.| \n",
    "| `seek()` | Moves the file handle to a new location in the file.|\n",
    "| `close()` | Closes the file--no more reads from or writes to the file can occur. |\n",
    "\n",
    "\n",
    "Just like with string objects, you **invoke** or **call** functions on file object concatenating to the variable a period `.` and the function name.  For example, to close the file you would use the following:\n",
    "\n",
    "```python\n",
    "data.close()\n",
    "```"
   ]
  },
  {
   "cell_type": "markdown",
   "id": "729e9c7c-98d3-4dfd-be75-dacb41baddb6",
   "metadata": {},
   "source": [
    "### 1.3. Reading a file <a id=\"section-1.3\"></a>\n",
    "Once the file is opened and you have a file object, you can read the file by using either the `read()` function or the `readline()` function. "
   ]
  },
  {
   "cell_type": "markdown",
   "id": "e3d8384b-b9d6-42f1-9bce-ec2e77947ad7",
   "metadata": {},
   "source": [
    "#### 1.3.1. The `read()` Function <a id=\"section-1.3.1\"></a>\n",
    "\n",
    "As indicated in the table of section 1.1.2, the `read()` function will read the entire contents of a file and returns it.  You must store those contents in some variable for further action:\n",
    "\n",
    "```python\n",
    "# Open the file\n",
    "my_file = open(\"~/my_data.csv\")\n",
    "\n",
    "# Do something with the file contents\n",
    "contents = my_file.read()\n",
    "print(contents)\n",
    "```\n",
    "\n",
    "In the code above, the `open()` function creates a file object and gives your program access to the file. It also sets the file cursor at the beginning of the file.  Next, the `my_file.read()` function call will read all of the contents of the file and returns it as a large string object. That string object gets stored in the variable named `contents`. \n",
    "\n",
    "Lets read a real data file.  In the [Day 3 Exercises: The Command-line & Git](D03-Command_Line-git.ipynb) notebook we learned about the Iris dataset.  You can review the background in that notebook to learn about the dataset, but lets use the Iris dataset to practice.   A copy of the data file is found in this repository in the `data` folder named `iris_data.csv`. The following code will open that file, retrieve its contents print the number of characters in the file and then close the file:"
   ]
  },
  {
   "cell_type": "code",
   "execution_count": null,
   "id": "58f0b6a6-7655-4e96-9d6e-42e0850b0c15",
   "metadata": {},
   "outputs": [],
   "source": [
    "# Open the iris_data.csv file. It is in the data folder.\n",
    "iris_file = open(\"./data/iris_data.csv\")\n",
    "\n",
    "# Read all the contents of the iris data.\n",
    "iris_data = iris_file.read()\n",
    "\n",
    "# Print the number of characters in the file.\n",
    "print(len(iris_data))\n",
    "\n",
    "# Close the file.\n",
    "iris_file.close()"
   ]
  },
  {
   "cell_type": "markdown",
   "id": "3f4cda93-65fe-4781-afa7-ab5fec6c36f6",
   "metadata": {},
   "source": [
    "To count the number of characters we can use the built-in `len()` function. It will return a number specifying the number of characters in the `iris_data` string object.\n",
    "\n",
    "<div class=\"alert alert-warning\">\n",
    "    <b>Critical</b>: The <i>read()</i> function is simple to use, but is not practical for really large files. This is because variables are stored in your computer's main memory (its RAM).  For small files storing the entire contents in a variable (or main memory) will not be problematic. But consider a file of 6GB in size.  Does your computer have enough RAM to load such a file in main memory?\n",
    "</div>"
   ]
  },
  {
   "cell_type": "markdown",
   "id": "241f823c-9d15-4fa9-82e5-c1f4c8fcc781",
   "metadata": {},
   "source": [
    "#### 1.3.2. The `readline()` Function <a id=\"section-1.3.2\"></a>\n",
    "The `readline()` function is similar to the `read()` function but it does not read the entire contents of the file, instead it will read only one line at a time.  This is really useful for large files. Unlike the `read()` function, you will not be storing the entire contents of a file in your computer's main memory. Instead, you only store one line at a time.  The following code example will retrieve the first two lines of a file:\n",
    "\n",
    "```python\n",
    "# Open the file\n",
    "my_file = open(\"~/my_data.csv\")\n",
    "\n",
    "# Do something with the file contents\n",
    "line1 = my_file.readline()\n",
    "line2 = my_file.readline()\n",
    "print(line1)\n",
    "print(line2)\n",
    "```\n",
    "In the code sample above, the calls to `my_file.readline()` each return a string object that gets stored in the variables `line1` and `line2` respectively.\n",
    "\n",
    "Lets try the same approach on the Iris dataset:"
   ]
  },
  {
   "cell_type": "code",
   "execution_count": null,
   "id": "dc7f18bb-3b08-4bc2-b5c7-59822ea70ee4",
   "metadata": {},
   "outputs": [],
   "source": [
    "# Open the iris_data.csv file. It is in the data folder.\n",
    "iris_file = open(\"./data/iris_data.csv\")\n",
    "\n",
    "# Read all the first two lines of the Iris dataset and print them.\n",
    "line1 = iris_file.readline()\n",
    "line2 = iris_file.readline()\n",
    "print(line1)\n",
    "print(line2)\n",
    "\n",
    "# Close the file.\n",
    "iris_file.close()"
   ]
  },
  {
   "cell_type": "markdown",
   "id": "e6a6b900-fb7c-42aa-a9f9-edb7713fc099",
   "metadata": {},
   "source": [
    "We learn a bit about the Iris dataset by printing the first two lines. We learn that the file is comma-seperated (although that was obvious from the file extension `.csv`). We also learn that the file has a header line that contains the names: `sepal_length,sepal_width,petal_length,petal_width,species`.  Lastly, we see that the the first columns of data are numeric (continuous) data and the last column is text.  \n",
    "\n",
    "Take a moment to click on the `iris_data.csv` file in the `data` folder.  You will notice that JupyterLab gives you a nice tabular view of the data where the rows and columns are clearly visible.\n",
    "\n",
    "<img src=\"media/A07-jupyter_data.png\"></src>\n"
   ]
  },
  {
   "cell_type": "markdown",
   "id": "c66d6e27-0758-47d9-bb5d-1201b789cfa0",
   "metadata": {},
   "source": [
    "From this view of the file in JupyterLab you see the first two lines of the file match the lines we printed in the cell above. However, when we printed the first two lines there is an extra line between the header and the first line of data: \n",
    "\n",
    "```\n",
    "sepal_length,sepal_width,petal_length,petal_width,species\n",
    "\n",
    "5.1,3.5,1.4,0.2,setosa\n",
    "```\n",
    "\n",
    "This extra line is not present in the data file! How did that extra line get there?  The answer is that when we read each line we are also reading in the line ending characters. In windows these are `\\r\\n`, in OS X it is just `\\r` and in Linux it is `n`.  The extra line is added by the `print()` function! The `print()` function will always add a new line to the end of anything it prints.  There are two ways to fix, or exclude, the extra line.\n",
    "\n",
    "**Method 1**: The first way to avoid an extra line in the output is to tell the `print()` function not to add the line endings. We know the string already has them, so the print function does not need to add them.  This is done by giving the named argument `end` to the function and setting it to the empty string. For example:\n",
    "\n",
    "```python\n",
    "print(line1, end=\"\")\n",
    "```\n",
    "The following code fixes the extra line in the output using this method:"
   ]
  },
  {
   "cell_type": "code",
   "execution_count": null,
   "id": "73d6c0d1-262d-4d86-b653-c9803f4caaa1",
   "metadata": {},
   "outputs": [],
   "source": [
    "# Open the iris_data.csv file. It is in the data folder.\n",
    "iris_file = open(\"./data/iris_data.csv\")\n",
    "\n",
    "# Read all the first two lines of the Iris dataset and print them.\n",
    "line1 = iris_file.readline()\n",
    "line2 = iris_file.readline()\n",
    "print(line1, end=\"\")\n",
    "print(line2, end=\"\")\n",
    "\n",
    "# Close the file.\n",
    "iris_file.close()"
   ]
  },
  {
   "cell_type": "markdown",
   "id": "e7a0e56a-abc4-47e3-b9ba-f26aa2727668",
   "metadata": {},
   "source": [
    "**Method 2**: The second way to avoid an extra line in the output is to remove the line ending from the string.  This is done by calling the `strip` function that belongs to the string object. The strip function removes all white space in front of and at the end of the string. For example:\n",
    "\n",
    "```python\n",
    "print(line1.strip())\n",
    "```\n",
    "The following code fixes the extra line in the output using this method:"
   ]
  },
  {
   "cell_type": "code",
   "execution_count": null,
   "id": "92d9d2e2-a2f5-4881-a95f-9f8269f4e227",
   "metadata": {},
   "outputs": [],
   "source": [
    "# Open the iris_data.csv file. It is in the data folder.\n",
    "iris_file = open(\"./data/iris_data.csv\")\n",
    "\n",
    "# Read all the first two lines of the Iris dataset and print them.\n",
    "line1 = iris_file.readline()\n",
    "line2 = iris_file.readline()\n",
    "print(line1.strip())\n",
    "print(line2.strip())\n",
    "\n",
    "# Close the file.\n",
    "iris_file.close()"
   ]
  },
  {
   "cell_type": "markdown",
   "id": "d11779f9-1892-4db6-b11c-4c9e35613981",
   "metadata": {},
   "source": [
    "Notice in method #2 the print function is allowed to add line endings because we stripped them out with the `strip()` function.  "
   ]
  },
  {
   "cell_type": "markdown",
   "id": "a74e9db7-46df-4aae-89ab-255d03221f3a",
   "metadata": {},
   "source": [
    "##  <i class=\"fas fa-puzzle-piece\"></i> Practice\n",
    "What would happen if you used both methods to exclude the end of line characters?  Write in the box below what you think would happen. Then, in the next cell write the code that would use both methods and see if it matches what you thought would happen."
   ]
  },
  {
   "cell_type": "raw",
   "id": "76b22951-ff0f-4c6d-bda7-40eb238919ec",
   "metadata": {},
   "source": []
  },
  {
   "cell_type": "code",
   "execution_count": null,
   "id": "cd991a5b-0bf6-4d5a-83dc-c9de1e28bb76",
   "metadata": {},
   "outputs": [],
   "source": []
  },
  {
   "cell_type": "markdown",
   "id": "114d65bb-ebe0-441f-b8be-0db80718ecfe",
   "metadata": {},
   "source": [
    "### 1.4. Closing a file <a id=\"section-1.4\"></a>\n",
    "As we learned in the table of section 1.1.2, the `close()` function is used for closing a file. Once closed, no more read or write operations can be performed on the file. You would need to re-open the file if you want to perform additional operations.  The following code provides a complete example for opening, reading from a file and then properly closing it. \n",
    "\n",
    "```python\n",
    "# Open the file\n",
    "my_file = open(\"~/my_data.csv\")\n",
    "\n",
    "# Do something with the file contents\n",
    "contents = my_file.read()\n",
    "print(contents)\n",
    "\n",
    "# Close the file\n",
    "my_file.close()\n",
    "```\n",
    "\n",
    "You should always close any file you open before the program terminates.  Python will give a warning when you run the program if you fail to close a file.  Actually, despite the warning, Python will close the file for you. For a short program like the code above, the warning is only annoying. But for scripts that open lots of files it can be problematic if you forget to close a file.  This is because operating systems (Windows, OS X, Linux) have limits on the number of file handles you can have open at once.  If you open thousands of files and do not close them, you can use up all of the available file handles and no other program on your computer, including your program, can open files until your program terminates.\n",
    "\n",
    "<div class=\"alert alert-warning\">\n",
    "    <b>Critical</b>: Always close open files in the code prior to the end of the program!\n",
    "</div>"
   ]
  },
  {
   "cell_type": "markdown",
   "id": "cc4c5bd1-d1e2-472f-aeeb-25a35e4f86a8",
   "metadata": {},
   "source": [
    "### 1.5 Writing to a File <a id=\"section-1.5\"></a>"
   ]
  },
  {
   "cell_type": "markdown",
   "id": "80e1f598-b802-4646-a12a-94b0c4fd9067",
   "metadata": {},
   "source": [
    "We learned to get access to a file we need to first use the `open()` function.  By default, the `open()` function will *only* open the file for reading. It will not allow us to write to the file.  We need to provide a second argument to tell Python to give us access to write to the file.  This second argument is called **mode**. To open a file for writing we need need to set the mode to the string `\"w\"`. For example:\n",
    "\n",
    "```python\n",
    "# Open the file for writing.\n",
    "my_file = open(\"~/my_data.csv\", \"w\")\n",
    "```\n",
    "\n",
    "Notice, in the instruction above, the second argument to the `open` function is the string `\"w\"`. This tells Python to open the file for writing.   The `\"w\"`, or \"write\", mode will also create the file if it does not exist.  This is convenient because we do not have to precreate the file.  But, what if the file already exsits? If we use the `\"w\"` mode and the file exists then the file will be opend for writing but all existing contents will be removed. The file will become empty and the file handle will be set at the beginning of the file, ready for us to add new content.  If the file exists and we do not want to erase the contents we can use the `\"a\"` mode (for \"append\").  The `\"a\"` mode will open the file for writing, it will not empty the file contents, and it will set the file handle at the end of the file. Once the file is opened and ready for writing, then there are two ways we can write to a file: using the `write()` method of the file object or, using the `print()` function."
   ]
  },
  {
   "cell_type": "markdown",
   "id": "8af65646-e67b-4ab1-a437-1cbe8161fe44",
   "metadata": {},
   "source": [
    "#### 1.5.1. The `write()` Function <a id=\"section-1.5.1\"></a>\n",
    "Writing to a file is relatively easy using the file handle's `write()` function by providing the string to write as an argument. For example:\n",
    "\n",
    "```python\n",
    "# Open the file for writing.\n",
    "my_file = open(\"new_data.txt\", \"w\")\n",
    "\n",
    "# Write text to the file.\n",
    "my_file.write(\"How now brown cow.\\n\")\n",
    "my_file.write(\"The quick brown fox jumped over the lazy dog.\\n\")\n",
    "\n",
    "# Close the file.\n",
    "my_file.close()\n",
    "```\n",
    "\n",
    "In the code above, a file named `new_data.txt` will be created and two new lines will be added. Notice that at the end of each string provided to the `write()` function that we have a newline character `\\n`? Unlike the print function, the `write()` function does not automatically add a new line of the string. You have to specify where you want new lines.  The following `write()` call would accomplish the same results as the two lines shown in the code above:\n",
    "\n",
    "```python\n",
    "my_file.write(\"How now brown cow.\\nThe quick brown fox jumped over the lazy dog.\\n\")\n",
    "```\n",
    "\n",
    "The `write()` function doesn't expect the new line character to be at the end of the line. You control where those appear in the string.\n",
    "\n",
    "Let's run the code and see what happens: "
   ]
  },
  {
   "cell_type": "code",
   "execution_count": null,
   "id": "7cab8e35-60fe-462a-b912-06e18d739d4c",
   "metadata": {},
   "outputs": [],
   "source": [
    "my_file = open(\"new_data.txt\", \"w\")\n",
    "\n",
    "# Write text to the file.\n",
    "my_file.write(\"How now brown cow.\\n\")\n",
    "my_file.write(\"The quick brown fox jumped over the lazy dog.\\n\")\n",
    "\n",
    "# Close the file.\n",
    "my_file.close()"
   ]
  },
  {
   "cell_type": "markdown",
   "id": "de57c5ee-e2d2-4a97-b1df-22620226fa76",
   "metadata": {},
   "source": [
    "The above code does not print any output when the cell is run, but it does create a new file named `new_data.txt`. It should appear in the file browser to the right in JupyterLab. If you click the file you can see the contents. Do they match what we expect?"
   ]
  },
  {
   "cell_type": "markdown",
   "id": "eb523959-0c78-4d62-b43e-e626aa1f4a00",
   "metadata": {},
   "source": [
    "#### 1.5.2. Write With `print()` <a id=\"section-1.5.2\"></a>\n",
    "The `write()` function provides an easy way to write contents to a file. But you can also use the `print()` function.  To do this, you can provide a new named argument called `file` where you specify the file object.  For example:\n",
    "\n",
    "```python\n",
    "my_file = open(\"new_data2.txt\", \"w\")\n",
    "\n",
    "# Write text to the file.\n",
    "print(\"How now brown cow.\", file=my_file)\n",
    "print(\"The quick brown fox jumped over the lazy dog.\", file=my_file)\n",
    "\n",
    "# Close the file.\n",
    "my_file.close()\n",
    "\n",
    "```\n",
    "Notice in the code above that the `print` function recieves a new named argument called `file` set to the name of the file object.  Also notice, we did not include the line endings in the string like we did for the `write()` function. This is because the print function will add the line endings (unless we tell it not to).  Lets run this code and see for ourselves if the output is identical to the output from Section 1.5.1"
   ]
  },
  {
   "cell_type": "code",
   "execution_count": null,
   "id": "37af502d-4e60-4d72-b498-bc73b9ce2230",
   "metadata": {},
   "outputs": [],
   "source": [
    "my_file = open(\"new_data2.txt\", \"w\")\n",
    "\n",
    "# Write text to the file.\n",
    "print(\"How now brown cow.\", file=my_file)\n",
    "print(\"The quick brown fox jumped over the lazy dog.\", file=my_file)\n",
    "\n",
    "# Close the file.\n",
    "my_file.close()"
   ]
  },
  {
   "cell_type": "markdown",
   "id": "fdd984f8-436a-4bc2-9b1f-b9f10d562020",
   "metadata": {},
   "source": [
    "Open the file named `new_data2.txt`. Are the contents the same as `new_data.txt`?  You will not need to commit these two files at the end of this lesson, so feel free to delete the `new_data.txt` and `new_data2.txt` files if you like."
   ]
  },
  {
   "cell_type": "markdown",
   "id": "93adef12-a7cb-4ba7-a80b-06e55ae20d61",
   "metadata": {},
   "source": [
    "### 1.6. Character Encoding <a id=\"section-1.6\"></a>\n",
    "In the early days of computing, English text was represented in computers using the [ASCII character encoding](https://www.asciitable.com/) method. The language of computers is 1's and 0's and these 1's and 0's can be combined to form numbers.  Thus, the ASCII encoding used numbers to represent characters in the English language. For example, the character \"A\" was encoding using the number 65. A \"B\" was encoded using the number 66, etc. A lowercase \"a\" was encoding using the number 97, \"b\" as 98 and so forth.  The ASCII encoding is still used today, but it cannot be used for languages other than English, it can only represent 128 characters and those 128 numbers are already accounted for. \n",
    "\n",
    "The [UTF-8](https://en.wikipedia.org/wiki/UTF-8) character encoding however is a different encoding that supports 1,112,065 charcters.  There are so many characters that [emojis are encoded](https://emojipedia.org/unicode-8.0/) in the UTF-8 standard. There are other encodings besides UTF-8 as well. \n",
    "\n",
    "To explore encoding, click on the file named `languages.txt` in the `data` folder of this repository. This file was obtained from [Learn Python the Hard Way](https://learnpythonthehardway.org/python3/languages.txt).  You will see a list of languages, written in their own alphabets. This file is UTF-8 encoded.\n",
    "\n",
    "Lets try opening this file in the way we just learned:"
   ]
  },
  {
   "cell_type": "code",
   "execution_count": null,
   "id": "1efc897f-1195-4ddf-9cfe-3e7b22c76eed",
   "metadata": {},
   "outputs": [],
   "source": [
    "lang_file = open(\"data/languages.txt\")\n",
    "print(lang_file.read())\n",
    "lang_file.close()"
   ]
  },
  {
   "cell_type": "markdown",
   "id": "4e594311-9a8b-432b-95ea-01e97ff0a615",
   "metadata": {},
   "source": [
    "Uh oh! We get an error message stating that the file cannot be opened because the \"codec can't decode byte...\".  The `open()` function, by default, expects ASCII encoding.  If the text file uses a different encoding we must specify it using the argument named `encoding`.  The following example will open the file using the `UTF-8` encoding which will cause the contents of the file to be propery read."
   ]
  },
  {
   "cell_type": "code",
   "execution_count": null,
   "id": "c7ebf26f-401b-4cac-a7d5-ccee7ee63b7b",
   "metadata": {},
   "outputs": [],
   "source": [
    "lang_file = open(\"data/languages.txt\", encoding=\"UTF-8\")\n",
    "print(lang_file.read())\n",
    "lang_file.close()"
   ]
  },
  {
   "cell_type": "markdown",
   "id": "f8a25155-09e0-4c86-9564-27232516b94e",
   "metadata": {},
   "source": [
    "Most likely, plain text data files are provided in ASCII format. This is because they typically contain only integers, floats and English style strings.  So you may not encounter too many data files with UTF-8 encoding. But it is possible!  You should be aware that other formats exist so you can read these different files."
   ]
  },
  {
   "cell_type": "markdown",
   "id": "68016814-b643-413c-b790-8401dc2343a6",
   "metadata": {},
   "source": [
    "### 1.7. Splitting a Line <a id=\"section-1.7\"></a>\n",
    "Lets look again at the Iris dataset.  We saw that the first line of data looks like the following:\n",
    "\n",
    "```\n",
    "5.1,3.5,1.4,0.2,setosa\n",
    "```\n",
    "\n",
    "The first four columns are continous numeric (or float) values. The last is a string value.   In the examples above, we read in the entire line as a single string.  How do we separte the values into their own variables?  The answer is the `split` function of the string object.  The `split` function will allow us to provide a character that serves as the **delimeter** and will \"chop\" the string into smaller individual strings but cutting on the delimter character.  To split the string on the comma, run the following code.  You will noticed we have run similar code above, but this time we use the `split()` function to chop the line.\n"
   ]
  },
  {
   "cell_type": "code",
   "execution_count": null,
   "id": "d64b225f-b47f-42dd-a471-724c0c652826",
   "metadata": {},
   "outputs": [],
   "source": [
    "# Open the iris_data.csv file. It is in the data folder.\n",
    "iris_file = open(\"./data/iris_data.csv\")\n",
    "\n",
    "# Read all the first two lines of the Iris dataset and print them.\n",
    "header = iris_file.readline()\n",
    "row1 = iris_file.readline()\n",
    "\n",
    "# Chop the line using the comma.\n",
    "print(row1.strip().split(\",\"))\n",
    "\n",
    "# Close the file.\n",
    "iris_file.close()"
   ]
  },
  {
   "cell_type": "markdown",
   "id": "2a36bbbb-e512-4274-a35d-6613db816b9d",
   "metadata": {},
   "source": [
    "The `split()` command now returns a list of strings!  You can easily identify lists in Python because they are surrounded by square brackets `[]` and the elements are separated using commas (the commmas are not part of the strings in the list).  We will learn more about Python lists later.  \n"
   ]
  },
  {
   "cell_type": "markdown",
   "id": "3833d10b-bbf9-4552-a960-453826d5332d",
   "metadata": {},
   "source": [
    "### 1.8. Function Chains <a id=\"section-1.8\"></a>\n",
    "Notice in the code above this construct:  `row1.strip().split(\",\")`. What is that?  We know that the string object has a `strip()` function and the string object has a `split()` function but how are we able to connect them together like that?  Consider the following code. It behaves equivalent:\n",
    "\n",
    "```python\n",
    "row1_stripped = row1.strip()\n",
    "row1_list = row1_stripped.split(\",\")\n",
    "```\n",
    "In the code above we strip the line endings from the string using the `strip()` function and store the resulting string object in a variable named `row1_stripped`. It is a string object.  Then in the second line we split the string (with the line endings removed) and store the result in a list object. \n",
    "\n",
    "We can avoid saving return values in variables if we never need to use them again because Python can \"substitute\" return values in place of the function call.  In this line of code, `row1.strip().split(\",\")`,  the `row1.strip()` function returns a string object. So, when Python executes the code, it will replace the `row1.strip()` portion with an \"invisible\" variable containing the returned string object. It can then run the  `split(\",\")` function on the invisible variable.\n"
   ]
  },
  {
   "cell_type": "markdown",
   "id": "ad0b912a-5a39-4eb4-bbb4-389e70fb694d",
   "metadata": {},
   "source": [
    "### 1.9. Unpacking <a id=\"section-1.9\"></a>\n",
    "\n",
    "In the code above, we have the variables in a list. But, what if we want to put these values directly into distinct variables? To do this we can use the **unpacking** method. Remember we used unpacking when we learned about program arguments in [Assignment 6 - Python Basics](A06-Python-Basics.ipynb)?  Unpacking simply copies the values of a list into a comma separated list of variables.  Review and then run the following cell.  It unpacks the list after splitting into distinct variables and then uses those variables in a formatted string."
   ]
  },
  {
   "cell_type": "code",
   "execution_count": null,
   "id": "8b3f7952-48d2-40b4-917e-5efeec19b999",
   "metadata": {},
   "outputs": [],
   "source": [
    "# Open the iris_data.csv file. It is in the data folder.\n",
    "iris_file = open(\"./data/iris_data.csv\")\n",
    "\n",
    "# Read all the first two lines of the Iris dataset and print them.\n",
    "header = iris_file.readline()\n",
    "row1 = iris_file.readline()\n",
    "\n",
    "# Chop the line using the comma and use unpacking to \n",
    "# put the values into separate variables.\n",
    "sepal_length, sepal_width, petal_length, petal_width, species =  row1.strip().split(\",\")\n",
    "\n",
    "# Now we can use the variables to print a formatted string.\n",
    "print(\"Species: {}. Sepal length x width = {}cm x {}cm. Petal length x width = {}cm x {}cm.\".format(species, sepal_length, sepal_width, petal_length, petal_width))\n",
    "\n",
    "# Close the file.\n",
    "iris_file.close()"
   ]
  },
  {
   "cell_type": "markdown",
   "id": "ca0ea2c2-67d6-49a1-a5bb-5eaf3954bbd5",
   "metadata": {},
   "source": [
    "### 1.10. Type Casting <a id=\"section-1.10\"></a>\n",
    "The last item we want to learn regarding import of data from files is setting the correct types for data we import. Remember in [Assignment 6 - Python Basics](A06-Python-Basics.ipynb) we learned of several basic Python data types:  **int**, **float**, **string** and **boolean**.  If we are reading data files then we want to be sure that the data we read gets stored in variables in the correct type.  By default, the `read()` and `readline()` functions return data from a file as a string object. But we have data that is not a string:\n",
    "\n",
    "```\n",
    "5.1,3.5,1.4,0.2,setosa\n",
    "```\n",
    "Even after unpacking, the data are separate strings.  In the Iris dataset, we want to convert the first 4 columns of data to floats and we can leave the last as a string.  Changing a variable from one data type to another is called **type casting**.  To convert string values to an integer or float we can use the `int()` and `float()` functions respectively.  The following code combines all we have learned to do the following:\n",
    "\n",
    "1. Open the Iris data file\n",
    "2. Read in the first two lines (header and 1st data row)\n",
    "3. Strip off line endings\n",
    "4. Split using the comma the line into individual variables\n",
    "5. Convert the first four variables to floats"
   ]
  },
  {
   "cell_type": "code",
   "execution_count": null,
   "id": "7e597bb1-356b-420c-9eaf-9ddcd297e6e7",
   "metadata": {},
   "outputs": [],
   "source": [
    "# Open the iris_data.csv file. It is in the data folder.\n",
    "iris_file = open(\"./data/iris_data.csv\")\n",
    "\n",
    "# Read all the first two lines of the Iris dataset and print them.\n",
    "header = iris_file.readline()\n",
    "row1 = iris_file.readline()\n",
    "\n",
    "# Chop the line using the comma and use unpacking to \n",
    "# put the values into separate variables.\n",
    "sepal_length, sepal_width, petal_length, petal_width, species =  row1.strip().split(\",\")\n",
    "\n",
    "# Perform type casting to convert the string values to floats.\n",
    "print(type(sepal_length))\n",
    "sepal_length = float(sepal_length)\n",
    "print(type(sepal_length))\n",
    "sepal_width = float(sepal_width)\n",
    "petal_length = float(petal_length)\n",
    "petal_width = float(petal_width)\n",
    "\n",
    "# Now we can use the variables to print a formatted string.\n",
    "print(\"Species: {}. Sepal length x width = {}cm x {}cm. Petal length x width = {}cm x {}cm.\".format(species, sepal_length, sepal_width, petal_length, petal_width))\n",
    "\n",
    "# Close the file.\n",
    "iris_file.close()"
   ]
  },
  {
   "cell_type": "markdown",
   "id": "61ed4bc8-b5f4-4c8b-885e-d3804b360837",
   "metadata": {},
   "source": [
    "In the code above you will find the following lines:\n",
    "\n",
    "```python\n",
    "print(type(sepal_length))\n",
    "sepal_length = float(sepal_length)\n",
    "print(type(sepal_length))\n",
    "```\n",
    "Here we have two `print()` statements before and after the `float()` type casting function. The `type()` function used in the `print()` function can tell us what the variable type is. Notice in the output from the cell above that prior to the type cast the variable is a `str` (string) and after is now a `float`!"
   ]
  },
  {
   "cell_type": "markdown",
   "id": "135d01d5-b5bc-4e08-8d05-83e258bb6454",
   "metadata": {},
   "source": [
    "## 2. Python Documentation <a id=\"section-2\"></a>\n",
    "If you look at the online Python documentation for the [open() function](https://docs.python.org/3/library/functions.html#open), you will see a formal definition of the function that looks like this:\n",
    "\n",
    "```python\n",
    "open(file, mode='r', buffering=- 1, encoding=None, errors=None, newline=None, closefd=True, opener=None)\n",
    "```\n",
    "If you are not acc"
   ]
  },
  {
   "cell_type": "markdown",
   "id": "b1a94a20-3e76-4c2a-97a7-699562d60eff",
   "metadata": {},
   "source": [
    "## 3. Functions <a id=\"section-3\"></a>"
   ]
  },
  {
   "cell_type": "markdown",
   "id": "71db2c54-5b2b-460d-8213-23e38c06de08",
   "metadata": {},
   "source": [
    "## 4. Logic <a id=\"section-4\"></a>"
   ]
  },
  {
   "cell_type": "markdown",
   "id": "5541b7ec-94e5-41ac-b14f-1890160eb1d6",
   "metadata": {},
   "source": [
    "## Expected Outcomes <a id=\"section-outcomes\"></a>\n",
    "At this point, you should feel comfortable with the following:\n"
   ]
  },
  {
   "cell_type": "markdown",
   "id": "476ba16d-d046-427f-a32d-8c92ee1a7316",
   "metadata": {},
   "source": [
    "## What to Turn in? <a id=\"section-turn_in\"></a>\n",
    "\n",
    "Perform the following with Git:\n",
    "\n",
    "1. Add the `assignment7.py` script \n",
    "2. Commit your changes. \n",
    "3. Push your code to your remote repository.\n",
    "\n",
    "Go to your online repository on GitHub and check that the changes you just pushed are present. If so, then send a message to the instructor indicating the assignment is turned in."
   ]
  }
 ],
 "metadata": {
  "kernelspec": {
   "display_name": "Python 3 (ipykernel)",
   "language": "python",
   "name": "python3"
  },
  "language_info": {
   "codemirror_mode": {
    "name": "ipython",
    "version": 3
   },
   "file_extension": ".py",
   "mimetype": "text/x-python",
   "name": "python",
   "nbconvert_exporter": "python",
   "pygments_lexer": "ipython3",
   "version": "3.9.13"
  }
 },
 "nbformat": 4,
 "nbformat_minor": 5
}
