{
 "cells": [
  {
   "cell_type": "markdown",
   "id": "f2577bfb-d657-429a-9f54-1fc09c24336d",
   "metadata": {},
   "source": [
    "# Unit Project: Conway's Game of Life"
   ]
  },
  {
   "cell_type": "markdown",
   "id": "84203af6-753a-43fb-8bc1-a7cae1007574",
   "metadata": {},
   "source": [
    "The Game of Life uses a 2-dimensional grid of cells that can either be in a state of “on” or “off”.  The program simulates a living system in which cells can interact with their immediate neighbors.  At the beginning of the simulation, some of the cells are on and some are off, and as time progresses the cells will change states depending on the state of their neighbors at each time point. "
   ]
  },
  {
   "cell_type": "markdown",
   "id": "cdbe7a6f-5b4b-4358-994a-751dfe89aa6c",
   "metadata": {},
   "source": [
    "![add](./media/game_of_life.gif)"
   ]
  },
  {
   "cell_type": "markdown",
   "id": "b125be87-94c8-4c3a-afd3-41a51e232eaa",
   "metadata": {},
   "source": [
    "<i>Image Source: https://en.wikipedia.org/wiki/File:Gospers_glider_gun.gif</i>"
   ]
  },
  {
   "cell_type": "markdown",
   "id": "38074917-26af-490c-a44b-d0de3195a51a",
   "metadata": {},
   "source": [
    "For more in-depth information please see the Wikipedia page here:  https://en.wikipedia.org/wiki/Conway%27s_Game_of_Life.  "
   ]
  },
  {
   "cell_type": "markdown",
   "id": "3895d995-8c5a-4646-b506-cac13882b763",
   "metadata": {},
   "source": [
    "## Interactive Example"
   ]
  },
  {
   "cell_type": "markdown",
   "id": "556e9626-525a-40d6-9fcd-aa65cf0132f8",
   "metadata": {},
   "source": [
    "Interactive Version:  http://pmav.eu/stuff/javascript-game-of-life-v3.1.1/"
   ]
  },
  {
   "cell_type": "markdown",
   "id": "ce2467c1-1b77-4862-83b9-3e83738d7245",
   "metadata": {},
   "source": [
    "## Instructions"
   ]
  },
  {
   "cell_type": "markdown",
   "id": "e017285b-6d78-4378-b78b-332d8e69965a",
   "metadata": {},
   "source": [
    "For this project we are going to program Conway’s Game of Life.  Please observe the following:\n",
    "- Get started right away!  Programming takes time and it may be difficult to complete the project if you wait until a few days before the project is due.\n",
    "- Avoid looking online for source code on the web. You are likely to find some sample code, but it is best to drawn on help from other students in the class and the instructor.\n",
    "- Use the #project channel on the class slack workspace to communicate about the project.\n",
    "- Do not share your project code on Slack.  \n",
    "- You may work with others to complete the project, but please do not share code electronically with each other. Do not cut-and-paste each other’s code. Write your own code, but you can decide as a group how to implement the project.\n",
    "- You must have your program reviewed by one other student in the class.  Check the course schedule for dates to\n",
    "  - Select your reviewer\n",
    "  - Have your code reviewed \n",
    " \n"
   ]
  },
  {
   "cell_type": "markdown",
   "id": "584a0d9d-1991-472d-b296-99c6b1ac5080",
   "metadata": {},
   "source": [
    "## Requirements"
   ]
  },
  {
   "cell_type": "markdown",
   "id": "cd772808-977a-4c4d-848a-ab1e51c1728d",
   "metadata": {},
   "source": [
    "1. Your script must be named game_of_life.py\n",
    "2. Store the 2D grid using Python lists or a dictionary.  The grid must be 30 cells high (rows) and 80 cells long (columns). \n",
    "3. The program must allow the user to specify on the command-line the number of “ticks” (or time points) to run, and the set of cell indexes which should be “on” when the program starts.  \n",
    "   a. A cell index must be of the form [row]:[col], where [row] is the row number and [col] is the column of the cell that should be turned on.  The two are separated by a colon. For example, if you ran your script as:  \n",
    "\n",
    "    ```python\n",
    "    python game_of_life.py 40 14:40 15:42\n",
    "    ```\n",
    "\n",
    "    then the program should expect to run for 40 ticks and start with cells (14,40) and (15,42) turned on.  The user should be able to provide as many cell indexes as desired. \n",
    "4. The numbering of rows and columns starts with 1 (not 0). That means the cell in the top-left has the index 1:1.\n",
    "5. The user should be able to specify any number of cell indexes to the program.\n",
    "6. The program should execute successfully with the following arguments:\n",
    "\n",
    "   ```python\n",
    "   python game_of_life.py 50 14:40 15:42 16:39 16:40 16:43 16:44 16:45\n",
    "   ```\n",
    "\n",
    "7. At each step, the program must print the contents of the grid to STDOUT.  Each cell of every row is printed to the screen as either a dash character, -, or X character with a dash meaning the cell is “off” and an X meaning the cell is “on”. Each row of the grid must be terminated with a carriage return, “\\n”.     For example, the initial time point should look like the following:\n",
    "\n",
    "   ```\n",
    "   --------------------------------------------------------------------------------\n",
    "   --------------------------------------------------------------------------------\n",
    "   --------------------------------------------------------------------------------\n",
    "   --------------------------------------------------------------------------------\n",
    "   --------------------------------------------------------------------------------\n",
    "   --------------------------------------------------------------------------------\n",
    "   --------------------------------------------------------------------------------\n",
    "   --------------------------------------------------------------------------------\n",
    "   --------------------------------------------------------------------------------\n",
    "   --------------------------------------------------------------------------------\n",
    "   --------------------------------------------------------------------------------\n",
    "   --------------------------------------------------------------------------------\n",
    "   --------------------------------------------------------------------------------\n",
    "   ----------------------------------------X---------------------------------------\n",
    "   ------------------------------------------X-------------------------------------\n",
    "   ---------------------------------------XX--XXX----------------------------------\n",
    "   --------------------------------------------------------------------------------\n",
    "   --------------------------------------------------------------------------------\n",
    "   --------------------------------------------------------------------------------\n",
    "   --------------------------------------------------------------------------------\n",
    "   --------------------------------------------------------------------------------\n",
    "   --------------------------------------------------------------------------------\n",
    "   --------------------------------------------------------------------------------\n",
    "   --------------------------------------------------------------------------------\n",
    "   --------------------------------------------------------------------------------\n",
    "   --------------------------------------------------------------------------------\n",
    "   --------------------------------------------------------------------------------\n",
    "   --------------------------------------------------------------------------------\n",
    "   --------------------------------------------------------------------------------\n",
    "   --------------------------------------------------------------------------------\n",
    "   ```\n",
    "\n",
    "8. The program should follow these rules at each time point:\n",
    "   a. Any “on” cell with fewer than two live neighbors is turned “off”.\n",
    "   b. Any “on” cell with two or three “on” neighbors remains “on”.\n",
    "   c. Any “on” cell with more than three “on” neighbors is turned “off”.\n",
    "   d. Any “off” cell with exactly three live neighbors is turned “on”. \n",
    "   e. A neighbor is any adjacent cell, including those to the East, West, North, South, Northeast, Northwest, Southeast and Southwest of the cell. \n",
    "   \n",
    "   For example, after the first time point the printed output should look like the following:\n",
    "\n",
    "   ```\n",
    "   --------------------------------------------------------------------------------\n",
    "   --------------------------------------------------------------------------------\n",
    "   --------------------------------------------------------------------------------\n",
    "   --------------------------------------------------------------------------------\n",
    "   --------------------------------------------------------------------------------\n",
    "   --------------------------------------------------------------------------------\n",
    "   --------------------------------------------------------------------------------\n",
    "   --------------------------------------------------------------------------------\n",
    "   --------------------------------------------------------------------------------\n",
    "   --------------------------------------------------------------------------------\n",
    "   --------------------------------------------------------------------------------\n",
    "   --------------------------------------------------------------------------------\n",
    "   --------------------------------------------------------------------------------\n",
    "   --------------------------------------------------------------------------------\n",
    "   --------------------------------------------------------------------------------\n",
    "   ---------------------------------------XXX-XX-----------------------------------\n",
    "   -------------------------------------------XX-----------------------------------\n",
    "   --------------------------------------------X-----------------------------------\n",
    "   --------------------------------------------------------------------------------\n",
    "   --------------------------------------------------------------------------------\n",
    "   --------------------------------------------------------------------------------\n",
    "   --------------------------------------------------------------------------------\n",
    "   --------------------------------------------------------------------------------\n",
    "   --------------------------------------------------------------------------------\n",
    "   --------------------------------------------------------------------------------\n",
    "   --------------------------------------------------------------------------------\n",
    "   --------------------------------------------------------------------------------\n",
    "   --------------------------------------------------------------------------------\n",
    "   --------------------------------------------------------------------------------\n",
    "   --------------------------------------------------------------------------------\n",
    "   ```\n",
    "   \n",
    "   The program should terminate after 50 ticks with the following pattern:\n",
    "   \n",
    "   ```\n",
    "   --------------------------------------------------------------------------------\n",
    "   --------------------------------------------------------------------------------\n",
    "   -------------------------------------------------X------------------------------\n",
    "   ------------------------------------------------X-X-----------------------------\n",
    "   -----------------------------------------------XX-X-----------------------------\n",
    "   -----------------------------------------------XX-------------------------------\n",
    "   ----------------------------------------------XXX-------------------------------\n",
    "   -----------------------------------------------XX---XX--------------------------\n",
    "   ------------------------------------------------XXXXX---------------------------\n",
    "   ----------------------------X--------------------XXXX---------------------------\n",
    "   ---------------------------XXX-XX-----------------XX----------------------------\n",
    "   ------------------------------X-XX----------------------------------------------\n",
    "   ---------------------------X-XXXX---------------XXXXX---------------------------\n",
    "   --------------------------X--XX-----------------XXXXX---------------------------\n",
    "   -------------------------XX-------------X------XXXX-X---------------------------\n",
    "   -------------------------X-------------X--X----XX-XX----------------------------\n",
    "   ------------------------XXX-----XX-----X-XX----XX-XX----------------------------\n",
    "   -------------------------XX----XXXX-----XXX------X------------------------------\n",
    "   -------------------------------XXX-X--------------------------------------------\n",
    "   ----------------------------------XX--------------------------------------------\n",
    "   --------------------------------------------------------------------------------\n",
    "   --------------------------------------------------------------------------------\n",
    "   --------------------------------------------------------------------------------\n",
    "   --------------------------------------------------------------------------------\n",
    "   --------------------------------------------------------------------------------\n",
    "   ```\n",
    "\n",
    "9. The program must use Sphinx Python docstring format for commenting and must include:\n",
    "   a. A program header with the list of authors (group members), the name of your reviewer, the grade your reviewer provided, and a program synopsis.\n",
    "   b. Each function must be fully commented with each functional parameter described using the :param and :type keywords.  \n",
    "   c. Every declared variable must have a comment describing what it stores.\n",
    "10. Your program must have at least one function and should not use global variables.\n",
    "11. When you review another student’s, code use the evaluation checklist below to provide a grade.  If you provide fewer points than what is listed, you must indicate to the other student what was wrong so that they can correct it.\n"
   ]
  },
  {
   "cell_type": "markdown",
   "id": "7f2191f6-6fd5-497f-b8b9-2a3c97eb532f",
   "metadata": {},
   "source": [
    "## Evaluation Checklist (100 points possible)"
   ]
  },
  {
   "cell_type": "markdown",
   "id": "f7cda260-5fa7-4d69-a21c-2b262df8bdc4",
   "metadata": {},
   "source": [
    "1. The program:\n",
    "\n",
    "   a. accepts the following command-line **(10 points)**.\n",
    "\n",
    "   ```python\n",
    "   python game_of_life.py 50 14:40 15:42 16:39 16:40 16:43 16:44 16:45\n",
    "   ```\n",
    "    \n",
    "   b. executes to completion without presenting an error **(10 points)**.\n",
    "   c. terminates with the pattern shown in requirements #8 above **(15 points)**.\n",
    "   \n",
    "2. The program uses the following:\n",
    "\n",
    "   a. command-line arguments **(5 points)**.\n",
    "   b. a for or while loop **(5 points)**.\n",
    "   c. if statements **(5 points)**.\n",
    "   d. lists or dictionaries **(5 points)**.\n",
    "   \n",
    "3. The program does not use global variables and has at least one function (5 points).\n",
    "\n",
    "4. The program follows Sphinx docstring style documentation. \n",
    "\n",
    "   a. The program has a header **(5 points)**.\n",
    "   b. Each function has documentation for each parameter and its type is described **(5 points)**.\n",
    "   c. Each declared variable has a comment **(5 points)**.\n",
    "   \n",
    "5. The printed grid is 30 x 80 with dashes for “off” cells and X for “on” cells **(5 points)**.\n",
    "\n",
    "6. The program runs for as many “ticks” as indicated in the command-line (e.g., 50) **(5 points)**.\n",
    "\n",
    "7. The program prints each time point (tick) to the screen following the rules above **(5 points)**.\n",
    "\n",
    "8. The program was reviewed by another student **(10 points)**.\n"
   ]
  }
 ],
 "metadata": {
  "kernelspec": {
   "display_name": "Python 3 (ipykernel)",
   "language": "python",
   "name": "python3"
  },
  "language_info": {
   "codemirror_mode": {
    "name": "ipython",
    "version": 3
   },
   "file_extension": ".py",
   "mimetype": "text/x-python",
   "name": "python",
   "nbconvert_exporter": "python",
   "pygments_lexer": "ipython3",
   "version": "3.9.7"
  }
 },
 "nbformat": 4,
 "nbformat_minor": 5
}
