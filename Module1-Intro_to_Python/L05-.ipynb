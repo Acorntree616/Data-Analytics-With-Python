{
 "cells": [
  {
   "cell_type": "markdown",
   "id": "4ccaac47-3e95-42aa-b302-568bcf222118",
   "metadata": {},
   "source": [
    "## For Loops"
   ]
  },
  {
   "cell_type": "markdown",
   "id": "9a0e2783-8dba-456b-9583-f624dcedb7ca",
   "metadata": {},
   "source": [
    "## While Loops"
   ]
  },
  {
   "cell_type": "markdown",
   "id": "e8f1a2ac-fa0b-4edf-acff-0372cd122c97",
   "metadata": {},
   "source": [
    "## Lists"
   ]
  }
 ],
 "metadata": {
  "kernelspec": {
   "display_name": "Python 3 (ipykernel)",
   "language": "python",
   "name": "python3"
  },
  "language_info": {
   "codemirror_mode": {
    "name": "ipython",
    "version": 3
   },
   "file_extension": ".py",
   "mimetype": "text/x-python",
   "name": "python",
   "nbconvert_exporter": "python",
   "pygments_lexer": "ipython3",
   "version": "3.8.10"
  }
 },
 "nbformat": 4,
 "nbformat_minor": 5
}
