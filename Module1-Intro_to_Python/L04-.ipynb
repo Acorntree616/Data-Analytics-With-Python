{
 "cells": [
  {
   "cell_type": "markdown",
   "id": "718815ac-9413-484a-86be-3e4f5f0b539e",
   "metadata": {},
   "source": [
    "## Functions"
   ]
  },
  {
   "cell_type": "markdown",
   "id": "154187c3-21e2-4e0e-a583-a2a75716d67c",
   "metadata": {},
   "source": [
    "### Function Arguments"
   ]
  },
  {
   "cell_type": "markdown",
   "id": "db808165-594d-48f4-b607-6572c46765f2",
   "metadata": {},
   "source": [
    "### Return Values"
   ]
  },
  {
   "cell_type": "markdown",
   "id": "ef1ed7f0-760d-4f91-a843-d427091e926b",
   "metadata": {},
   "source": [
    "## Character Encoding"
   ]
  },
  {
   "cell_type": "markdown",
   "id": "a555ab20-e08b-4ef5-9ca2-f5657be37d91",
   "metadata": {},
   "source": [
    "## If Statement"
   ]
  },
  {
   "cell_type": "markdown",
   "id": "50b80c5c-50f8-48c7-a9fc-bbbdfb511af0",
   "metadata": {},
   "source": [
    "### Else and Else If"
   ]
  }
 ],
 "metadata": {
  "kernelspec": {
   "display_name": "Python 3 (ipykernel)",
   "language": "python",
   "name": "python3"
  },
  "language_info": {
   "codemirror_mode": {
    "name": "ipython",
    "version": 3
   },
   "file_extension": ".py",
   "mimetype": "text/x-python",
   "name": "python",
   "nbconvert_exporter": "python",
   "pygments_lexer": "ipython3",
   "version": "3.8.10"
  }
 },
 "nbformat": 4,
 "nbformat_minor": 5
}
