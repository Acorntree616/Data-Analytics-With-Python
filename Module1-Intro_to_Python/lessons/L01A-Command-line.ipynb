{
 "cells": [
  {
   "cell_type": "markdown",
   "id": "ef0090ec-fa3a-48ca-b402-a2ad185fbfdf",
   "metadata": {},
   "source": [
    "# Lesson 1: Command-line\n",
    "\n",
    "Often, we interact with desktop computers, such as a Windows or Mac computer, using a graphical desktop interface. We browse files using a point-and-click interface and interact with programs by clicking menus, links and buttons. However, prior to the modern graphical interface, people  interacted with computers using a text-based command-line.  You may have heard of MS-DOS or the UNIX shell. These both provide command-line, text-based interpreters that allow the user to interact with the underlying operating system. You can navigate through the file system using text-based commands and run programs and tools by typing their names and parameters.  \n",
    "\n",
    "Despite the convenience of graphical interfaces for computers, the command-line is still prevelant, especially in computer programming, scripting, data analytics and data science. There is a lot to learn about the command-line and we will learn just enough to learn programming"
   ]
  },
  {
   "cell_type": "markdown",
   "id": "c0b5af3b-601c-44cb-8422-bdbae365addc",
   "metadata": {},
   "source": [
    "## The Terminal"
   ]
  },
  {
   "cell_type": "markdown",
   "id": "6e486c76-4031-4f69-b8e8-b665e230c734",
   "metadata": {},
   "source": [
    "The command-line is accessible via the \"terminal\".  The terminal is a text-based interface to the computer operating system.  \n",
    "\n",
    "### Command Prompt in Windows\n",
    "In Windows, you can get access to the terminal by opening the \"Command Prompt\" app, or the \"Windows Powershell\".  The following is a screenshot of the Windows command prompt\n",
    "\n",
    "![nename_file](../media/L01-windows-cmd.png)\n",
    "\n",
    "### Terminal in OS X\n",
    "In OS X, on Apple computers, you can find it in the `/Applications/Utilities` folder. Alternatively, open the \"Finder\" app, click `Go` in the menu and select `Applications`.  Scroll until you find the `Utilities` folder and there you will find the terminal app. A screenshot of the OS X terminal is shown below.\n",
    "\n",
    "### Terminal in Ubuntu\n",
    "Ubuntu is one of the most popular distributions of Linux. If you have ever explored Linux you have most likely heard of it. In fact, you can get a very slimmed down [Ubuntu interface for Windows](https://ubuntu.com/tutorials/install-ubuntu-on-wsl2-on-windows-10#1-overview)!. A screenshot of the Untunu terminal for windows is below:\n",
    "\n",
    "![Ubuntu Terminal](../media/L01-ubuntu-terminal.png)\n",
    "\n",
    "### Anaconda Prompt\n",
    "When you installed Anaconda, it came with its own terminal that is highly integrated with Anaconda and Python. This is the Anaconda Prompt. Unfortunatly, the Anaconda Prompt is not easily found in the Anaconda Navigator application. Instead, you can search for it in your programs.  A screenshot is not shown because by no you can see these terminals all look very similar.\n",
    "\n",
    "### Jupyter Notebook Terminal\n",
    "To make life easy for us, Jupyter also comes with a terminal! Instead of a separate program, it is accessible via your web browser.  The easiest way to get access to the command-line inside of a Jupyter Lab is via the menu by clicking `File` > `New` > `Terminal`. You should see a new tab open with a an active prompt:\n",
    "\n",
    "![terminal](../media/L01-terminal.png)\n",
    "\n",
    "### What will we use?\n",
    "You are welcome to use any terminal you like in this course.  However, the easiest choice is to use the terminal provided by Jupyter.  The lessons that follow will instruct you to use this terminal.  The second best choice would be the Anaconda Prompt. Anaconda provides Python for us and because this terminal is so highly integrated with Anaconda it makes it easy for us to work with Python.  "
   ]
  },
  {
   "cell_type": "markdown",
   "id": "624b65f6-441b-4e8b-af8f-6e144b660431",
   "metadata": {},
   "source": [
    "## The Shell\n",
    "Once you have access to the terminal, you can begin typing **commands**.  But lets learn how this terminal works.  The terminal is a program that gives you text-based access to the operating system of your computer. The terminal, though, relies on another program called the **shell** to provide the interface.  The shell provides several things:\n",
    "\n",
    "1. Built-in commands to perform actions on the computer\n",
    "2. An **environment** in which your programs, scripts and tools will run\n",
    "3. A programming language of its own for more advanced management\n",
    "\n",
    "In early versions of Windows the shell was called MS-DOS. Now, the command-prompt and powershell are used. UNIX systems often come with multiple different shells and the user can choose which to use. One of the most popular is the [BASH shell](https://en.wikipedia.org/wiki/Bash_(Unix_shell)). The Apple OS X operating system is also UNIX-based and uses as its default the [Z shell (Zsh)](https://zsh.sourceforge.io/).  All of these shells tend to provide the same fundamental commands, which we will learn here. But, they become different the more advanced you get.\n",
    "\n",
    "The Jupyter terminal, which we will use for this course uses the default shell of the operating system you are using. So, on a Mac, you'll get Zsh, on Ubuntu you'll get BASH and on windows you'll get the Powershell.\n"
   ]
  },
  {
   "cell_type": "markdown",
   "id": "4f7e0f5f-70f0-4c09-810e-246150693cee",
   "metadata": {},
   "source": [
    "### The Command Prompt\n",
    "The first thing you will notice when you open the terminal is the command prompt.  Take a moment to open the Jupyter terminal (see instructions above).  You will see something like the following:\n",
    "\n",
    "```bash\n",
    "bob@Thor:~/courses/AFS505$ \n",
    "```\n",
    "\n",
    "In Windows you will see something like this:\n",
    "``` bash\n",
    "PS C:\\Users\\bob\\courses\\AFS505>\n",
    "```\n",
    "\n",
    "On OS X you would see something like:\n",
    "```zsh\n",
    "bob@Thor ~/courses/AFS505 %\n",
    "```\n",
    "\n",
    "The first line shown is the command prompt.  On a UNIX system, it begins with something that looks like an email address. In the example above this is `bob@Thor`.  That is not an email address but identifies you and the computer you are on. The word `bob` is my username on the computer and the computer's name is `Thor`.  \n",
    "\n",
    "The next bit of text is the directory on the file system in which you are currently located. We will learn more about that later, but for now just remember that is the location in the file system where the shell is currently looking.\n",
    "\n",
    "Finally, the trailing dollar sign `$` means the end of the prompt and it is time for me, as the user, to start typing commands.   On the Windows prompt the `>` indicates \n",
    "that you can start typing commands and on OS X it is the `%` symbol.\n",
    "\n",
    "As quick example, type the following immediatly after the `$` prompt:\n",
    "\n",
    "```bash\n",
    "bob@Thor:~/courses/AFS505$ whoami\n",
    "```\n",
    "The `whoami` command simply askes the operating system who it thinks you are.  You should see a response similar to the following on a UNIX system but with your username instead: \n",
    "\n",
    "```bash\n",
    "bob@Thor:~/courses/AFS505$ whoami\n",
    "bob\n",
    "```\n",
    "On Windows you'll get something similiar to this:\n",
    "\n",
    "```bash\n",
    "PS C:\\Users\\bob> whoami\n",
    "Thor\\bob\n",
    "```\n",
    "\n",
    "<div class=\"alert alert-warning\">\n",
    "Note: Depending on the type of computer you are using, you will may see variations in the exact responses returned. These lessons will not provide all possible variations of output, but the results should be as expected even if different.\n",
    "</div>\n",
    "\n",
    "The command prompts shown above should be typical of what you may see, but keep in mind that every shell is different and the institution that manages the computer you use may alter the way these command-prompts look.  \n",
    "\n",
    "From this point forward, anytime these lessons ask you to run a command they will simly state the command without the command-prompt. This way you can easily cut-and-paste if you want."
   ]
  },
  {
   "cell_type": "markdown",
   "id": "c8522a7f-8451-44e8-b427-f81f2d491221",
   "metadata": {
    "tags": []
   },
   "source": [
    "## The File System\n",
    "We just learned that the command-prompt tells us where we currently are in the file system. The file system is simply the files and folder on your computer.  On a Windows computer you use the file browser to explore files and you use the Finder tool on a Mac.  With the GUI it's easy to visualize this system via pictures of folder that you click on that have files and other folders inside of them.  However, when using the command-line you have to visualize in your own mind the files and folders. "
   ]
  },
  {
   "cell_type": "markdown",
   "id": "cbf48df0-51ba-4694-9ff6-9a526ecf221a",
   "metadata": {},
   "source": [
    "### The Root folder\n",
    "Every filesystem has a \"root\" folder, or the base folder.  On a UNIX system (including Linux and OSX) the root folder is represented by a `/` character.  In Windows, the root folder is per hard drive and usually begins with `C:\\` (or the C drive).  "
   ]
  },
  {
   "cell_type": "markdown",
   "id": "abb9fb10-51b0-4946-9d6d-4e88b7f3e311",
   "metadata": {},
   "source": [
    "### Your Home Directory\n",
    "On all computers you, the user, will have your own \"home\" directory.  This is where you have complete control to organize your files as you desire.  On UNIX/Linux computers your home directory is often found in the `/home` directoriy followed by a new directory with your username. If your username were \"bob\" then your official home directory would be `/home/bob`.  On a Mac the home directories are found in `/Users`, so your home would be `/Users/bob`. On Windows systems the home directory is in `C:\\Users`, so your home directory would be `C:\\Users\\bob`.\n",
    "\n",
    "<div class=\"alert alert-warning\">\n",
    "Note: On the windows command-line notice that directories are separated by backward slashes, `\\`, and on UNIX and OS X they are forward slashes: `/`. \n",
    "</div>"
   ]
  },
  {
   "cell_type": "markdown",
   "id": "ce918dc4-4435-4ea2-aacd-63c1335602a7",
   "metadata": {},
   "source": [
    "### Paths\n",
    "The text we just used to state the location of the root and home directory, such as `C:\\Users\\bob` or `/home/bob` is referred to as the **path**.  You can specify the path to any file on the system if you know the sequence of folders in which it was found. Suppose I have a file named `info.txt` in my my home directory.  The full path to that file would be `/home/bob/info.txt`, on a UNIX file system, and `C:\\Users\\bob\\info.txt` on a Windows computer. "
   ]
  },
  {
   "cell_type": "markdown",
   "id": "d16b66d0-01f8-4299-9a8e-09745610f240",
   "metadata": {},
   "source": [
    "### Working Directory\n",
    "The working directory is simply the location on the file system where your shell is currently at.  Remember, the command-prompt examples tell you where you currently are to help you remember. But there are commands that can help you if you forget where you currently are in the file system."
   ]
  },
  {
   "cell_type": "markdown",
   "id": "8f74650f-1f25-4047-a031-4666a796bc54",
   "metadata": {},
   "source": [
    "## Important Commands\n",
    "Now we will learn some of the most important command-line commands, including those used to navigate the file system. The table below lists the commands we will learn and states their purpose:\n",
    "\n",
    "| Command   | Purpose |\n",
    "| --------- | --------|\n",
    "| **pwd**   | Print the name of the current working directory |\n",
    "| **ls**    | List the files and folders |\n",
    "| **cd**    | Change the current working directory |\n",
    "| **mkdir** | Creates a new empty directory |\n",
    "| **rmdir** | Remove an empty directory |\n",
    "| **mv**    | Move or rename a file |\n",
    "| **cp**    | Copy a file |\n",
    "| **cat**   | Print the contents of a file to the terminal screen |\n",
    "| **grep**  | Search for words within a text file |\n",
    "| **man**   | Prints help pages for a given command |"
   ]
  },
  {
   "cell_type": "markdown",
   "id": "59a8c3cd-8c26-4c20-9919-97696c394b90",
   "metadata": {},
   "source": [
    "### The `pwd` command\n",
    "The `pwd` command is used to print the currnet working directory.  The command-prompt is helpful if it tells you your current working directory, but sometimes it does not.  This useful command will give you the full path to your current location in the file system.\n",
    "\n",
    "In the terminal, run this command. \n",
    "```bash\n",
    "pwd\n",
    "```\n",
    "What does it print to the terminal?  "
   ]
  },
  {
   "cell_type": "markdown",
   "id": "46167240-0136-45e6-9246-d25c8ca06f27",
   "metadata": {},
   "source": [
    "### The `ls` command\n",
    "The `ls` command prints a current listing of all files and folders in the directory. \n",
    "\n",
    "In the terminal, try running this command:\n",
    "```bash\n",
    "ls\n",
    "```\n",
    "You should see the files in your current working directory.  \n",
    "\n",
    "#### For UNIX and OS X\n",
    "In Windows you will see information about each file, including the date it was created, the size and the Name. In Unix/Linux and OS X the `ls` command will only give you the names of files. You can, however, get more information.  Try running this command in your current directory:\n",
    "\n",
    "```bash\n",
    "ls -l\n",
    "```\n",
    "The `-l` flag tells the `ls` command to give the \"long\" listing. You will see something like the following:\n",
    "\n",
    "In UNIX:\n",
    "```bash\n",
    "-rw-r--r-- 1 bob bob 11357 Feb 17  2020 LICENSE\n",
    "drwxrwxr-x 6 bob bob  4096 Dec 29 22:31 Module1-Intro_to_Python\n",
    "drwxrwxr-x 6 bob bob  4096 Dec 28 01:14 Module2-Data_Analytics\n",
    "-rw-r--r-- 1 bob bob   624 Mar 10  2020 README.md\n",
    "-rw-rw-r-- 1 bob bob    40 May 15  2022 requirements.txt\n",
    "```\n",
    "You can easily see the owner of the file (e.g. \"bob\"), the date the file was last touched and the name of the file or directory.  The first column (e.g. `-rw-r--r--`) gives file permission information.  Often, UNIX computers are shared systems, meaning lots of users connect remotely to use the command-line! You can protect files by setting and managing file permissions. We will not need to learn about file permissions now. But if interested, you can learn more about them [here](https://www.tutorialspoint.com/unix/unix-file-permission.htm)."
   ]
  },
  {
   "cell_type": "markdown",
   "id": "a62d07c9-0af5-481e-8dba-16997fcbe3c7",
   "metadata": {},
   "source": [
    "### The `cd` command"
   ]
  },
  {
   "cell_type": "markdown",
   "id": "24151b08-7972-47e4-a176-0c51a5a4dfa0",
   "metadata": {},
   "source": [
    "### The `mkdir` command"
   ]
  },
  {
   "cell_type": "markdown",
   "id": "57c3d476-2937-4127-ae52-f8754bb59f6d",
   "metadata": {},
   "source": [
    "### The `rmdir` command"
   ]
  },
  {
   "cell_type": "markdown",
   "id": "8cccc214-8acd-40ee-b71a-1275c7cd24e0",
   "metadata": {},
   "source": [
    "### The `mv` command"
   ]
  },
  {
   "cell_type": "markdown",
   "id": "5bb8bdf3-2190-4e3f-b773-f1371bc215ef",
   "metadata": {},
   "source": [
    "### The `cp` command"
   ]
  },
  {
   "cell_type": "markdown",
   "id": "cfb8ad26-518e-41e7-85d4-58a4e9b99376",
   "metadata": {},
   "source": [
    "### The `cat` command"
   ]
  },
  {
   "cell_type": "markdown",
   "id": "26e79d2a-9be5-452e-8349-c5ac437e1344",
   "metadata": {},
   "source": [
    "### The `grep` command"
   ]
  },
  {
   "cell_type": "markdown",
   "id": "5660f615-29ff-4803-b895-83b8f84a0dfc",
   "metadata": {},
   "source": [
    "## Command-line Essentials"
   ]
  },
  {
   "cell_type": "markdown",
   "id": "4c6ae257-6fd8-4270-a18f-acf98c779c78",
   "metadata": {},
   "source": [
    "pwd, mkdir, cd, ls, rmdir, cp, mv, less, cat,  grep, man,"
   ]
  },
  {
   "cell_type": "markdown",
   "id": "44099eb6-1435-4e9a-92fb-5b6b279dd12c",
   "metadata": {},
   "source": [
    "## More Command-line "
   ]
  },
  {
   "cell_type": "code",
   "execution_count": null,
   "id": "93c47d9c-e9e7-4d18-8b5a-32423df31a0f",
   "metadata": {},
   "outputs": [],
   "source": [
    "hostname, pushd, popd, xargs, apropos, env, echo, export, exit, sudo"
   ]
  }
 ],
 "metadata": {
  "kernelspec": {
   "display_name": "Python 3 (ipykernel)",
   "language": "python",
   "name": "python3"
  },
  "language_info": {
   "codemirror_mode": {
    "name": "ipython",
    "version": 3
   },
   "file_extension": ".py",
   "mimetype": "text/x-python",
   "name": "python",
   "nbconvert_exporter": "python",
   "pygments_lexer": "ipython3",
   "version": "3.10.6"
  }
 },
 "nbformat": 4,
 "nbformat_minor": 5
}
