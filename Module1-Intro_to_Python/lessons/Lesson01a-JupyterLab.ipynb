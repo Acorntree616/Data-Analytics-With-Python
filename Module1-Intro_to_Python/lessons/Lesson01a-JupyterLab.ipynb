{
 "cells": [
  {
   "cell_type": "markdown",
   "metadata": {},
   "source": [
    "# Lesson 1: Tour of JupyterLab"
   ]
  },
  {
   "cell_type": "markdown",
   "metadata": {},
   "source": [
    "## What is JupyterLab?\n",
    "JupyterLab is a \"web-based, interactive development environment\" that allows you to write code, display data, and to interleave code with written text.  For lab scientists you can treat a JupyterLab as a type of lab notebook for computing.  JupyterLab is most often used for data analytics, data science, and scientific computing.  We will use JupyterLab for these purposes as well as for training and teaching.  The official Jupyter website can be found here: [https://jupyter.org/](https://jupyter.org/). \n",
    "\n",
    "One benefits of Jupyter notebooks is that they can be rendered by sites like [GitHub](https://github.com) in a non-interactive form which is why you can read this now, on the web, but later you will be able to clone these notebooks and work with them interactively on your own computer.  JupyterLab and Jupyter notebooks are easy to use once software such as [Anaconda](https://www.anaconda.com/) is installed.  We will work with jupyter notebooks soon, but here is a quick tutorial. "
   ]
  },
  {
   "cell_type": "markdown",
   "metadata": {},
   "source": [
    "## JupyterLab Quick Tutorial\n",
    "\n",
    "To follow along with this lesson, launch in the cloud, a temporary JupyterLab instance by going to this site, https://jupyter.org/try, and click on the JupyterLab swatch near the bottom of the page.\n",
    " \n",
    "### The JupyterLab Interface\n",
    "JupyterLab is a web-based application that gives you access to Jupyter notebooks, text editors, and terminals.  When you first open Jupyter Notebooks you will see the something similar to the following:\n",
    "\n",
    "<img src=\"..//media/L01-JupyterTutorial1.png\"></img>"
   ]
  },
  {
   "cell_type": "markdown",
   "metadata": {},
   "source": [
    "Notice the three major components:\n",
    "- The menu at the top that includes the menu items `File`, `Edit`, `View`, `Run`, etc.\n",
    "- The sidebar on the left that allows you to browse the files in the current working directory. She screenshot shows three Jupyter notebook files:  `Intro.ipynb`, `Lorenz.ipynb` and `sqlite.ipynb`. Here you can explore files, add new files, create new directories.\n",
    "- The center section where notebooks, terminals and text editors are visible. The screenshot shows The `Intro.ipynb` notebooked opened and displayed.\n",
    "\n",
    "Throughout this course we will learn to use JupyterLab more fully.  But, take a moment to explore the interface by:\n",
    "- Click each of the top-level menu items to see what they provide.\n",
    "- Click the folder <i class=\"fa fa-folder\"></i> icon in the top of the sidebar. Then click the folders in the file explore of the sidebar to browse the files and foders.\n",
    "- in the `notebooks` folder click on any of the files with an `.ipynb` extension. These are the Jupyter notebooks. They will open to provide examples."
   ]
  },
  {
   "cell_type": "markdown",
   "metadata": {},
   "source": [
    "### Jupyter Notebooks\n",
    "Jupyter notebooks are files that, when opened, consist of one or more cells. Each cell can contain text, known as Markdown; computer code, such as Python code; or raw text.  The following provides a brief explanation of these three types of cells:\n",
    "\n",
    "- **Markdown cell**:  These cells contain [Markdown](https://jupyter-notebook.readthedocs.io/en/latest/examples/Notebook/Working%20With%20Markdown%20Cells.html#). Markdown looks mostly like plain written text, but can include some simple instructions for formatting (e.g. bold text, bulleted lists, section headers, etc).\n",
    "- **Code cell**:  Code cells contain Python (or R) code.  Here is where you can write code and run your code. Results of running code cells are printed directly below the cell.\n",
    "- **Raw cell**: These cells contain plain text with no formatting. They are displayed with a gray box around them with the text shown as it was entered.  \n"
   ]
  },
  {
   "cell_type": "markdown",
   "metadata": {},
   "source": [
    "#### Markdown Cells\n",
    "In the sample notebook, double click on the any of the text at the top of the page. The cell will change to allow you to see the markdown and edit it. Click the cell, then type <kdb>CTRI</kdb> + <kdb>Enter</kdb> to render the cell or click the play icon <i class=\"fa fa-caret-square-o-right\"></i>\n",
    "\n",
    "You can learn more about the Markdown that Jupyter notebooks support [here](https://jupyter-notebook.readthedocs.io/en/latest/examples/Notebook/Working%20With%20Markdown%20Cells.html#). But below are a few common examples.\n",
    "\n",
    "##### Headers\n",
    "To make headers place one or `#` character in front. The more `#` characters the higher the header level:"
   ]
  },
  {
   "cell_type": "raw",
   "metadata": {},
   "source": [
    "# Header 1\n",
    "\n",
    "## Header 2\n",
    "\n",
    "### Header 3"
   ]
  },
  {
   "cell_type": "markdown",
   "metadata": {},
   "source": [
    "This is rendered as:"
   ]
  },
  {
   "cell_type": "markdown",
   "metadata": {},
   "source": [
    "# Header 1\n",
    "\n",
    "## Header 2\n",
    "\n",
    "### Header 3"
   ]
  },
  {
   "cell_type": "markdown",
   "metadata": {},
   "source": [
    "##### Bold and Italic Text\n",
    "You can make text bold by placing two asterisk `**` before and after the word or phrase.  Place one `*` before and after for italic text"
   ]
  },
  {
   "cell_type": "raw",
   "metadata": {},
   "source": [
    "**This is bold text**\n",
    "\n",
    "*This is italic text*"
   ]
  },
  {
   "cell_type": "markdown",
   "metadata": {},
   "source": [
    "This is rendered as:"
   ]
  },
  {
   "cell_type": "markdown",
   "metadata": {},
   "source": [
    "**This is bold text**\n",
    "\n",
    "*This is italic text*"
   ]
  },
  {
   "cell_type": "markdown",
   "metadata": {},
   "source": [
    "##### Lists\n",
    "You can make bulleted lists simply by prefixing each line with a `-` character. You can create numbered list by prefixing the line with numbers followed by a period, (e.g. `1.`, `2.`, etc.)."
   ]
  },
  {
   "cell_type": "raw",
   "metadata": {},
   "source": [
    "- This is a bulleted list\n",
    "- Item 2\n",
    "  - Sub item 2.1\n",
    "  - Sub item 2.2\n",
    "- Item 3\n",
    "  - Sub item 3.1\n",
    "\n",
    "1. This is a numbered list\n",
    "2. Item 2\n",
    "   1. sub item 2A\n",
    "   2. Sub item 2B\n",
    "3. Item 3\n",
    "   1. Sub item 3A"
   ]
  },
  {
   "cell_type": "markdown",
   "metadata": {},
   "source": [
    "This is rendered as:"
   ]
  },
  {
   "cell_type": "markdown",
   "metadata": {},
   "source": [
    "- This is a bulleted list\n",
    "- Item 2\n",
    "  - Sub item 2.1\n",
    "  - Sub item 2.2\n",
    "- Item 3\n",
    "  - Sub item 3.1\n",
    "\n",
    "1. This is a numbered list\n",
    "2. Item 2\n",
    "   1. sub item 2A\n",
    "   2. Sub item 2B\n",
    "3. Item 3\n",
    "   1. Sub item 3A"
   ]
  },
  {
   "cell_type": "markdown",
   "metadata": {},
   "source": [
    "##### Table\n",
    "Tables can be made by using dashes, `-`, bars, `|`, and spacing to surrounding text. For example:"
   ]
  },
  {
   "cell_type": "raw",
   "metadata": {},
   "source": [
    "| Column 1 | Column 2 | Column 3 |\n",
    "| -------- | -------- | -------- |\n",
    "| Row 1, Column 1 | second column | Howdy |\n",
    "| Row 2, column 1 | how now brown cow | The quick brown fox jumped over the lazy dog |"
   ]
  },
  {
   "cell_type": "markdown",
   "metadata": {},
   "source": [
    "This is rendered as:"
   ]
  },
  {
   "cell_type": "markdown",
   "metadata": {},
   "source": [
    "| Column 1 | Column 2 | Column 3 |\n",
    "| -------- | -------- | -------- |\n",
    "| Row 1, Column 1 | second column | Howdy |\n",
    "| Row 2, column 1 | how now brown cow | The quick brown fox jumped over the lazy dog |"
   ]
  },
  {
   "cell_type": "markdown",
   "metadata": {},
   "source": [
    "#### Code Cell\n",
    "Scroll down in the sample notebook and you'll notice a cell which contains Python code.  This is an example of a code. The following is a screen shot of this cell.\n",
    "\n",
    "<img src=\"../media/L01-JupyterTutorial2.png\" style=\"max-width: 500px\">\n",
    "\n",
    "The greyed box is the Code cell and the figure that appears below is the result of executing the code.  You can execute the Python code in this cell by clicking in the cell, then typing <kdb>CTRI</kdb> + <kdb>Enter</kdb> to render the cell or click the play icon <i class=\"fa fa-caret-square-o-right\"></i>  Give it a try!\n"
   ]
  },
  {
   "cell_type": "markdown",
   "metadata": {},
   "source": [
    "#### Raw cell\n",
    "A raw cell is simply contains text.  You can put Python code or written text but it cannot be executed.  You can use it you want to show code but not run it.  The sample notebook does not have an example of a raw cell but below is an example:"
   ]
  },
  {
   "cell_type": "raw",
   "metadata": {},
   "source": [
    "This is a raw cell.\n",
    "It only contains text.\n",
    "it cannot be executed"
   ]
  },
  {
   "cell_type": "markdown",
   "metadata": {},
   "source": [
    "#### The Icon Bar\n",
    "The icon bar appears at the top of a Jupyter Notebook:\n",
    "\n",
    "<img src=\"../media/L01-JupyterTutorial3.png\" style=\"max-width: 450px\"/>\n"
   ]
  },
  {
   "cell_type": "markdown",
   "metadata": {},
   "source": [
    "##### Saving the notebook\n",
    "Click the first icon, the floppy disk,  to save the notebook. By deafult Jupyter Notebooks save themsevles automatically ever 120 seconds. But you can manually save by clicking that icon or typing <kbd>CTRL</kbd> + <kbd>s</kbd>"
   ]
  },
  {
   "cell_type": "markdown",
   "metadata": {},
   "source": [
    "##### Creating a new Cell\n",
    "You can add cells to a notebook by click anywhere in the notebook where you would like to add a cell and then clicking the plus icon <i class=\"fa fa-plus\"></i>. A new cell will be added.  You can set if the cell should by a Markdown, Code or Raw cell by clicking the dropdown menu just to the right of the icons at the top of the page\n",
    "\n",
    "<img src=\"../media/L01-JupyterTutorial4.png\" style=\"max-width: 150px\"/>\n",
    "\n"
   ]
  },
  {
   "cell_type": "markdown",
   "metadata": {},
   "source": [
    "##### Removing a cell\n",
    "To remove a cell, click the scissors icon."
   ]
  },
  {
   "cell_type": "markdown",
   "metadata": {},
   "source": [
    "##### Copying and Pasting\n",
    "Click the \"clone\" icon <i class=\"fa fa-clone\"></i> to copy any cell. This will copy the cell to the clipboard. You can then paste the cell in another location by clicking the clipboard icon to the right of the clone icon."
   ]
  },
  {
   "cell_type": "markdown",
   "metadata": {},
   "source": [
    "##### Execute and Stop Execute\n",
    "Once you are finished executing a cell you can execute the cell by clicking the play icon <i class=\"fa fa-caret-square-o-right\"></i>.  For markdown cells, it removes the cell border, and renders the text.  For code cells it runs the programmed code and displays the results just below the cell.  If you run a code cell that takes too long to execute, you can stop the execution of that cell by clicking the stop icon <i class=\"fa fa-square\"></i>"
   ]
  },
  {
   "cell_type": "markdown",
   "metadata": {},
   "source": [
    "##### Restart the Kernel\n",
    "To execute Python code, the Jupyter notebook requires that the Python interpreter is running in the background.  This is called the kernel.  If you would like to reset the kernel and start over exeucting the code cells, click the icon with the circle and arrow.  You can restart the kernal and force all cells to run (rather than running them manually one at a time) by clicking the last icon with the double triangles."
   ]
  },
  {
   "cell_type": "markdown",
   "metadata": {},
   "source": [
    "#### Modes"
   ]
  },
  {
   "cell_type": "markdown",
   "metadata": {},
   "source": [
    "Jupyter Notebooks have two modes:\n",
    "\n",
    "1. **Edit Mode**: when the cell is open for active editing and your cursor is active in the cell. The active cell will have a blue border when you are editing it.\n",
    "2. **Command Mode**: when no cell is active, all cells have been executed and you are viewing the notebook.  There are keyboard short-cuts you can use to make changes in the notebook.\n",
    "\n",
    "You can toggle between these two by either pressing <kbd>ESC</kbd> and <kbd>Enter</kbd> or clicking outside a cell or inside it (you need to double click if its a Markdown cell)."
   ]
  },
  {
   "cell_type": "markdown",
   "metadata": {},
   "source": [
    "##### Command-mode Keyboard Shortcuts\n",
    "When in command mode here are a few keyboard shortcuts you can use to save you time with the mouse:\n",
    "\n",
    "<kbd>Shift</kbd>+<kbd>Enter</kbd>: Runs the code or markdown on a cell\n",
    "\n",
    "<kbd>Up Arrow</kbd>+<kbd>Down Arrow</kbd>: Toggle across cells\n",
    "\n",
    "<kbd>b</kbd>: Create new cell\n",
    "\n",
    "<kbd>m</kbd>: Convert cell to Markdown\n",
    "\n",
    "<kbd>y</kbd>: Convert cell to Code\n",
    "\n",
    "<kbd>o</kbd>: Toggle between hide or show output\n",
    "\n",
    "<kbd>Shift</kbd>+<kbd>Arrow up/Arrow down</kbd>: Selects multiple cells. Once you have selected them you can operate on them like a batch (run, copy, paste etc).\n",
    "\n",
    "<kbd>Shift</kbd>+<kbd>M</kbd>: Merge selected cells.\n",
    "\n",
    "You can find more shortcuts [here](https://towardsdatascience.com/jypyter-notebook-shortcuts-bf0101a98330)"
   ]
  },
  {
   "cell_type": "markdown",
   "metadata": {},
   "source": [
    "#### The Kernel\n",
    "As mentioned above, to execute Python code, the Jupyter notebook requires that the Python interpreter, or kernel, is running in the background. For R, it requires an R kernel. You can see what kernel is running by looking in the top right corner of the notebook.  The screenshot shows that Python is the kernel:\n",
    "\n",
    "<img src=\"../media/L01-JupyterTutorial5.png\" style=\"max-width: 250px\"/>\n",
    "\n",
    "By clicking the circle you can see status information about the kernel.  Ther circle will be colored solid when Python is executing code and open (uncolored) when idle."
   ]
  },
  {
   "cell_type": "markdown",
   "metadata": {},
   "source": [
    "### Creating a notebook\n",
    "To create Jupyter Notebook, click the menu `File` > `New` > `Notebook`\n",
    "\n",
    "<img src=\"../media/L01-JupyterTutorial6.png\" style=\"max-width: 550px\"/>\n",
    "\n",
    "You will be asked to select a Kernel, which for this course will always be Python.  By default the notebook will be named `Untitled.ipynb`. You can rename the notebook by right-clicking on the file and selecting `Rename` in the popup menu.\n",
    "\n",
    "<img src=\"../media/L01-JupyterTutorial7.png\" style=\"max-width: 350px\"/>"
   ]
  },
  {
   "cell_type": "markdown",
   "metadata": {},
   "source": [
    "## Wrapping Up\n",
    "We did not learn all there is to know about Jupyter Notebooks. We will learn more as we go along, such as how to open a Terminal, how to create text file, etc.  We will learn these tasks as we need them"
   ]
  }
 ],
 "metadata": {
  "kernelspec": {
   "display_name": "Python 3 (ipykernel)",
   "language": "python",
   "name": "python3"
  },
  "language_info": {
   "codemirror_mode": {
    "name": "ipython",
    "version": 3
   },
   "file_extension": ".py",
   "mimetype": "text/x-python",
   "name": "python",
   "nbconvert_exporter": "python",
   "pygments_lexer": "ipython3",
   "version": "3.9.7"
  }
 },
 "nbformat": 4,
 "nbformat_minor": 4
}
