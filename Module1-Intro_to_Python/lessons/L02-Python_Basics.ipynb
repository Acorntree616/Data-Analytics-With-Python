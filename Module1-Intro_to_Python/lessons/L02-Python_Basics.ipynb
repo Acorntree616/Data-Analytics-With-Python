{
 "cells": [
  {
   "cell_type": "markdown",
   "id": "40e897d6-66d3-484b-b673-09e829fa5fd5",
   "metadata": {},
   "source": [
    "# Lesson 2 - Programming Basics\n",
    "\n",
    "With Python and you can program in two different ways:\n",
    "\n",
    "1. Writing a stand-alone program or software package\n",
    "2. Scripting for data analysis in a Jupyter Notebook\n",
    "\n",
    "In the first module of this course, we will learn the basics of writing a stand-alone program. Scientific software that is meant to be shared with others is often written as stand-alone programs.  Later, in the second module, we will peform Python progamming using Jupyter Notebooks for data analytics.  "
   ]
  },
  {
   "cell_type": "markdown",
   "id": "5cbe186d-70fb-4774-ad24-2f0fd2d606b4",
   "metadata": {},
   "source": [
    "## 1. Running a Python Program\n",
    "In this section we will learn how to write a Python progarm and execute it on the command-line. "
   ]
  },
  {
   "cell_type": "markdown",
   "id": "9c23dba6-f9cf-4920-a168-1a3702b45113",
   "metadata": {},
   "source": [
    "### Step 1: Create a Python File\n",
    "For this lesson, we must create a new python program file. Follow these instructions to perform this step. You can easily do this by clicking the following in the menu: `File` > `New` > `Python file`. \n",
    "\n",
    "![nename_file](../media/L02-new_file.png)\n",
    "\n",
    "The Jupyter Notebook will create the file and open it for you to edit.  The file is currently named \"Untitled.py\".  Notice the `.py` extension?  That indicates that this file is a Python script.\n",
    "\n",
    "<div class=\"alert alert-warning\">\n",
    "Note: On a Windows computer, file extensions have meaning. A file with a `.exe` extensions tells Windows that the file is executable. On a UNIX/Linux computer file extensions have no meaning except to help humans know what the file is for.  A `.py` extension helps us know this is a Python file.\n",
    "</div>\n",
    "\n",
    "Next, change the name of the file right clicking on the tab with the file name and selecting `Rename Python File`\n",
    "\n",
    "![nename_file](../media/L02-rename_file.png)\n",
    "\n",
    "For this lesson, change the name of your new file to `lesson2-hello.py`.  \n",
    "\n"
   ]
  },
  {
   "cell_type": "markdown",
   "id": "33554495-a6d4-47cf-911e-0d86c4dac0f6",
   "metadata": {},
   "source": [
    "### Step 2: Write your first program!\n",
    "Before we can run a program we must first write one, but we have not yet learned to code. That is okay. For now you can cut-and-paste the provided code. In Step 1, above, you created a new Python script named `lesson2-hello.py`.  Cut-and-paste the following Python code into the file:\n",
    "\n",
    "``` python\n",
    "print(\"Hello World\")\n",
    "```\n",
    "\n",
    "That's it! This program is quite simple.  Be sure to save the program by clicking `File` > `Save Python File`, or you can use the keyboard shortcut of <kbd>Ctrl</kbd>+<kbd>S</kbd>."
   ]
  },
  {
   "cell_type": "markdown",
   "id": "076089ef-428b-4c0c-b1dd-c837cfe9bd5a",
   "metadata": {},
   "source": [
    "### Step 3:  Open a terminal \n",
    "Now that we have a program we want to run it on the command-line.  Every operating system (Windows, Unix, Mac) has a terminal. You can run your python code within those respective terminals, but Jupyter Lab provides a terminal for you.  Therefore, the easiest way to get access to the command-line inside of a Jupyter Lab is via the menu by clicking `File` > `New` > `Terminal`. You should see a new tab open with a an active prompt:\n",
    "\n",
    "![terminal](../media/L01-terminal.png)\n",
    "\n",
    "We've already learned about the command-line, so here's where you can apply your knowledge."
   ]
  },
  {
   "cell_type": "markdown",
   "id": "5c8bd6d5-6774-4b26-9399-3cf7ac74d6b0",
   "metadata": {},
   "source": [
    "### Step 4:  Run the Program\n",
    "Now that we have a program and access to a terminal, we can run the progarm by typing the following:\n",
    "\n",
    "``` bash\n",
    "python lesson2-hello.py\n",
    "```\n",
    "\n",
    "On some UNIX/Linux systems you may have to use `python3` instead of `python`. If the command above doesn't work, try this instead:\n",
    "\n",
    "``` bash\n",
    "python3 lesson2-hello.py\n",
    "```\n",
    "\n",
    "You should see the following output:\n",
    "\n",
    "```\n",
    "\n",
    "```"
   ]
  },
  {
   "cell_type": "code",
   "execution_count": null,
   "id": "e0408afa-9702-4c18-801c-0786bde9702c",
   "metadata": {},
   "outputs": [],
   "source": []
  },
  {
   "cell_type": "markdown",
   "id": "ccb098a1-dd05-4168-b928-38461dfb3cd4",
   "metadata": {},
   "source": [
    "## 2. Commenting Your Code"
   ]
  },
  {
   "cell_type": "markdown",
   "id": "6ee1bb42-859b-4866-a09b-6f996b13b26e",
   "metadata": {},
   "source": [
    "## 3. Math"
   ]
  },
  {
   "cell_type": "markdown",
   "id": "471565e8-5a17-4bfd-b029-c801d87d2669",
   "metadata": {},
   "source": [
    "## 4. Variables"
   ]
  },
  {
   "cell_type": "markdown",
   "id": "d9c858fb-c799-4951-8c2e-66ba57008a9e",
   "metadata": {},
   "source": [
    "## 5. Strings"
   ]
  },
  {
   "cell_type": "markdown",
   "id": "d2756d30-c8cd-4e34-a086-ff37b702c063",
   "metadata": {},
   "source": [
    "## 6. Printing"
   ]
  }
 ],
 "metadata": {
  "kernelspec": {
   "display_name": "Python 3 (ipykernel)",
   "language": "python",
   "name": "python3"
  },
  "language_info": {
   "codemirror_mode": {
    "name": "ipython",
    "version": 3
   },
   "file_extension": ".py",
   "mimetype": "text/x-python",
   "name": "python",
   "nbconvert_exporter": "python",
   "pygments_lexer": "ipython3",
   "version": "3.9.7"
  }
 },
 "nbformat": 4,
 "nbformat_minor": 5
}
