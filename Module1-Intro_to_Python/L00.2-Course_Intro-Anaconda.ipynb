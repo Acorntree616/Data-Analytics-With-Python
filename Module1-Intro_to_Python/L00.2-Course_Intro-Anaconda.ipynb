{
 "cells": [
  {
   "cell_type": "markdown",
   "id": "feb99e26-f941-486c-9eac-3e54c9ec8fe3",
   "metadata": {},
   "source": [
    "## Anaconda Installation"
   ]
  },
  {
   "cell_type": "markdown",
   "id": "e7ba8927-5e62-4946-a07b-dd81ffb56a20",
   "metadata": {
    "tags": []
   },
   "source": [
    "### Installation on Ubuntu Linux"
   ]
  },
  {
   "cell_type": "markdown",
   "id": "34e79e40-428b-4c62-9d4c-e2fd3d222df0",
   "metadata": {},
   "source": [
    "This assumes an x86 system. While these instructions should work for most Linux distributions, for this class we can only support Ubuntu LTS releases"
   ]
  },
  {
   "cell_type": "markdown",
   "id": "6acb9138-7f67-4dd5-b8bb-d6cda47497df",
   "metadata": {},
   "source": [
    "Step 1: Download the Anaconda installer for Linux from https://www.anaconda.com/download/#linux "
   ]
  },
  {
   "cell_type": "markdown",
   "id": "db4407c5-7b35-4dcf-9557-3f09462b269d",
   "metadata": {},
   "source": [
    "Step 2: Run the downloaded installer fileby entering the following command"
   ]
  },
  {
   "cell_type": "raw",
   "id": "62ca4a87-01e3-457d-98f0-fc5c4c70eb3d",
   "metadata": {},
   "source": [
    "bash ~/Downloads/Anaconda3-5.3.0-Linux-x86_64.sh"
   ]
  },
  {
   "cell_type": "markdown",
   "id": "554576de-aa90-45a1-9ebc-6b6dc7b12d0d",
   "metadata": {},
   "source": [
    "**Note**:\n",
    "- If you did not download the installer to your Downloads directory, replace ~/Downloads/ with the path where you downloaded the file.\n",
    "- During installation, choose “Install Anaconda as a user”.\n"
   ]
  },
  {
   "cell_type": "markdown",
   "id": "33163b21-dc1a-4713-935d-f526982f070f",
   "metadata": {},
   "source": [
    "Step 3: View and accept the license terms"
   ]
  },
  {
   "cell_type": "markdown",
   "id": "12c08e2c-93c2-425c-9575-68609b907143",
   "metadata": {},
   "source": [
    "Step 4: Accept the default installation location"
   ]
  },
  {
   "cell_type": "markdown",
   "id": "3cae1a9c-6c21-4706-93d7-49864260a99c",
   "metadata": {},
   "source": [
    "Step 5: The installer prompts “Do you wish the installer to prepend the Anaconda3 install location to PATH in your `/home/<user>/.bashrc` ?” Enter Yes"
   ]
  },
  {
   "cell_type": "markdown",
   "id": "cda7d540-e78b-4e7a-84cc-744df77acb4f",
   "metadata": {},
   "source": [
    "Step 6: The installer will then ask if you would like to install VS Code. This is a text editor, select No. This program can be installed later if you desire"
   ]
  },
  {
   "cell_type": "markdown",
   "id": "2a9d5d5a-c483-4d7e-9dd6-f19c8283b8fa",
   "metadata": {},
   "source": [
    "Step 7: The installer should finish and display “Thank you for installing Anaconda3!”"
   ]
  },
  {
   "cell_type": "markdown",
   "id": "7088b1e6-b2c8-4157-b7b2-25601bcf0df0",
   "metadata": {},
   "source": [
    "Step 8: Close and open your terminal window, or, use the command source ~/.bashrc for the installation to take effect."
   ]
  },
  {
   "cell_type": "markdown",
   "id": "3123eadd-4557-4915-9814-c82cc74a4240",
   "metadata": {},
   "source": [
    "Step 9: Confirm the installation by typing anaconda-navigator into a terminal window. If navigator opens the installation was successful, otherwise contact the instructor or another student for help."
   ]
  },
  {
   "cell_type": "markdown",
   "id": "6f00c5e9-cf28-4a64-a096-534617dbc8fa",
   "metadata": {},
   "source": [
    "### Installation on Windows"
   ]
  },
  {
   "cell_type": "markdown",
   "id": "1fc36f5b-f279-4a59-9bf5-822ee85610f6",
   "metadata": {},
   "source": [
    "### Installation on MacOS"
   ]
  },
  {
   "cell_type": "markdown",
   "id": "afa3802e-9628-45ef-a3e3-79546427a3e8",
   "metadata": {},
   "source": [
    "## Atom Installation"
   ]
  },
  {
   "cell_type": "markdown",
   "id": "3703b492-9ca1-40f8-805e-e3169e3bd6b4",
   "metadata": {},
   "source": [
    "### Install on Ubuntu Linux"
   ]
  },
  {
   "cell_type": "markdown",
   "id": "4354d3e0-2d94-40ac-8342-54fd795a276e",
   "metadata": {},
   "source": [
    "Atom is text editor that can be extended with plugins. It is recommended by the instructors for use in this class. However, you may use any alternative editor that suits you.\n",
    "To install Atom Ubuntu, add the official package repository to your system by running the following three commands:\n"
   ]
  },
  {
   "cell_type": "raw",
   "id": "0084458b-d688-47e4-9885-f1d8cf90d7b5",
   "metadata": {},
   "source": [
    "curl -sL https://packagecloud.io/AtomEditor/atom/gpgkey | sudo apt-key add -"
   ]
  },
  {
   "cell_type": "raw",
   "id": "21b287a3-4ae3-4f97-9864-8f7317cbe770",
   "metadata": {},
   "source": [
    "sudo sh -c 'echo \"deb [arch=amd64] https://packagecloud.io/AtomEditor/atom/any/ any main\" > /etc/apt/sources.list.d/atom.list'"
   ]
  },
  {
   "cell_type": "raw",
   "id": "3144c0c5-2e28-49dd-9d50-71f035b32644",
   "metadata": {},
   "source": [
    "sudo apt-get update"
   ]
  },
  {
   "cell_type": "markdown",
   "id": "3f796bda-3581-4414-9621-8a3383e65f86",
   "metadata": {},
   "source": [
    "You can now install Atom using apt-get (or apt on Ubuntu):"
   ]
  },
  {
   "cell_type": "raw",
   "id": "66cebbef-c695-4957-a002-ad45ed20d1ce",
   "metadata": {},
   "source": [
    "sudo apt install atom"
   ]
  },
  {
   "cell_type": "markdown",
   "id": "fea60059-8083-476e-aa9f-6d804759ac01",
   "metadata": {},
   "source": [
    "## Installation on Windows"
   ]
  },
  {
   "cell_type": "markdown",
   "id": "cfe5b271-4082-40ec-bedf-617d40a3fab8",
   "metadata": {},
   "source": [
    "### Install on MacOS"
   ]
  }
 ],
 "metadata": {
  "kernelspec": {
   "display_name": "Python 3 (ipykernel)",
   "language": "python",
   "name": "python3"
  },
  "language_info": {
   "codemirror_mode": {
    "name": "ipython",
    "version": 3
   },
   "file_extension": ".py",
   "mimetype": "text/x-python",
   "name": "python",
   "nbconvert_exporter": "python",
   "pygments_lexer": "ipython3",
   "version": "3.8.10"
  }
 },
 "nbformat": 4,
 "nbformat_minor": 5
}
