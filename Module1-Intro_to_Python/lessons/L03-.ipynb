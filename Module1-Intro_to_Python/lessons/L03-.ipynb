{
 "cells": [
  {
   "cell_type": "markdown",
   "id": "928ebf2f-f7c9-4f05-853e-4e09b6dd2128",
   "metadata": {},
   "source": [
    "## Getting Input"
   ]
  },
  {
   "cell_type": "markdown",
   "id": "08a788b5-a664-4b8b-a6af-20d4ae90d5e6",
   "metadata": {},
   "source": [
    "## Program Arguments"
   ]
  },
  {
   "cell_type": "markdown",
   "id": "b3728026-9426-439a-8ea8-20370923fc5a",
   "metadata": {},
   "source": [
    "## Opening and Reading Files"
   ]
  },
  {
   "cell_type": "markdown",
   "id": "dd2a55c4-7c89-4771-ac03-004b4666c169",
   "metadata": {},
   "source": [
    "## Writing Files"
   ]
  },
  {
   "cell_type": "code",
   "execution_count": null,
   "id": "0f69b151-2d3f-4691-bb2d-efdedbd33f49",
   "metadata": {},
   "outputs": [],
   "source": []
  }
 ],
 "metadata": {
  "kernelspec": {
   "display_name": "Python 3 (ipykernel)",
   "language": "python",
   "name": "python3"
  },
  "language_info": {
   "codemirror_mode": {
    "name": "ipython",
    "version": 3
   },
   "file_extension": ".py",
   "mimetype": "text/x-python",
   "name": "python",
   "nbconvert_exporter": "python",
   "pygments_lexer": "ipython3",
   "version": "3.8.10"
  }
 },
 "nbformat": 4,
 "nbformat_minor": 5
}
