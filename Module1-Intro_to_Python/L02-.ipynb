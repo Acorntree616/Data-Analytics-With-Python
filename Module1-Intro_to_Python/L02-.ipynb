{
 "cells": [
  {
   "cell_type": "markdown",
   "id": "5cbe186d-70fb-4774-ad24-2f0fd2d606b4",
   "metadata": {},
   "source": [
    "## Hello World!"
   ]
  },
  {
   "cell_type": "markdown",
   "id": "ccb098a1-dd05-4168-b928-38461dfb3cd4",
   "metadata": {},
   "source": [
    "## Commenting Your Code"
   ]
  },
  {
   "cell_type": "markdown",
   "id": "6ee1bb42-859b-4866-a09b-6f996b13b26e",
   "metadata": {},
   "source": [
    "## Math"
   ]
  },
  {
   "cell_type": "markdown",
   "id": "471565e8-5a17-4bfd-b029-c801d87d2669",
   "metadata": {},
   "source": [
    "## Variables"
   ]
  },
  {
   "cell_type": "markdown",
   "id": "d9c858fb-c799-4951-8c2e-66ba57008a9e",
   "metadata": {},
   "source": [
    "## Strings"
   ]
  },
  {
   "cell_type": "markdown",
   "id": "d2756d30-c8cd-4e34-a086-ff37b702c063",
   "metadata": {},
   "source": [
    "## Printing"
   ]
  }
 ],
 "metadata": {
  "kernelspec": {
   "display_name": "Python 3 (ipykernel)",
   "language": "python",
   "name": "python3"
  },
  "language_info": {
   "codemirror_mode": {
    "name": "ipython",
    "version": 3
   },
   "file_extension": ".py",
   "mimetype": "text/x-python",
   "name": "python",
   "nbconvert_exporter": "python",
   "pygments_lexer": "ipython3",
   "version": "3.8.10"
  }
 },
 "nbformat": 4,
 "nbformat_minor": 5
}
