{
 "cells": [
  {
   "cell_type": "markdown",
   "id": "3f642d0e-73c6-43d4-90c8-36c09798386e",
   "metadata": {},
   "source": [
    "# Course Setup\n",
    "Now that we have Anaconda with Python installed, we have learned to use the command-line, and we have a basic understanding of Git, we are ready to get started! To help simplify instructions in this lesson, we will setup our project directories in the same location on the file system and clone the course repository from GitHub.  Follow the instructions below."
   ]
  },
  {
   "cell_type": "markdown",
   "id": "b5f81221-9fe3-4310-91db-ac569f12c090",
   "metadata": {},
   "source": [
    "## Working Directory\n",
    "You are free to create files for this course where ever you like, but if you would like to follow this course more closely you can create your working directory in the following way.  \n",
    "\n",
    "For this course, we will create a `courses` directory. This is where you can clone the project repository. \n",
    "\n",
    "### On Windows\n",
    "Open the Anaconda Prompt. The shell will place you in your home directory.  This would be a fine place to work on this course, but Windows makes your home directory a bit hard to find.  In windows if you open the file browser you'll have easy access to your `Desktop`, `Documents` and `Downloads` folders.  So, let's use the `Documents` folder so that you can easily find the course material just by using the file browser. In the Powershell, run the following commands to enter the Documents folder, create the courses directory and then change to the courses directory:\n",
    "\n",
    "```bash\n",
    "cd Documents\n",
    "mkdir courses\n",
    "cd courses\n",
    "```\n",
    "\n",
    "If you look in your file browser you'll now see the courses folder!\n",
    "\n",
    "### On UNIX/Linux of OS X\n",
    "Open your terminal.  The shell will place you in your home directory. This will be the location where we will store the course files. In the terminal, run the following commands create the courses directory and then change to the courses directory:\n",
    "\n",
    "```bash\n",
    "mkdir courses\n",
    "cd courses\n",
    "```"
   ]
  },
  {
   "cell_type": "markdown",
   "id": "8720c784-3593-4b4f-9181-654f9b6eaee4",
   "metadata": {},
   "source": [
    "## Fork the Course Repository\n",
    "Next, you need to create a copy of this course respository within your own GitHub space.  By this point you should have already created a GitHub account and have your own space on GitHub.  The course repository is found here:  https://github.com/spficklin/Data-Analytics-With-Python.  If you navigate to that web page you will see the following:\n",
    "\n",
    "![GitHub Fork](../media/L01-git-fork.png)\n",
    "\n",
    "Notice the <kbd>Fork</kbd> button at the top?  Click that button.  You will then see a new page that will allow you to specify where you want to create the copy. By default, it should have your username as the \"Owner\".  Leave all options as they are and click the <kbd>Create Fork</kbd> button.  You now have your own copy of the repository!  "
   ]
  },
  {
   "cell_type": "markdown",
   "id": "c994104a-3853-46ac-a3bc-3493f7be280b",
   "metadata": {},
   "source": [
    "## Clone the Forked Repository\n",
    "\n",
    "Next, you want to create a local copy on your computer of your forked repository.  You can do this on as many computers as you would like (e.g. a laptop and a desktop computer).  To create a copy we will **clone** the forked copy.  Notice on the GitHub page of your forked copy there is a green button that says <kbd>Code</kbd>.  Click that button you should see a dialogue box that looks like the following:\n",
    "\n",
    "<img src=\"../media/L01-git-clone.png\" width=\"300\">\n",
    "\n",
    "In the section that says \"Clone\", make sure the \"SSH\" tab is selected (not the \"HTML\" tab). Copy the URI that looks like an email address: `git@github.com:...` by clicking on the overlapping boxes at the end of the URI. That is the address for your forked repository.  You can now create the copy of the repository on your local computer with the `git clone` command followed by this address you just copied.  For example, it should look something like this:\n",
    "\n",
    "```bash\n",
    "git clone git@github.com:<username>/Data-Analytics-With-Python.git\n",
    "```\n",
    "\n",
    "Where `<username>` should be replaced with your GitHub username.   If successful, you should see something like the following:\n",
    "\n",
    "```bash\n",
    "(base) C:\\Users\\steph\\Documents\\courses>git clone git@github.com:bob/Data-Analytics-With-Python.git\n",
    "Cloning into 'Data-Analytics-With-Python'...\n",
    "remote: Enumerating objects: 226, done.\n",
    "remote: Counting objects: 100% (153/153), done.\n",
    "remote: Compressing objects: 100% (72/72), done.\n",
    "Receiving objects: 100% (226/226), 1.50 MiB | 3.55 MiB/s, done.ed 73\n",
    "\n",
    "Resolving deltas: 100% (117/117), done.\n",
    "```\n",
    "\n",
    "If you look in your file browser you should see that the repository and all of its files are now present on your local machine!\n"
   ]
  },
  {
   "cell_type": "markdown",
   "id": "d9cb66e2-eb67-409c-bda6-43b448c66fb8",
   "metadata": {},
   "source": [
    "## Troubleshooting\n",
    "Did your fork and clone of the repository work correctly?  If not, try veryifying the following:\n",
    "1.  Did you properly install Git?\n",
    "2.  Did you create your GitHub account?\n",
    "3.  Did the fork work?  Do you see a copy of the course repository in your GitHub home page?\n",
    "4.  Did you setup your SSH key properly with GitHub?\n",
    "5.  Are you in the pr"
   ]
  },
  {
   "cell_type": "markdown",
   "id": "8c9e4acc-71c4-45e1-a4f2-8d7585c49e15",
   "metadata": {},
   "source": [
    "## How to use the Repository"
   ]
  }
 ],
 "metadata": {
  "kernelspec": {
   "display_name": "Python 3 (ipykernel)",
   "language": "python",
   "name": "python3"
  },
  "language_info": {
   "codemirror_mode": {
    "name": "ipython",
    "version": 3
   },
   "file_extension": ".py",
   "mimetype": "text/x-python",
   "name": "python",
   "nbconvert_exporter": "python",
   "pygments_lexer": "ipython3",
   "version": "3.9.7"
  }
 },
 "nbformat": 4,
 "nbformat_minor": 5
}
