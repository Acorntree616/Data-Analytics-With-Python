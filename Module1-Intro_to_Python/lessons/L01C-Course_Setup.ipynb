{
 "cells": [
  {
   "cell_type": "markdown",
   "id": "3f642d0e-73c6-43d4-90c8-36c09798386e",
   "metadata": {},
   "source": [
    "# Course Setup"
   ]
  },
  {
   "cell_type": "markdown",
   "id": "7aa3f38f-fd4b-4b7c-a221-f336c02f6f1f",
   "metadata": {},
   "source": [
    "## Using the Jupyter Terminal"
   ]
  },
  {
   "cell_type": "markdown",
   "id": "b8ef96d5-0adb-4dd3-b4f1-083d97b303de",
   "metadata": {},
   "source": [
    "In a previous lesson we learned to use the command-line"
   ]
  },
  {
   "cell_type": "markdown",
   "id": "b5f81221-9fe3-4310-91db-ac569f12c090",
   "metadata": {},
   "source": [
    "## Working Directory"
   ]
  },
  {
   "cell_type": "markdown",
   "id": "8720c784-3593-4b4f-9181-654f9b6eaee4",
   "metadata": {},
   "source": [
    "## Clone the Course Repository"
   ]
  },
  {
   "cell_type": "markdown",
   "id": "8c9e4acc-71c4-45e1-a4f2-8d7585c49e15",
   "metadata": {},
   "source": [
    "## How to use the Repository"
   ]
  }
 ],
 "metadata": {
  "kernelspec": {
   "display_name": "Python 3 (ipykernel)",
   "language": "python",
   "name": "python3"
  },
  "language_info": {
   "codemirror_mode": {
    "name": "ipython",
    "version": 3
   },
   "file_extension": ".py",
   "mimetype": "text/x-python",
   "name": "python",
   "nbconvert_exporter": "python",
   "pygments_lexer": "ipython3",
   "version": "3.10.6"
  }
 },
 "nbformat": 4,
 "nbformat_minor": 5
}
