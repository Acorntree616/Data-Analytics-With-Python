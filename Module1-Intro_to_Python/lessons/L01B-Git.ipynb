{
 "cells": [
  {
   "cell_type": "markdown",
   "id": "83fb9d72-ec7f-4feb-9493-a1b872c90b52",
   "metadata": {},
   "source": [
    "# Lesson 1: Git"
   ]
  },
  {
   "cell_type": "markdown",
   "id": "86bf917e-ed93-4842-bd39-63ff8f6bbfe4",
   "metadata": {},
   "source": [
    "## What is Git?"
   ]
  },
  {
   "cell_type": "markdown",
   "id": "0a1ff9bf-7ab9-4313-85ae-a0d88272d1ee",
   "metadata": {},
   "source": [
    "## Installation"
   ]
  },
  {
   "cell_type": "markdown",
   "id": "559e2cad-985c-45a6-9c20-2e4786d27ebf",
   "metadata": {},
   "source": [
    "### Install on Windows"
   ]
  },
  {
   "cell_type": "markdown",
   "id": "621d224c-cc14-4df7-b2a8-25cf641bebee",
   "metadata": {},
   "source": [
    "Navigate to http://gitforwindows.org/ and download the latest Git for windows installer. Follow the instructions from the install wizard to complete the installation, go ahead and let git install the Git Bash terminal."
   ]
  },
  {
   "cell_type": "markdown",
   "id": "93c81932-d883-4a63-ab63-ece7aad7cef7",
   "metadata": {},
   "source": [
    "### Install on MacOS"
   ]
  },
  {
   "cell_type": "markdown",
   "id": "f4a393f4-4ac8-412e-bbaf-142baa098583",
   "metadata": {},
   "source": [
    "Follow the instructions at https://git-scm.com/book/en/v2/Getting-Started-Installing-Git under the “Installing on macOS” section."
   ]
  },
  {
   "cell_type": "markdown",
   "id": "925cc71d-e1cb-45a4-9425-e771370f2206",
   "metadata": {},
   "source": [
    "### Install on Ubuntu Linux"
   ]
  },
  {
   "cell_type": "markdown",
   "id": "2ddc48b3-0298-4ed9-a5e8-391d58f68e8c",
   "metadata": {},
   "source": [
    "Follow the instructions at https://git-scm.com/book/en/v2/Getting-Started-Installing-Git under the “Installing on Linux” section."
   ]
  },
  {
   "cell_type": "markdown",
   "id": "44cb1935-b6a5-41ec-a120-011b88696de9",
   "metadata": {},
   "source": [
    "## Setup"
   ]
  },
  {
   "cell_type": "markdown",
   "id": "4ac5ab9c-bb01-456a-bd52-4e02384633c3",
   "metadata": {},
   "source": [
    "Open a terminal and check the version you have installed by running the following command.  What does it show?"
   ]
  },
  {
   "cell_type": "raw",
   "id": "9cf8afb2-d7b7-41d7-a6da-5a6e442745b3",
   "metadata": {},
   "source": [
    "git --version"
   ]
  },
  {
   "cell_type": "markdown",
   "id": "25e1f61b-079a-494f-ae86-99596d943694",
   "metadata": {},
   "source": [
    "Next, configure your Git username and email, replace your name and email with your own (be sure to leave the quotes)."
   ]
  },
  {
   "cell_type": "raw",
   "id": "11b06d28-dc63-4da0-8af7-ddfffad9fb08",
   "metadata": {},
   "source": [
    "git config --global user.name \"Your Name\"\n",
    "git config --global user.email \"your_email@wsu.edu\""
   ]
  },
  {
   "cell_type": "markdown",
   "id": "0b20b073-b103-4680-ae81-f72fa1db588e",
   "metadata": {},
   "source": [
    "## Cheat Sheet"
   ]
  },
  {
   "cell_type": "code",
   "execution_count": null,
   "id": "3610cbee-e923-4063-a10a-73220c377303",
   "metadata": {},
   "outputs": [],
   "source": []
  }
 ],
 "metadata": {
  "kernelspec": {
   "display_name": "Python 3 (ipykernel)",
   "language": "python",
   "name": "python3"
  },
  "language_info": {
   "codemirror_mode": {
    "name": "ipython",
    "version": 3
   },
   "file_extension": ".py",
   "mimetype": "text/x-python",
   "name": "python",
   "nbconvert_exporter": "python",
   "pygments_lexer": "ipython3",
   "version": "3.10.6"
  }
 },
 "nbformat": 4,
 "nbformat_minor": 5
}
