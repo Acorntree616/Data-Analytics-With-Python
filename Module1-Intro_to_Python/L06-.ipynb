{
 "cells": [
  {
   "cell_type": "markdown",
   "id": "5ccc8b80-2529-4bf5-af42-a63ad6fe43b3",
   "metadata": {},
   "source": [
    "## Modules"
   ]
  },
  {
   "cell_type": "markdown",
   "id": "9dc2ad3a-6946-4879-a6b9-111607d8c5c7",
   "metadata": {},
   "source": [
    "## Introduction to Objects"
   ]
  }
 ],
 "metadata": {
  "kernelspec": {
   "display_name": "Python 3 (ipykernel)",
   "language": "python",
   "name": "python3"
  },
  "language_info": {
   "codemirror_mode": {
    "name": "ipython",
    "version": 3
   },
   "file_extension": ".py",
   "mimetype": "text/x-python",
   "name": "python",
   "nbconvert_exporter": "python",
   "pygments_lexer": "ipython3",
   "version": "3.8.10"
  }
 },
 "nbformat": 4,
 "nbformat_minor": 5
}
