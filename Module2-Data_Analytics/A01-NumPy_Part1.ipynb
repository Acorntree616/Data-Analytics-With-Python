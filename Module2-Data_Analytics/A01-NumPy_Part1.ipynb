{
 "cells": [
  {
   "cell_type": "markdown",
   "metadata": {},
   "source": [
    "# Assignment 1: NumPy Part 1\n"
   ]
  },
  {
   "cell_type": "markdown",
   "metadata": {},
   "source": [
    "## Learning Objectives\n",
    "This lesson meets the following learning objectives:\n",
    "\n",
    "- The ability to use Python data structures provided in NumPy."
   ]
  },
  {
   "cell_type": "markdown",
   "metadata": {},
   "source": [
    "## Instructions\n",
    "Read through all of the text in this page. This assignment provides step-by-step training divided into numbered sections. The sections often contain embeded exectable code for demonstration.  Section headers with icons have special meanings:  \n",
    "\n",
    "- <i class=\"fas fa-puzzle-piece\"></i> The puzzle icon indicates that the section provides a practice exercise that must be completed.  Follow the instructions for the exercise and do what it asks.  Exercises must be turned in for credit.\n",
    "- <i class=\"fa fa-cogs\"></i> The cogs icon indicates that the section provides a task to perform.  Follow the instructions to complete the task.  Tasks are not turned in for credit but must be completed to continue progress.\n",
    "\n",
    "Review the list of items in the **Expected Outcomes** section to check that you feel comfortable with the material you just learned. If you do not, then take some time to re-review that material again. If after re-review you are not comfortable, do not feel confident or do not understand the material, please ask questions on Slack to help.\n",
    "\n",
    "Follow the instructions in the **What to turn in** section to turn in the exercises of the assginment for course credit."
   ]
  },
  {
   "cell_type": "markdown",
   "metadata": {},
   "source": [
    "## Background\n",
    "This notebook is based on the official `NumPy` [documentation](https://docs.scipy.org/doc/numpy/user/quickstart.html).  Unless otherwise credited, quoted text comes from this document.  The Numpy documention describes NumPy in the following way:\n",
    "\n",
    "> NumPy is the fundamental package for scientific computing with Python. It contains among other things:\n",
    "> - a powerful N-dimensional array object\n",
    "> - sophisticated (broadcasting) functions\n",
    "> - tools for integrating C/C++ and Fortran code\n",
    "> - useful linear algebra, Fourier transform, and random number capabilities\n",
    ">\n",
    "> Besides its obvious scientific uses, NumPy can also be used as an efficient multi-dimensional container of generic data. Arbitrary data-types can be defined. This allows NumPy to seamlessly and speedily integrate with a wide variety of databases.\n"
   ]
  },
  {
   "cell_type": "markdown",
   "metadata": {},
   "source": [
    "## <i class=\"fa fa-cogs\"></i> Notebook Setup\n",
    "First, we must import the NumPy library.  All packages are imported at the top of the notebook. Execute the code in the following cell to get started with this notebook (type Ctrl+Enter in the cell below)"
   ]
  },
  {
   "cell_type": "code",
   "execution_count": null,
   "metadata": {},
   "outputs": [],
   "source": [
    "# Import numpy\n",
    "import numpy as np"
   ]
  },
  {
   "cell_type": "markdown",
   "metadata": {},
   "source": [
    "The code above imports numpy as a variable named `np`. We can use this variables to access the functionality of NumPy.  The above is what we will use for the rest of this class.\n",
    "\n",
    "You may be wondering why we didn't import numpy like this:  \n",
    "```python\n",
    "import numpy\n",
    "```\n",
    "We could, but the first is far more commonly seen, and allows us to the `np` variable to access the functions and variables of the NumPy package. This makes the code more readable because it is not a mystery where the functions come from that we are using."
   ]
  },
  {
   "cell_type": "markdown",
   "metadata": {},
   "source": [
    "## 1. The NumPy Array\n",
    "### 1.1. Learning\n",
    "What is an array?  An array is a data structure that stores one or more objects of the same type (e.g. integers, strings, etc.) and can be multi-dimensional (e.g. 2D matricies). In python, the list data type provides this type of functionality, however, it lacks important operations that make it useful for scientific computing.  Therefore, NumPy is a Python package that defines N-dimensional arrays and provides support for linear algebra, and other fucntions useful to scientific computing.\n",
    "\n",
    "From the Numpy QuickStart Tutorial: \n",
    "> NumPy’s main object is the homogeneous multidimensional array. It is a table of elements (usually numbers), all of the same type, indexed by a tuple of positive integers. In NumPy dimensions are called axes. \n",
    "\n",
    "<div class=\"alert alert-warning\">\n",
    "    <b>Note</b>:  a \"tuple\" is a list of numbers. For example, the pair of numbers surrounded by parentheses: (2,4), is a tuple containing two numbers.\n",
    "</div>\n",
    "\n",
    "NumPy arrays can be visualized in the following way:\n",
    "\n",
    "<img src=\"./media/A01-content_arrays-axes.png\">\n",
    "\n",
    "(image source: https://www.datacamp.com/community/tutorials/python-numpy-tutorial)"
   ]
  },
  {
   "cell_type": "markdown",
   "metadata": {},
   "source": [
    "Using built-in Python lists, arrays are created in the following way:\n",
    "\n",
    "```python\n",
    "# A 1-dimensional list of numbers.\n",
    "my_array = [1,2,3]  \n",
    "\n",
    "# A 2-dimensional list of numbers.\n",
    "my_2d_array = [[1,2,3],[4,5,6]]\n",
    "\n",
    "# A 3-dimensional list of numbers.\n",
    "my_3d_array = [[[1,2,3], [4,5,6]], [[7,8,9], [10,11,12]]]\n",
    "\n",
    "# Two lists of boolean values\n",
    "a = [True, True, False, False]\n",
    "b = [False, False, True, True]\n",
    "\n",
    "```"
   ]
  },
  {
   "cell_type": "markdown",
   "metadata": {},
   "source": [
    "Using NumPy, arrays are created using the `np.array()` function. For example, arrays with the same contents as above are created in the following way:\n",
    "\n",
    "```python\n",
    "# A 1-dimensional list of numbers.\n",
    "my_array = np.array([1,2,3,4])\n",
    "\n",
    "# A 2-dimensional list of numbers.\n",
    "my_2d_array = np.array([[1,2,3,4], [5,6,7,8]])\n",
    "\n",
    "# A 3-dimensional list of numbers.\n",
    "my_3d_array = np.array([[[1,2,3,4], [5,6,7,8]], [[1,2,3,4], [9,10,11,12]]])\n",
    "\n",
    "# Two lists of boolean values\n",
    "a = np.array([True,True,False,False])\n",
    "b = np.array([False,False,True,True])\n",
    "```\n",
    "\n",
    "In NumPy, these arrays are an object of type `ndarray`.  You can learn more about the `ndarray` class on the [NumPy ndarray introduction page](https://docs.scipy.org/doc/numpy/reference/arrays.ndarray.html). However, this tutorial will walk you through some of the most important attributes, functions and uses of NumPy."
   ]
  },
  {
   "cell_type": "markdown",
   "metadata": {},
   "source": [
    "### 1.2. <i class=\"fas fa-puzzle-piece\"></i> Practice\n",
    "\n",
    "Perform the following in the cell below.  \n",
    "- Create a 1-dimensional numpy array and print it.\n",
    "- Create a 2-dimensional numpy array and print it.\n",
    "- Create a 3-dimensional numpy array and print it."
   ]
  },
  {
   "cell_type": "code",
   "execution_count": 11,
   "metadata": {},
   "outputs": [
    {
     "name": "stdout",
     "output_type": "stream",
     "text": [
      "[1 3 5 8] \n",
      "\n",
      "[[1 3 5 8]\n",
      " [2 4 6 8]] \n",
      "\n",
      "[[[ 1  3  5  8]\n",
      "  [ 2  4  6  8]]\n",
      "\n",
      " [[ 1  3  5  7]\n",
      "  [ 9 11 13 17]]] \n",
      "\n"
     ]
    }
   ],
   "source": [
    "my_array = np.array([1,3,5,8])\n",
    "print(my_array, '\\n')\n",
    "my_2darray = np.array([[1,3,5,8], [2,4,6,8]])\n",
    "print(my_2darray, '\\n')\n",
    "my_3darray = np.array([[[1,3,5,8], [2,4,6,8]], [[1,3,5,7], [9,11,13,17]]])\n",
    "print(my_3darray, '\\n')"
   ]
  },
  {
   "cell_type": "markdown",
   "metadata": {},
   "source": [
    "## 2. Array Attributes\n",
    "### 2.1. Learning \n",
    "For this section we will retrieve information about the arrays. Once an array is created you can access information about the array such as the number of dimensions, its shape, its size, the data type that it stores, and the number of bytes it is consuming. There are a variety of attributes you can use such as:\n",
    "+ `ndim`\n",
    "+ `shape`\n",
    "+ `size`\n",
    "+ `dtype`\n",
    "+ `itemsize`\n",
    "+ `data`\n",
    "+ `nbytes`\n",
    "\n",
    "For example, to get the number of dimensions for an array:\n",
    "```Python\n",
    "# Print the number of dimensions for the array:\n",
    "print(my_3d_array.ndim)\n",
    "```\n",
    "\n",
    "You can learn more about these attributes, and others from the [NumPy ndarray reference page](https://docs.scipy.org/doc/numpy/reference/generated/numpy.ndarray.html) if you need help understanding the attributes.\n",
    "\n",
    "Notice that we use dot notation to access these attributes, yet we do not provide the parenthesis `()` like we would for a function call.  This is because we are accessing attributes (i.e. member variables) of the numpy object, we are not calling a function"
   ]
  },
  {
   "cell_type": "markdown",
   "metadata": {},
   "source": [
    "### 2.1. <i class=\"fas fa-puzzle-piece\"></i> Practice\n",
    "\n",
    "\n",
    "\n",
    "In the cell below, perform the following.\n",
    "\n",
    "- Create a NumPy array.\n",
    "- Write code that prints these attributes (one per line): `ndim`, `shape`, `size`, `dtype`, `itemsize`, `data`, `nbytes`.\n",
    "- Add a comment line, before each line describing what value the attribute returns. \n"
   ]
  },
  {
   "cell_type": "code",
   "execution_count": 10,
   "metadata": {},
   "outputs": [
    {
     "name": "stdout",
     "output_type": "stream",
     "text": [
      "3\n",
      "(2, 2, 4)\n",
      "16\n",
      "int32\n",
      "4\n",
      "<memory at 0x00000223EFD196D0>\n",
      "64\n"
     ]
    }
   ],
   "source": [
    "my_3darray = np.array([[[1,3,5,8], [2,4,6,8]], [[1,3,5,7], [9,11,13,17]]])\n",
    "#prints the number of dimensions in the array\n",
    "print(my_3darray.ndim)\n",
    "#prints the shape of the array\n",
    "print(my_3darray.shape)\n",
    "#prints the size of the array\n",
    "print(my_3darray.size)\n",
    "#prints the data type of the array\n",
    "print(my_3darray.dtype)\n",
    "#prints one array element size in bytes.\n",
    "print(my_3darray.itemsize)\n",
    "#prints the object that leads to the start of the data\n",
    "print(my_3darray.data)\n",
    "#prints the total bytes consumed by the array\n",
    "print(my_3darray.nbytes)"
   ]
  },
  {
   "cell_type": "markdown",
   "metadata": {},
   "source": [
    "## 3. Creating Initialized Arrays\n",
    "### 3.1. Learning\n",
    "\n",
    "Here we will learn to create initialized arrays. These arrays are pre-initalized with default values.  NumPy provides a variety of functions for creating and intializing an array in easy-to-use functions. Some of these include: \n",
    "\n",
    "+ [np.ones()](https://docs.scipy.org/doc/numpy/reference/generated/numpy.ones.html#numpy.ones): Returns a new array of given shape and type, filled with ones.\n",
    "+ [np.zeroes()](https://docs.scipy.org/doc/numpy/reference/generated/numpy.zeros.html#numpy.zeros): Returns a new array of given shape and type, filled with zeros.\n",
    "+ [np.empty()](https://docs.scipy.org/doc/numpy/reference/generated/numpy.empty.html#numpy.empty): Return a new array of given shape and type, without initializing entries.\n",
    "+ [np.full()](https://docs.scipy.org/doc/numpy/reference/generated/numpy.full.html#numpy.full): Returns a new array of given shape and type, filled with a given fill value.\n",
    "+ [np.arange()](https://docs.scipy.org/doc/numpy/reference/generated/numpy.arange.html#numpy.arange): Returns a new array of evenly spaced values within a given interval.\n",
    "+ [np.linspace()](https://docs.scipy.org/doc/numpy/reference/generated/numpy.linspace.html#numpy.linspace): Returns a new array of evenly spaced numbers over a specified interval.\n",
    "+ [np.random.random](https://docs.scipy.org/doc/numpy-1.14.0/reference/generated/numpy.random.random.html): Can be used to return a single random value or an array of random values between 0 and 1.\n",
    "\n",
    "Take a moment, to learn more about the functions listed above by clicking on the function name as it links to the NumPy documentation.  Pay attention to the arguments that each receives and the type of output (i.e array) it generates.\n",
    "\n",
    "NumPy has a large list of array creation functions, you can learn more about these functions on the [array creation routins page](https://docs.scipy.org/doc/numpy/reference/routines.array-creation.html) of the NumPy documentation. \n",
    "\n",
    "To demonstrate the use of these functions, the following code will create a two-dimensional array with 3 rows and 4 columns (i.e 3 *x* 4) filled with 0's.  \n",
    "\n",
    "```Python\n",
    "zeros = np.zeros((3, 4))\n",
    "```\n",
    "\n",
    "The following creates a 1D array of values between 3 and 7\n",
    "\n",
    "```Python\n",
    "np.arange(3, 7)\n",
    "```\n",
    "The result is: `array([3, 4, 5, 6])`\n",
    "\n",
    "The following creates a 1D array of values between 0 and 10 spaced every 2 integers:\n",
    "\n",
    "```Python\n",
    "np.arange(0, 10, 2)\n",
    "```\n",
    "The result is: `array([0, 2, 4, 6, 8])`\n",
    "\n",
    "Notice that just like with Python list slicing, the range uncludes up-to, but not including the \"stop\" value of the range.\n"
   ]
  },
  {
   "cell_type": "markdown",
   "metadata": {},
   "source": [
    "### 3.1. <i class=\"fas fa-puzzle-piece\"></i> Practice\n",
    "\n",
    "In the cell below notebook, perform the following.\n",
    "\n",
    "+ Create an initialized array by using these functions:  `ones`, `zeros`, `empty`, `full`, `arange`, `linspace` and `random.random`. Be sure to follow each array creation with a call to `print()` to display your newly created arrays. \n",
    "+ Add a comment above each function call describing what is being done.  "
   ]
  },
  {
   "cell_type": "code",
   "execution_count": 15,
   "metadata": {},
   "outputs": [
    {
     "name": "stdout",
     "output_type": "stream",
     "text": [
      "ones\n",
      "[[1. 1.]\n",
      " [1. 1.]\n",
      " [1. 1.]]\n",
      "zeros\n",
      "[[0. 0. 0.]\n",
      " [0. 0. 0.]\n",
      " [0. 0. 0.]]\n",
      "empty\n",
      "[[6.23042070e-307 4.67296746e-307 1.69121096e-306 1.24611266e-306]\n",
      " [7.56587584e-307 1.37961302e-306 1.05699242e-307 8.01097889e-307]\n",
      " [1.78020169e-306 7.56601165e-307 1.02359984e-306 1.33510679e-306]\n",
      " [2.22522597e-306 6.23053614e-307 1.60221072e-306 1.42410974e-306]]\n",
      "full\n",
      "[[6 6 6 6 6 6]\n",
      " [6 6 6 6 6 6]\n",
      " [6 6 6 6 6 6]]\n",
      "arrange\n",
      "[ 0 10 20 30 40 50 60 70 80 90]\n",
      "linspace\n",
      "[  0.           2.04081633   4.08163265   6.12244898   8.16326531\n",
      "  10.20408163  12.24489796  14.28571429  16.32653061  18.36734694\n",
      "  20.40816327  22.44897959  24.48979592  26.53061224  28.57142857\n",
      "  30.6122449   32.65306122  34.69387755  36.73469388  38.7755102\n",
      "  40.81632653  42.85714286  44.89795918  46.93877551  48.97959184\n",
      "  51.02040816  53.06122449  55.10204082  57.14285714  59.18367347\n",
      "  61.2244898   63.26530612  65.30612245  67.34693878  69.3877551\n",
      "  71.42857143  73.46938776  75.51020408  77.55102041  79.59183673\n",
      "  81.63265306  83.67346939  85.71428571  87.75510204  89.79591837\n",
      "  91.83673469  93.87755102  95.91836735  97.95918367 100.        ]\n",
      "random\n",
      "[[0.32873001 0.97637797 0.43540388 0.33587715 0.53998383 0.43182769]\n",
      " [0.95643904 0.76962742 0.82885748 0.02959778 0.69877672 0.4831863 ]\n",
      " [0.26388929 0.94833031 0.48455416 0.81330577 0.30986799 0.91261621]]\n"
     ]
    }
   ],
   "source": [
    "# Import numpy\n",
    "import numpy as np\n",
    "#Creates a 3x2 array filled with ones and prints it\n",
    "a_1 = np.ones([3, 2])\n",
    "print('ones')\n",
    "print(a_1)\n",
    "#Creates a 3x3 array filled with zeros and prints it\n",
    "b_1 = np.zeros([3, 3])\n",
    "print('zeros')\n",
    "print(b_1)\n",
    "#Creates a 4x4 array that is empty and prints it (but its empty so it doesn't)\n",
    "c_1 = np.empty([4, 4])\n",
    "print('empty')\n",
    "print(c_1)\n",
    "#Creates a 3x6 array filled with the int 6\n",
    "d_1 = np.full([3, 6], 6)\n",
    "print('full')\n",
    "print(d_1)\n",
    "#Creates an array of the numbers from 0 to 100 by tens\n",
    "e_1 = np.arange(0, 100, 10)\n",
    "print('arrange')\n",
    "print(e_1)\n",
    "#Creates an array of evenly numbers evenly spaced from 0 - 100\n",
    "f_1 = np.linspace(0, 100)\n",
    "print('linspace')\n",
    "print(f_1)\n",
    "#Creates an 3x6 array of random numbers between 0-1\n",
    "g_1 = np.random.random([3, 6])\n",
    "print('random')\n",
    "print(g_1)"
   ]
  },
  {
   "cell_type": "markdown",
   "metadata": {},
   "source": [
    "## 4. Performing Math and Broadcasting\n",
    "### 4.1. Learning\n",
    "\n",
    "At times you may want to apply mathematical operations between arrays. For example, suppose you wanted to add, multiply or divide the contents of two arrays.  If the two arrays are the same size this is straightfoward. However if the arrays are not the same size then it is more challenging.  This is where Broadcasting comes to play:\n",
    "\n",
    "> The term broadcasting describes how numpy treats arrays with different shapes during arithmetic operations. Subject to certain constraints, the smaller array is “broadcast” across the larger array so that they have compatible shapes. (https://docs.scipy.org/doc/numpy/user/basics.broadcasting.html)\n"
   ]
  },
  {
   "cell_type": "markdown",
   "metadata": {},
   "source": [
    "#### 4.1.1. Arrays of the same size\n",
    "To demonstrate math with arrays of the same size, the following cell contains code that creates two arrays of the exact same size: _3 x 4_.  Execute the cell to create those arrays:"
   ]
  },
  {
   "cell_type": "code",
   "execution_count": 16,
   "metadata": {},
   "outputs": [
    {
     "name": "stdout",
     "output_type": "stream",
     "text": [
      "demo_a shape: (3, 4)\n",
      "demo_b Shape: (3, 4)\n"
     ]
    }
   ],
   "source": [
    "# Define demo arrays:\n",
    "demo_a = np.ones((3,4))\n",
    "demo_b = np.random.random((3,4))\n",
    "\n",
    "# Print the shapes of each array.\n",
    "print(f\"demo_a shape: {demo_a.shape}\")\n",
    "print(f\"demo_b Shape: {demo_b.shape}\")"
   ]
  },
  {
   "cell_type": "markdown",
   "metadata": {},
   "source": [
    "Let's print the array to see what they contain:"
   ]
  },
  {
   "cell_type": "code",
   "execution_count": 17,
   "metadata": {},
   "outputs": [
    {
     "name": "stdout",
     "output_type": "stream",
     "text": [
      "[[1. 1. 1. 1.]\n",
      " [1. 1. 1. 1.]\n",
      " [1. 1. 1. 1.]]\n",
      "[[0.86076003 0.88662315 0.66638616 0.17948703]\n",
      " [0.93975843 0.10638024 0.21773896 0.86666784]\n",
      " [0.96615126 0.24418266 0.45625231 0.9602467 ]]\n"
     ]
    }
   ],
   "source": [
    "print(demo_a)\n",
    "print(demo_b)"
   ]
  },
  {
   "cell_type": "markdown",
   "metadata": {},
   "source": [
    "Because these arrays are the same size we can perform basic math by using common arithamtic symbols. Exectue the following cell to see the results of adding the two demo arrays:"
   ]
  },
  {
   "cell_type": "code",
   "execution_count": 18,
   "metadata": {},
   "outputs": [
    {
     "data": {
      "text/plain": [
       "array([[1.86076003, 1.88662315, 1.66638616, 1.17948703],\n",
       "       [1.93975843, 1.10638024, 1.21773896, 1.86666784],\n",
       "       [1.96615126, 1.24418266, 1.45625231, 1.9602467 ]])"
      ]
     },
     "execution_count": 18,
     "metadata": {},
     "output_type": "execute_result"
    }
   ],
   "source": [
    "# These arrays have the same shape, \n",
    "demo_a + demo_b"
   ]
  },
  {
   "cell_type": "markdown",
   "metadata": {},
   "source": [
    "The addition resulted in the corresponding positions in each matrix being added to the other and creating a new matrix.  If you need clarification for how two matricies can be added or subtracted see the [Purple Math](https://www.purplemath.com/modules/mtrxadd.htm) site for examples."
   ]
  },
  {
   "cell_type": "markdown",
   "metadata": {},
   "source": [
    "#### 4.1.2. Broadcasting for Arrays of Different Sizes\n",
    "When arrays are not the same size, you cannot perform simple math.  For this, NumPy provides a service known as \"broadcasting\". To broadcast, NumPy automatically resizes the arrays to match, and fills in newly created empty cells with values.\n",
    "\n",
    "To Broadcast, NumPy begins at the right-most dimensions of the array and comparses them then moves left and compares the next set. As long as each set meet the following criteria, Broadcasting can be performed:\n",
    "\n",
    "+  The dimensions are equal or\n",
    "+  One of the dimensions is 1.\n",
    "\n",
    "Consider two arrays of the following dimensions:\n",
    "\n",
    "+ 4D array 1:  10 x 1 x 3 x 1\n",
    "+ 3D array 2:       2 x 1 x 9\n",
    "\n",
    "These arrays are not the same size, but they are compatible with broadcasting because at each diemsion (from right to left) the dimension crtieria is met. When performing math, the value in each dimension of size 1 is broadcast to fill that dimesion (an example is provided below). The resulting array, if the above arrays are added, will be broadcasted to a size of _10 x 2 x 3 x 9_"
   ]
  },
  {
   "cell_type": "markdown",
   "metadata": {},
   "source": [
    "To demonstrate math with arrays of different size, the following cell contains code that creates two arrays: one of size _3 x 4_ and onther of size _4 x 1_.  Execute the cell to create those arrays:"
   ]
  },
  {
   "cell_type": "code",
   "execution_count": 19,
   "metadata": {},
   "outputs": [
    {
     "name": "stdout",
     "output_type": "stream",
     "text": [
      "demo_c shape: (3, 4)\n",
      "demo_d Shape: (4,)\n"
     ]
    }
   ],
   "source": [
    "# Create the arrays.\n",
    "demo_c = np.ones((3,4))\n",
    "demo_d = np.arange(4)\n",
    "\n",
    "# Print the array shapes.\n",
    "print(f\"demo_c shape: {demo_c.shape}\")\n",
    "print(f\"demo_d Shape: {demo_d.shape}\")"
   ]
  },
  {
   "cell_type": "markdown",
   "metadata": {},
   "source": [
    "Let's print the array to see what they contain:"
   ]
  },
  {
   "cell_type": "code",
   "execution_count": 20,
   "metadata": {},
   "outputs": [
    {
     "name": "stdout",
     "output_type": "stream",
     "text": [
      "[[1. 1. 1. 1.]\n",
      " [1. 1. 1. 1.]\n",
      " [1. 1. 1. 1.]]\n",
      "[0 1 2 3]\n"
     ]
    }
   ],
   "source": [
    "print(demo_c)\n",
    "print(demo_d)"
   ]
  },
  {
   "cell_type": "markdown",
   "metadata": {},
   "source": [
    "Because these arrays meet our brodcasting requirements, we can perform basic math by using common arithamtic symbols. Exectue the following cell to see the results of adding the two demo arrays:"
   ]
  },
  {
   "cell_type": "code",
   "execution_count": 21,
   "metadata": {},
   "outputs": [
    {
     "data": {
      "text/plain": [
       "array([[1., 2., 3., 4.],\n",
       "       [1., 2., 3., 4.],\n",
       "       [1., 2., 3., 4.]])"
      ]
     },
     "execution_count": 21,
     "metadata": {},
     "output_type": "execute_result"
    }
   ],
   "source": [
    "demo_c + demo_d"
   ]
  },
  {
   "cell_type": "markdown",
   "metadata": {},
   "source": [
    "The addition resulted in the value in each dimension of size 1, being \"broadcast\" or \"streched\" throughout that dimesion and then used in the operation. "
   ]
  },
  {
   "cell_type": "markdown",
   "metadata": {},
   "source": [
    "#### 4.1.3. Broadcasting With Higher Dimensions"
   ]
  },
  {
   "cell_type": "markdown",
   "metadata": {},
   "source": [
    "Consider the following arrays of 2 and 3 dimensions. "
   ]
  },
  {
   "cell_type": "code",
   "execution_count": 26,
   "metadata": {},
   "outputs": [
    {
     "name": "stdout",
     "output_type": "stream",
     "text": [
      "demo_e shape: (3, 4)\n",
      "demo_f shape: (5, 1, 4)\n"
     ]
    }
   ],
   "source": [
    "demo_e = np.ones((3, 4))\n",
    "demo_f = np.random.random((5, 1, 4))\n",
    "print(f\"demo_e shape: {demo_e.shape}\")\n",
    "print(f\"demo_f shape: {demo_f.shape}\")"
   ]
  },
  {
   "cell_type": "markdown",
   "metadata": {},
   "source": [
    "Print the arrays to see what they contain:"
   ]
  },
  {
   "cell_type": "code",
   "execution_count": 27,
   "metadata": {},
   "outputs": [
    {
     "name": "stdout",
     "output_type": "stream",
     "text": [
      "[[1. 1. 1. 1.]\n",
      " [1. 1. 1. 1.]\n",
      " [1. 1. 1. 1.]]\n",
      "[[[0.47319084 0.52051698 0.67311525 0.61125095]]\n",
      "\n",
      " [[0.52025625 0.9351756  0.61169771 0.65407188]]\n",
      "\n",
      " [[0.4933753  0.74470811 0.09644875 0.53025316]]\n",
      "\n",
      " [[0.52148962 0.04655127 0.1625175  0.01878594]]\n",
      "\n",
      " [[0.87965384 0.38630836 0.52278936 0.97038774]]]\n"
     ]
    }
   ],
   "source": [
    "print(demo_e)\n",
    "print(demo_f)"
   ]
  },
  {
   "cell_type": "markdown",
   "metadata": {},
   "source": [
    "These two arrays meet the rules for broadcasting becuase they both have a 4 in their last dimension and there is a 1 in the  `demo_f` 2nd dimension.  \n",
    "\n",
    "Perform the math by executing the following cell:"
   ]
  },
  {
   "cell_type": "code",
   "execution_count": 28,
   "metadata": {
    "collapsed": true,
    "jupyter": {
     "outputs_hidden": true
    },
    "tags": []
   },
   "outputs": [
    {
     "name": "stdout",
     "output_type": "stream",
     "text": [
      "[[[1.47319084 1.52051698 1.67311525 1.61125095]\n",
      "  [1.47319084 1.52051698 1.67311525 1.61125095]\n",
      "  [1.47319084 1.52051698 1.67311525 1.61125095]]\n",
      "\n",
      " [[1.52025625 1.9351756  1.61169771 1.65407188]\n",
      "  [1.52025625 1.9351756  1.61169771 1.65407188]\n",
      "  [1.52025625 1.9351756  1.61169771 1.65407188]]\n",
      "\n",
      " [[1.4933753  1.74470811 1.09644875 1.53025316]\n",
      "  [1.4933753  1.74470811 1.09644875 1.53025316]\n",
      "  [1.4933753  1.74470811 1.09644875 1.53025316]]\n",
      "\n",
      " [[1.52148962 1.04655127 1.1625175  1.01878594]\n",
      "  [1.52148962 1.04655127 1.1625175  1.01878594]\n",
      "  [1.52148962 1.04655127 1.1625175  1.01878594]]\n",
      "\n",
      " [[1.87965384 1.38630836 1.52278936 1.97038774]\n",
      "  [1.87965384 1.38630836 1.52278936 1.97038774]\n",
      "  [1.87965384 1.38630836 1.52278936 1.97038774]]]\n"
     ]
    }
   ],
   "source": [
    "result = demo_e + demo_f\n",
    "print(result)"
   ]
  },
  {
   "cell_type": "markdown",
   "metadata": {},
   "source": [
    "The resulting array has dimensions of _5 x 3 x 4_.  For this math to work, the values from `demo_f` had to be \"stretched\" (i.e. copied and then added) in the second dimension"
   ]
  },
  {
   "cell_type": "markdown",
   "metadata": {},
   "source": [
    "### 4.2. <i class=\"fas fa-puzzle-piece\"></i> Practice\n",
    "\n",
    "In the cell below notebook, perform the following.\n",
    "\n",
    "+ Create two arrays of differing sizes but compatible with broadcasting.\n",
    "+ Perform addition, multiplication and subtraction.\n",
    "+ Create two additional arrays of differing size that do not meet the rules for broadcasting and try a mathematical operation.  "
   ]
  },
  {
   "cell_type": "code",
   "execution_count": 35,
   "metadata": {},
   "outputs": [
    {
     "name": "stdout",
     "output_type": "stream",
     "text": [
      "prac_1 shape: (4, 3)\n",
      "prac_2 shape: (3, 1, 3)\n",
      "[[0.77244064 0.90815635 0.76832872]\n",
      " [0.07895085 0.50048466 0.45239587]\n",
      " [0.87320835 0.5867262  0.9759513 ]\n",
      " [0.43946075 0.86816632 0.27685583]]\n",
      "[[[0.03217209 0.98493463 0.91604916]]\n",
      "\n",
      " [[0.97539686 0.69086483 0.78544064]]\n",
      "\n",
      " [[0.76811809 0.38541149 0.63921985]]]\n",
      "Addition\n",
      "[[[0.80461273 1.89309098 1.68437788]\n",
      "  [0.11112294 1.48541929 1.36844503]\n",
      "  [0.90538044 1.57166083 1.89200046]\n",
      "  [0.47163283 1.85310095 1.192905  ]]\n",
      "\n",
      " [[1.7478375  1.59902118 1.55376936]\n",
      "  [1.05434771 1.19134949 1.23783651]\n",
      "  [1.84860521 1.27759103 1.76139194]\n",
      "  [1.41485761 1.55903115 1.06229648]]\n",
      "\n",
      " [[1.54055874 1.29356783 1.40754857]\n",
      "  [0.84706895 0.88589614 1.09161572]\n",
      "  [1.64132645 0.97213769 1.61517115]\n",
      "  [1.20757884 1.25357781 0.91607568]]]\n",
      "Subtraction\n",
      "[[[-0.74026856  0.07677828  0.14772044]\n",
      "  [-0.04677877  0.48444997  0.46365329]\n",
      "  [-0.84103627  0.39820843 -0.05990214]\n",
      "  [-0.40728866  0.11676831  0.63919333]]\n",
      "\n",
      " [[ 0.20295621 -0.21729152  0.01711193]\n",
      "  [ 0.896446    0.19038017  0.33304478]\n",
      "  [ 0.1021885   0.10413863 -0.19051066]\n",
      "  [ 0.53593611 -0.1773015   0.50858481]]\n",
      "\n",
      " [[-0.00432255 -0.52274486 -0.12910887]\n",
      "  [ 0.68916724 -0.11507317  0.18682398]\n",
      "  [-0.10509026 -0.20131472 -0.33673145]\n",
      "  [ 0.32865734 -0.48275484  0.36236402]]]\n",
      "Multiplication\n",
      "[[[0.02485103 0.89447464 0.70382688]\n",
      "  [0.00254001 0.49294467 0.41441686]\n",
      "  [0.02809293 0.57788696 0.89401937]\n",
      "  [0.01413837 0.85508708 0.25361355]]\n",
      "\n",
      " [[0.75343618 0.62741328 0.6034766 ]\n",
      "  [0.07700841 0.34576725 0.3553301 ]\n",
      "  [0.85172468 0.4053485  0.76655182]\n",
      "  [0.42864863 0.59978558 0.21745382]]\n",
      "\n",
      " [[0.59332563 0.35001389 0.49113097]\n",
      "  [0.06064358 0.19289254 0.28918042]\n",
      "  [0.67072714 0.22613102 0.62384744]\n",
      "  [0.33755775 0.33460127 0.17697174]]]\n"
     ]
    }
   ],
   "source": [
    "prac_1 = np.random.random((4, 3))\n",
    "prac_2 = np.random.random((3, 1, 3))\n",
    "print(f\"prac_1 shape: {prac_1.shape}\")\n",
    "print(f\"prac_2 shape: {prac_2.shape}\")\n",
    "\n",
    "print(prac_1)\n",
    "print(prac_2)\n",
    "\n",
    "print('Addition')\n",
    "result_1 = prac_1 + prac_2\n",
    "print(result_1)\n",
    "print('Subtraction')\n",
    "result_2 = prac_2 - prac_1\n",
    "print(result_2)\n",
    "print('Multiplication')\n",
    "result_3 = prac_1 * prac_2\n",
    "print(result_3)"
   ]
  },
  {
   "cell_type": "markdown",
   "metadata": {},
   "source": [
    "## 5. NumPy Aggregate Functions\n",
    "### 5.1. Learning\n",
    "\n",
    "NumPy also provides a variety of functions that \"aggregate\" data. Examples of aggreagation of data include calculating the sum of every element in the array, calculating the mean, standard deviation, etc.  Below are a few examples of aggregation functions provided by NumPy.\n",
    "\n",
    "#### 5.1.1 Mathematical Functions\n",
    "+ [np.sum()](https://docs.scipy.org/doc/numpy/reference/generated/numpy.sum.html): sums the array elements over a given axis\n",
    "+ [np.minimum()](https://docs.scipy.org/doc/numpy/reference/generated/numpy.minimum.html#numpy.minimum): compares two arrays and returns a new array of the minimum at each position (i.e. element-wise)\n",
    "+ [np.maximum()](https://docs.scipy.org/doc/numpy/reference/generated/numpy.maximum.html#numpy.maximum): compares two arrays and returns a new array of the maximum at each position (i.e. element-wise).\n",
    "+ [np.cumsum()](https://docs.scipy.org/doc/numpy/reference/generated/numpy.cumsum.html#numpy.cumsum): returns the cummulative sum of the elements along a given axes.\n",
    "\n",
    "You can find more about mathematical functions for arrays at the [Numpy mathematical functions page](https://docs.scipy.org/doc/numpy/reference/routines.math.html).\n",
    "\n",
    "#### 5.1.2 Statistics\n",
    "+ [np.mean()](https://docs.scipy.org/doc/numpy/reference/generated/numpy.mean.html): compute the arithmetic mean along the specified axis.\n",
    " [np.median()](https://docs.scipy.org/doc/numpy/reference/generated/numpy.median.html#numpy.median): compute the median along the specified axis.\n",
    "+ [np.corrcoef()](https://docs.scipy.org/doc/numpy/reference/generated/numpy.corrcoef.html#numpy.corrcoef): return Pearson product-moment correlation coefficients between two 1D arrays or one 2D array.\n",
    "+ [np.std()](https://docs.scipy.org/doc/numpy/reference/generated/numpy.std.html#numpy.std): compute the standard deviation along the specified axis.\n",
    "+ [np.var()](https://docs.scipy.org/doc/numpy/reference/generated/numpy.var.html#numpy.var): compute the variance along the specified axis.\n",
    "\n",
    "You can find more about statistical functions for arrays at the [Numpy statistical functions page](https://docs.scipy.org/doc/numpy/reference/routines.statistics.html).\n",
    "\n",
    "\n",
    "Take a moment, to learn more about the functions listed above by clicking on the function name as it links to the NumPy documentation.  Pay attention to the arguments that each receives and the type of output it generates.\n",
    "\n",
    "For example:\n",
    "```Python\n",
    "# Calculate the sum of our demo data from above\n",
    "np.sum(demo_e)\n",
    "```\n"
   ]
  },
  {
   "cell_type": "code",
   "execution_count": 38,
   "metadata": {},
   "outputs": [
    {
     "data": {
      "text/plain": [
       "0.5186272194692145"
      ]
     },
     "execution_count": 38,
     "metadata": {},
     "output_type": "execute_result"
    }
   ],
   "source": [
    "# Calculate the mean of our demo data from above\n",
    "np.mean(demo_f)"
   ]
  },
  {
   "cell_type": "markdown",
   "metadata": {},
   "source": [
    "#### 5.1.3 Logical Aggregate Functions\n",
    "When arrays contain boolean values there are additional logical aggregation functions you can use: \n",
    "\n",
    " + [logical_and()](https://docs.scipy.org/doc/numpy/reference/generated/numpy.logical_and.html#numpy.logical_and): computes the element-wise truth value of two arrays using AND.\n",
    " + [logical_or()](https://docs.scipy.org/doc/numpy/reference/generated/numpy.logical_or.html#numpy.logical_or): computes the element-wise truth value of two arrays using OR.\n",
    " + [logical_not()](https://docs.scipy.org/doc/numpy/reference/generated/numpy.logical_not.html#numpy.logical_not):  computes the element-wise truth value of two arrays using NOT.\n",
    " \n",
    " \n",
    "You can find more about logical functions for arrays at the [Numpy Logic functions page](https://docs.scipy.org/doc/numpy/reference/routines.logic.html).\n",
    "\n",
    "Take a moment, to learn more about the functions listed above by clicking on the function name as it links to the NumPy documentation.  Pay attention to the arguments that each receives and the type of output it generates.\n",
    "\n",
    "To demonstrate usage of the logical functions, please execute the following cells and examine the results produced."
   ]
  },
  {
   "cell_type": "markdown",
   "metadata": {},
   "source": [
    "### 5.2. <i class=\"fas fa-puzzle-piece\"></i> Practice\n",
    "\n",
    "In the cell below notebook, perform the following.\n",
    "\n",
    "+ Create three to five arrays\n",
    "+ Experiment with each of the aggregation functions: `sum`, `minimum`, `maximum`, `cumsum`, `mean`, `np.corrcoef`, `np.std`, `np.var`. \n",
    "+ For each function call, add a comment line above it that describes what it does.  "
   ]
  },
  {
   "cell_type": "code",
   "execution_count": 54,
   "metadata": {
    "tags": []
   },
   "outputs": [
    {
     "name": "stdout",
     "output_type": "stream",
     "text": [
      "ones\n",
      "[[1. 1. 1.]\n",
      " [1. 1. 1.]\n",
      " [1. 1. 1.]]\n",
      "zeros\n",
      "[[0. 0. 0.]\n",
      " [0. 0. 0.]\n",
      " [0. 0. 0.]]\n",
      "Random\n",
      "[[0.4501989  0.89861108 0.64110013 0.46218705 0.74208781 0.46027288]\n",
      " [0.26662042 0.91817351 0.42469097 0.52986336 0.82111741 0.46117473]\n",
      " [0.18395077 0.3385658  0.18600347 0.90335694 0.34156128 0.70788323]]\n",
      "Random\n",
      "[[0.76646433 0.81260938 0.5060734  0.76294637 0.91836396 0.88936564]\n",
      " [0.34935001 0.44619469 0.26535904 0.8210249  0.67885348 0.91165962]\n",
      " [0.32689913 0.09773757 0.91800077 0.82932094 0.81742948 0.29477066]]\n",
      "arrange\n",
      "[ 0 10 20 30 40 50 60 70 80 90]\n",
      "Logic\n",
      "[ True  True  True  True]\n",
      "Sumation\n",
      "450\n",
      "minimum\n",
      "[[0.4501989  0.81260938 0.5060734  0.46218705 0.74208781 0.46027288]\n",
      " [0.26662042 0.44619469 0.26535904 0.52986336 0.67885348 0.46117473]\n",
      " [0.18395077 0.09773757 0.18600347 0.82932094 0.34156128 0.29477066]]\n",
      "maximum\n",
      "[[0.76646433 0.89861108 0.64110013 0.76294637 0.91836396 0.88936564]\n",
      " [0.34935001 0.91817351 0.42469097 0.8210249  0.82111741 0.91165962]\n",
      " [0.32689913 0.3385658  0.91800077 0.90335694 0.81742948 0.70788323]]\n",
      "cumsum\n",
      "[  0  10  30  60 100 150 210 280 360 450]\n",
      "Mean\n",
      "45.0\n",
      "Correlation\n",
      "[[ 1.          0.86546    -0.43071152]\n",
      " [ 0.86546     1.          0.01844912]\n",
      " [-0.43071152  0.01844912  1.        ]]\n",
      "Std\n",
      "28.722813232690143\n",
      "Var\n",
      "825.0\n"
     ]
    }
   ],
   "source": [
    "# Two lists of boolean values\n",
    "a = [True, True, False, False]\n",
    "b = [False, False, True, True]\n",
    "\n",
    "# Creates a 3x3 array filled with 1s\n",
    "a_1 = np.ones([3, 3])\n",
    "print('ones')\n",
    "print(a_1)\n",
    "\n",
    "# Creates a 3x3 array filled with zeros and prints it\n",
    "b_1 = np.zeros([3, 3])\n",
    "print('zeros')\n",
    "print(b_1)\n",
    "\n",
    "# Creates a 3x6 array filled with random 0-1\n",
    "d_1 = np.random.random([3, 6])\n",
    "print('Random')\n",
    "print(d_1)\n",
    "\n",
    "d_1_2 = np.random.random([3, 6])\n",
    "print('Random')\n",
    "print(d_1_2)\n",
    "\n",
    "# Creates an array of the numbers from 0 to 100 by tens\n",
    "e_1 = np.arange(0, 100, 10)\n",
    "print('arrange')\n",
    "print(e_1)\n",
    "\n",
    "# Perform a logical \"or\":\n",
    "print('Logic')\n",
    "print(np.logical_or(a, b))\n",
    "\n",
    "# Perform a sumation of the array\n",
    "print('Sumation')\n",
    "print(np.sum(e_1))\n",
    "\n",
    "# find the minimum value between two arrays\n",
    "print('minimum')\n",
    "print(np.minimum(d_1, d_1_2))\n",
    "\n",
    "# find the minimum value between two arrays\n",
    "print('maximum')\n",
    "print(np.maximum(d_1, d_1_2))\n",
    "\n",
    "# find the minimum value between two arrays\n",
    "print('cumsum')\n",
    "print(np.cumsum(e_1))\n",
    "\n",
    "# find the mean value of an array\n",
    "print('Mean')\n",
    "print(np.mean(e_1))\n",
    "\n",
    "# find the Correlation coefficient for an array\n",
    "print('Correlation')\n",
    "print(np.corrcoef(d_1))\n",
    "\n",
    "# find the standard deviation of an array\n",
    "print('Std')\n",
    "print(np.std(e_1))\n",
    "\n",
    "# find the variance of an array\n",
    "print('Var')\n",
    "print(np.var(e_1))"
   ]
  },
  {
   "cell_type": "code",
   "execution_count": null,
   "metadata": {},
   "outputs": [],
   "source": [
    "# Perform a logical \"and\":\n",
    "np.logical_or(a, b)"
   ]
  },
  {
   "cell_type": "markdown",
   "metadata": {},
   "source": [
    "### 5.3. <i class=\"fas fa-puzzle-piece\"></i> Practice\n",
    "\n",
    "In the cell below notebook, perform the following.\n",
    "\n",
    "+ Create two arrays containing boolean values.\n",
    "+ Experiment with each of the aggregation functions: `logical_and`, `logical_or`, `logical_not`. \n",
    "+ For each function call, add a comment line above it that describes what it does.  "
   ]
  },
  {
   "cell_type": "code",
   "execution_count": 57,
   "metadata": {
    "tags": []
   },
   "outputs": [
    {
     "name": "stdout",
     "output_type": "stream",
     "text": [
      "[False False False  True False False]\n",
      "[ True  True  True  True  True False]\n",
      "[False False  True False False  True]\n"
     ]
    }
   ],
   "source": [
    "array_1 = [True, True, False, True, True, False]\n",
    "array_2 = [False, False, True, True, False, False]\n",
    "\n",
    "# Logic use of and\n",
    "print(np.logical_and(array_1, array_2))\n",
    "\n",
    "# Logic use of or\n",
    "print(np.logical_or(array_1, array_2))\n",
    "\n",
    "# Logic use of not\n",
    "print(np.logical_not(array_1))"
   ]
  },
  {
   "cell_type": "markdown",
   "metadata": {},
   "source": [
    "## Expected Outcomes\n",
    "At this point, you should feel comfortable with the following:\n",
    " - What is a NumPy array\n",
    " - Using NumPy array attributes \n",
    " - Performing broadcasting\n",
    " - Using aggregate functions\n"
   ]
  },
  {
   "cell_type": "markdown",
   "metadata": {
    "jp-MarkdownHeadingCollapsed": true,
    "tags": []
   },
   "source": [
    "## What to Turn in?\n",
    "Be sure to **commit** and **push** your changes to this notebook.  All practice exercises should be completed.  Once completed, send a **Slack message** to the instructor indicating you have completed this assignment. The instructor will verify all work is completed. "
   ]
  }
 ],
 "metadata": {
  "kernelspec": {
   "display_name": "Python 3 (ipykernel)",
   "language": "python",
   "name": "python3"
  },
  "language_info": {
   "codemirror_mode": {
    "name": "ipython",
    "version": 3
   },
   "file_extension": ".py",
   "mimetype": "text/x-python",
   "name": "python",
   "nbconvert_exporter": "python",
   "pygments_lexer": "ipython3",
   "version": "3.9.13"
  }
 },
 "nbformat": 4,
 "nbformat_minor": 4
}
