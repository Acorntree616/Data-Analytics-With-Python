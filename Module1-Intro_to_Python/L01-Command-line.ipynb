{
 "cells": [
  {
   "cell_type": "markdown",
   "id": "050fff25-dab2-431b-bbb7-3d7919914244",
   "metadata": {},
   "source": [
    "## Shell"
   ]
  },
  {
   "cell_type": "markdown",
   "id": "7ab320a9-bf16-4b26-87e8-60047b46dade",
   "metadata": {},
   "source": [
    "## Environment"
   ]
  },
  {
   "cell_type": "markdown",
   "id": "c8522a7f-8451-44e8-b427-f81f2d491221",
   "metadata": {},
   "source": [
    "## File Structure\n",
    "Folders and Directories"
   ]
  },
  {
   "cell_type": "markdown",
   "id": "5660f615-29ff-4803-b895-83b8f84a0dfc",
   "metadata": {},
   "source": [
    "## Command-line Essentials"
   ]
  },
  {
   "cell_type": "markdown",
   "id": "4c6ae257-6fd8-4270-a18f-acf98c779c78",
   "metadata": {},
   "source": [
    "pwd, mkdir, cd, ls, rmdir, cp, mv, less, cat,  grep, man,"
   ]
  },
  {
   "cell_type": "markdown",
   "id": "44099eb6-1435-4e9a-92fb-5b6b279dd12c",
   "metadata": {},
   "source": [
    "## More Command-line "
   ]
  },
  {
   "cell_type": "code",
   "execution_count": null,
   "id": "93c47d9c-e9e7-4d18-8b5a-32423df31a0f",
   "metadata": {},
   "outputs": [],
   "source": [
    "hostname, pushd, popd, xargs, apropos, env, echo, export, exit, sudo"
   ]
  }
 ],
 "metadata": {
  "kernelspec": {
   "display_name": "Python 3 (ipykernel)",
   "language": "python",
   "name": "python3"
  },
  "language_info": {
   "codemirror_mode": {
    "name": "ipython",
    "version": 3
   },
   "file_extension": ".py",
   "mimetype": "text/x-python",
   "name": "python",
   "nbconvert_exporter": "python",
   "pygments_lexer": "ipython3",
   "version": "3.8.10"
  }
 },
 "nbformat": 4,
 "nbformat_minor": 5
}
