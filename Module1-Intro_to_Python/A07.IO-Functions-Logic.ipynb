{
 "cells": [
  {
   "cell_type": "markdown",
   "id": "cc0e8238-2923-4ee1-acf7-27fe6851271c",
   "metadata": {},
   "source": [
    "# Assignment 7 - File IO, Functions and Logic"
   ]
  },
  {
   "cell_type": "markdown",
   "id": "532a1c75-5428-4a58-bd14-038c8efb065e",
   "metadata": {},
   "source": [
    "## Table of Contents\n",
    "- [Learning Objectives](#section-objectives)\n",
    "- [Instructions](#section-instructions)\n",
    "- [Background](#section-background)\n",
    "- [Tips for Success](#section-tips)\n",
    "- [1. File Input/Output (IO)](#section-1)\n",
    "- [2. Character Encoding](#section-2)\n",
    "- [3. Functions](#section-3)\n",
    "- [4. Logic](#section-4)\n",
    "- [Expected Outcomes](#section-outcomes)\n",
    "- [What to turn in](#section-turn_in)\n"
   ]
  },
  {
   "cell_type": "markdown",
   "id": "f68d4975-9cb9-4ac7-94c9-bdd7befbf3e7",
   "metadata": {},
   "source": [
    "## Learning Objectives <a id=\"section-objectives\"></a>\n",
    "This lesson meets the following learning objectives:\n",
    "\n",
    "1. Program linear scripts in python.\n",
    "2. Program scripts that include functions, logic, and control statements\n",
    "\n",
    "\n",
    "You will meet these objectives by learning to read and write to files, write functions and use logic in programs."
   ]
  },
  {
   "cell_type": "markdown",
   "id": "1ce6686a-0011-41c4-be71-ceea970cee6e",
   "metadata": {},
   "source": [
    "## Instructions <a id=\"section-instructions\"></a>\n",
    "Read through all of the text in this page. This assignment provides step-by-step training divided into numbered sections. The sections often contain embeded exectable code for demonstration.  Section headers with icons have special meanings: \n",
    "\n",
    "- <i class=\"fas fa-puzzle-piece\"></i> The puzzle icon indicates that the section provides a practice exercise that must be completed.  Follow the instructions for the exercise and do what it asks.  Exercises must be turned in for credit.\n",
    "- <i class=\"fa fa-cogs\"></i> The cogs icon indicates that the section provides a task to perform.  Follow the instructions to complete the task.  Tasks are not turned in for credit but must be completed to continue progress.\n",
    "\n",
    "Review the list of items in the **Expected Outcomes** section to check that you feel comfortable with the material you just learned. If you do not, then take some time to re-review that material again. If after re-review you are not comfortable, do not feel confident or do not understand the material, please ask questions on Slack to help.\n",
    "\n",
    "Follow the instructions in the **What to turn in** section to turn in the exercises of the assginment for course credit."
   ]
  },
  {
   "cell_type": "markdown",
   "id": "ca57605c-a6a5-4c70-8c97-aff7a6b9e997",
   "metadata": {},
   "source": [
    "## Background <a id=\"section-background\"></a>\n",
    "In this lesson we will learn how to read data from files, write data to files, write new functions and use logic.  One of the most important tasks in data analytics is the ability to read data files into your Python scripts and to write files with results or reformatted data.  The process of reading and writing files is also referred to as File Input/Output or File IO.  Next, functions are a critical component of all modern programming languages. They provide several benefits.  They help you to simplify your programs and encapsulate commonly used code into reusable bits of code. Lastly, programs must be able to make decisions and logic is key to programming decision making."
   ]
  },
  {
   "cell_type": "markdown",
   "id": "d75866dd-cb96-4e8d-9bd5-6138b45ef8fa",
   "metadata": {},
   "source": [
    "## Tips for Success <a id=\"section-tips\"></a>\n",
    "As a reminder, here is a quick list of the tips for success from [Assignment 6 - Python Basics](A06-Python-Basics.ipynb)\n",
    "\n",
    "* <i class=\"fas fa-clone\"></i> **Do not cut-and-paste**.\n",
    "* <i class=\"fas fa-wrench\"></i> **Do each practice excercise**.\n",
    "* <i class=\"fas fa-clock\"></i> **Take time to understand**.\n",
    "* <i class=\"fas fa-question-circle\"></i> **Ask for help**.\n",
    "* <i class=\"fas fa-users\"></i> **Do not compare yourself**."
   ]
  },
  {
   "cell_type": "markdown",
   "id": "3cee7fb1-b719-4562-969e-51c86e1e9c9a",
   "metadata": {},
   "source": [
    "## 1. File Input/Output (IO) <a id=\"section-1\"></a>"
   ]
  },
  {
   "cell_type": "markdown",
   "id": "93adef12-a7cb-4ba7-a80b-06e55ae20d61",
   "metadata": {},
   "source": [
    "## 2. Character Encoding <a id=\"section-2\"></a>"
   ]
  },
  {
   "cell_type": "markdown",
   "id": "b1a94a20-3e76-4c2a-97a7-699562d60eff",
   "metadata": {},
   "source": [
    "## 3. Functions <a id=\"section-3\"></a>"
   ]
  },
  {
   "cell_type": "markdown",
   "id": "71db2c54-5b2b-460d-8213-23e38c06de08",
   "metadata": {},
   "source": [
    "## 4. Logic <a id=\"section-4\"></a>"
   ]
  },
  {
   "cell_type": "markdown",
   "id": "5541b7ec-94e5-41ac-b14f-1890160eb1d6",
   "metadata": {},
   "source": [
    "## Expected Outcomes <a id=\"section-outcomes\"></a>\n",
    "At this point, you should feel comfortable with the following:\n"
   ]
  },
  {
   "cell_type": "markdown",
   "id": "476ba16d-d046-427f-a32d-8c92ee1a7316",
   "metadata": {},
   "source": [
    "## What to Turn in? <a id=\"section-turn_in\"></a>\n",
    "\n",
    "Perform the following with Git:\n",
    "\n",
    "1. Add the `assignment7.py` script \n",
    "2. Commit your changes. \n",
    "3. Push your code to your remote repository.\n",
    "\n",
    "Go to your online repository on GitHub and check that the changes you just pushed are present. If so, then send a message to the instructor indicating the assignment is turned in."
   ]
  }
 ],
 "metadata": {
  "kernelspec": {
   "display_name": "Python 3 (ipykernel)",
   "language": "python",
   "name": "python3"
  },
  "language_info": {
   "codemirror_mode": {
    "name": "ipython",
    "version": 3
   },
   "file_extension": ".py",
   "mimetype": "text/x-python",
   "name": "python",
   "nbconvert_exporter": "python",
   "pygments_lexer": "ipython3",
   "version": "3.9.13"
  }
 },
 "nbformat": 4,
 "nbformat_minor": 5
}
