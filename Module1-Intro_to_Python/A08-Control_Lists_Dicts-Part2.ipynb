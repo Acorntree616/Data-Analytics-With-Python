{
 "cells": [
  {
   "cell_type": "markdown",
   "id": "6be100b8-a5a3-4b26-a11c-bb9016895ce8",
   "metadata": {},
   "source": [
    "# Assignment 8:  Control, Lists & Dictionaries - Part 2"
   ]
  },
  {
   "cell_type": "markdown",
   "id": "45b435fe-9eb7-4be5-885a-76df38dd59db",
   "metadata": {},
   "source": [
    "## Learning Objectives <a id=\"section-objectives\"></a>\n",
    "This lesson meets the following learning objectives:\n",
    "\n",
    "1. Program linear scripts in python.\n",
    "2. Program scripts that include functions, logic, and control statements\n",
    "\n",
    "\n",
    "You will meet these objectives by learning to write `if`  statements, `elif` statemetns, `for` loops, `while` loops `do while` loops, lists and dictionaries."
   ]
  },
  {
   "cell_type": "markdown",
   "id": "582848c1-d6f0-4299-8800-f5acc023a85e",
   "metadata": {},
   "source": [
    "## Instructions <a id=\"section-instructions\"></a>\n",
    "Read through all of the text in this page. This assignment provides step-by-step training divided into numbered sections. The sections often contain embeded exectable code for demonstration.  Section headers with icons have special meanings: \n",
    "\n",
    "- <i class=\"fas fa-puzzle-piece\"></i> The puzzle icon indicates that the section provides a practice exercise that must be completed.  Follow the instructions for the exercise and do what it asks.  Exercises must be turned in for credit.\n",
    "- <i class=\"fa fa-cogs\"></i> The cogs icon indicates that the section provides a task to perform.  Follow the instructions to complete the task.  Tasks are not turned in for credit but must be completed to continue progress.\n",
    "\n",
    "Review the list of items in the **Expected Outcomes** section to check that you feel comfortable with the material you just learned. If you do not, then take some time to re-review that material again. If after re-review you are not comfortable, do not feel confident or do not understand the material, please ask questions on Slack to help.\n",
    "\n",
    "Follow the instructions in the **What to turn in** section to turn in the exercises of the assginment for course credit."
   ]
  },
  {
   "cell_type": "markdown",
   "id": "e56c3618-b623-4482-bbf7-cb6bc7e86c9c",
   "metadata": {},
   "source": [
    "## 2. Lists\n",
    "A **list** in Python is a **data type** that allows you to store a collection of values together in a single variable. Lists are sometimes referred to as **arrays**. We've already used lists!  Remember the `argv` variable we use when providing arguments to a program? The `argv` variable is imported from the `sys` module. Remember this:\n",
    "\n",
    "```python\n",
    "\n",
    "from sys import argv\n",
    "\n",
    "script, arg1, arg2, arg3 = argv\n",
    "```\n",
    "\n",
    "The `argv` variable is actually a list.  We are importing a list into our program when we use the `from sys import argv` statement.  Another time we encountered lists was when we used the string `split()` function to split a comma-separated or tab-delimited file into a list of values. The `split()` function returns a list.   Now, we will explore lists in more details. "
   ]
  },
  {
   "cell_type": "markdown",
   "id": "5d82fb6f-03f2-49d0-bbd7-9ba83654a7a7",
   "metadata": {},
   "source": [
    "### 2.1. Creating a List\n",
    "Lists can be created with an empty set of values in the following way:\n",
    "\n",
    "```python\n",
    "my_list = []\n",
    "```\n",
    "In the code above, the variable named `my_list` is **defined** and is initialized as an empty list using the square brackets `[]`.\n",
    "\n",
    "Alternatively, you can preload an array by providing comma-separated values between the square brackets.  The following creates an array of strings:\n",
    "\n",
    "```python\n",
    "languages = ['Afrikaans', 'Italiano', 'Slovenčina', 'اردو', '中文']\n",
    "```\n",
    "\n",
    "The following creates an arry of floats:\n",
    "\n",
    "```python\n",
    "numbers = [0.5, 10.3, 5.3, 2.29]\n",
    "```\n",
    "\n",
    "In Python you can also mix data types inside of a list. Here we mix strings, floats, ints and boolean values: \n",
    "```python\n",
    "mixed = ['中文', 10.2, 3, True]\n",
    "```\n",
    "You can even store arrays inside of arrays:\n",
    "```python\n",
    "mixed2d = [[1, 2, 3], [4, 5, 6]]\n",
    "```\n",
    "The example above stores two lists inside of a list. Storing lists inside of lists is a handy way to represent a matrix:\n",
    "\n",
    "|    |     |     |\n",
    "|--- | --- | --- |\n",
    "| 1  |  2  |  3  |\n",
    "| 4  |  5  |  6  |\n",
    "\n",
    "For matrices, it may be more readable to create them by putting each \"row\" of the matrix on a separate line in this way:\n",
    "```python\n",
    "mixed2d = [[1, 2, 3],\n",
    "           [4, 5, 6]]\n",
    "```"
   ]
  },
  {
   "cell_type": "markdown",
   "id": "5da185ab-5f96-4716-ac1a-8f939294796b",
   "metadata": {},
   "source": [
    "#### 2.1.1 <i class=\"fas fa-puzzle-piece\"></i> Practice <a id=\"section-2.1.1\"></a>\n",
    "Create the following lists and print their contents.\n",
    "1. An empty list\n",
    "2. A list containing at least 4 types of foods\n",
    "3. A list containing a first name, last name, age, height and weight (can be fake).\n",
    "4. A list containing 4 lists with 4 elements each"
   ]
  },
  {
   "cell_type": "code",
   "execution_count": null,
   "id": "6bd498ef-22a7-4e24-b47d-04e55e17d28a",
   "metadata": {},
   "outputs": [],
   "source": []
  },
  {
   "cell_type": "code",
   "execution_count": null,
   "id": "de8801bc-1eb2-4c0a-8dee-81b2711cf601",
   "metadata": {},
   "outputs": [],
   "source": []
  },
  {
   "cell_type": "code",
   "execution_count": null,
   "id": "2d651d48-146c-4ff2-8ab1-fb8facf9cf86",
   "metadata": {},
   "outputs": [],
   "source": []
  },
  {
   "cell_type": "code",
   "execution_count": null,
   "id": "a1f747a5-f23d-401a-8b91-c3341c886c1f",
   "metadata": {},
   "outputs": [],
   "source": []
  },
  {
   "cell_type": "markdown",
   "id": "37e165bc-ba49-4ad7-824c-4a5eaddf991f",
   "metadata": {},
   "source": [
    "### 2.2. Accessing Values in a List\n",
    "#### 2.2.1. Unpacking\n",
    "Lists store multiple values in a single variable, but how do we get values from the list?  We learned about **unpacking** when we used the the `sys.argv` variable. Again, as a reminder of  unpacking, the code below unpacks values from the argv list by listing the variables, comma-separted.\n",
    "\n",
    "```python\n",
    "from sys import argv\n",
    "\n",
    "script, arg1, arg2, arg3 = argv\n",
    "```\n",
    "\n",
    "As long as the same number of variables are provdied as are present in the list then unpacking will work.  \n",
    "\n"
   ]
  },
  {
   "cell_type": "markdown",
   "id": "c943e87c-049d-4850-bfcd-0f95b8184743",
   "metadata": {},
   "source": [
    "#### 2.2.2. Indexing\n",
    "What if you have hundereds, thousands or millions of elements inside of list?  It would be impracticle to use unpacking to access them all.  Instead, we can use numeric **indexing**.  The **index** indicates the position in the list of the value that you want.  For example:\n",
    "\n",
    "```python\n",
    "languages = ['Afrikaans', 'Italiano', 'Slovenčina', 'اردو', '中文']\n",
    "choice = languages[0]\n",
    "```\n",
    "This code defines a list of several language names that are stored in the variable `languages`.  The first value, or **element**, of `languages` gets copied to the value `choice` by using the number `0` in square brackets: `languages[0]`. The number `0` in brackets references the first element. Likewise, the number `1` would references the second element, and so forth.  In most prgramming languages, lists (or arrays) are **zero-indexed** meaning they start indexing from zero.  In contrast, the R languages is one-indexed. If you use R, make sure you remember the difference. The following table shows the index for each element of the `languages` variable:\n",
    "\n",
    "| Index |  0  |  1  |  2  |  3  |  4  |\n",
    "| ----- | --- | --- | --- | --- | --- |\n",
    "| **Value** | 'Afrikaans' | 'Italiano' | 'Slovenčina' | 'اردو' |  '中文' |\n",
    "\n",
    "In the previous section we learned how to represent a matrix in a list.  But, how would you index values in the matrix?  Consider this code:\n",
    "\n",
    "```python\n",
    "mixed2d = [[1, 2, 3],\n",
    "           [4, 5, 6]]\n",
    "```\n",
    "\n",
    "In the example code above, the matrix is represented as a list of lists. It represents a 2 *x* 3 (2 rows by 3 columns) two dimensional matrix.  Suppose you wanted to retrieve the value `4`.  It is in the second element of the primary list and within that list, it is the first element.  To retrieve it you would need to first get the second list using `mixed2d[1]`. That returns the list. You can then retrieve the first element using its index, `0`:  `mixed2d[1][0]`\n",
    "\n",
    "Try it by running the following cell:"
   ]
  },
  {
   "cell_type": "code",
   "execution_count": null,
   "id": "5c2b2aa4-124e-42d4-be59-9d2bd93607d2",
   "metadata": {},
   "outputs": [],
   "source": [
    "# Define the 2D list.\n",
    "mixed2d = [[1, 2, 3],\n",
    "           [4, 5, 6]]\n",
    "\n",
    "# Print the second list:\n",
    "print(mixed2d[1])\n",
    "\n",
    "# Print the first element of the second list:\n",
    "print(mixed2d[1][0])"
   ]
  },
  {
   "cell_type": "markdown",
   "id": "07e33f2d-f785-4df6-a9ca-7e694d6e33f2",
   "metadata": {},
   "source": [
    "Suppose you do not know the size of a list. Perhaps you imported a set of values from a file and those are now stored in a list.  You can find the length of a list using the `len()` function. Remember, we used this function to also determine the length (or size) of a string. It works for lists too.  Try it:"
   ]
  },
  {
   "cell_type": "code",
   "execution_count": null,
   "id": "15f8cfb4-e888-4ec0-8b73-6b94f48d0fd4",
   "metadata": {},
   "outputs": [],
   "source": [
    "mixed2d = [[1, 2, 3],\n",
    "           [4, 5, 6]]\n",
    "\n",
    "# Print the size of the primary list.\n",
    "print(len(mixed2d))\n",
    "\n",
    "# Print the size of the first inner list.\n",
    "print(len(mixed2d[0]))"
   ]
  },
  {
   "cell_type": "markdown",
   "id": "e5dba65c-5349-43ef-8be9-56fd11140170",
   "metadata": {},
   "source": [
    "You can use the length of the list to get its last element by subtracting one.  We must subtract one because the list is zero-indexed. Try it:"
   ]
  },
  {
   "cell_type": "code",
   "execution_count": null,
   "id": "640db04d-2f9d-45b7-b156-e67d908df8ec",
   "metadata": {},
   "outputs": [],
   "source": [
    "i = len(mixed2d) - 1\n",
    "print(mixed2d[i])"
   ]
  },
  {
   "cell_type": "markdown",
   "id": "75be4408-d2ec-4320-9fb1-a6daf83a7314",
   "metadata": {},
   "source": [
    "or more succinctly:"
   ]
  },
  {
   "cell_type": "code",
   "execution_count": null,
   "id": "fa5772ec-ec8d-4508-87ce-ec849f98676f",
   "metadata": {},
   "outputs": [],
   "source": [
    "print(mixed2d[len(mixed2d) - 1])"
   ]
  },
  {
   "cell_type": "markdown",
   "id": "79333a7c-6636-4260-a92d-7be7f6daf342",
   "metadata": {},
   "source": [
    "What happens if you forget to subtract 1?  Try it:"
   ]
  },
  {
   "cell_type": "code",
   "execution_count": null,
   "id": "af074ac4-7f76-4c8f-9256-eb7cadf4c136",
   "metadata": {},
   "outputs": [],
   "source": [
    "print(mixed2d[len(mixed2d)])"
   ]
  },
  {
   "cell_type": "markdown",
   "id": "68b6f250-45dd-416b-b6e6-bef40536f8a2",
   "metadata": {},
   "source": [
    "We see here, that Python will not allow you to use an index that exceeds the index for the last element of the list"
   ]
  },
  {
   "cell_type": "markdown",
   "id": "369d38fe-7dc0-42ee-a9e2-f2339df9ad38",
   "metadata": {},
   "source": [
    "#### 2.2.3. Negative Indexing\n",
    "Python lists also support **negative-indexing**.  With negative indexing the numbers count down from the end of the list. The index, `-1` would indicate the last element, `-2` the second-to-last element and so forth. The following tables shows both regular and negative indexing for the `languages` variable:\n",
    "\n",
    "\n",
    "| Regular Index<br>Negative Index|  0<br>-5  |  1<br>-4  |  2<br>-3  |  3<br>-2  |  4<br>-1  |\n",
    "| ----- | --- | --- | --- | --- | --- |\n",
    "| **Value** | 'Afrikaans' | 'Italiano' | 'Slovenčina' | 'اردو' |  '中文' |\n",
    "\n",
    "Run the following example to observe how negative indexing works:"
   ]
  },
  {
   "cell_type": "code",
   "execution_count": null,
   "id": "fd34500f-bbca-420f-84cb-19fbae202256",
   "metadata": {},
   "outputs": [],
   "source": [
    "languages = ['Afrikaans', 'Italiano', 'Slovenčina', 'اردو', '中文']\n",
    "\n",
    "# Print the last value using both regular and negative indexing.\n",
    "print(languages[4])\n",
    "print(languages[-1])\n",
    "\n",
    "# Print the first value using both regular and negative indexing.\n",
    "print(languages[0])\n",
    "print(languages[-5])"
   ]
  },
  {
   "cell_type": "markdown",
   "id": "1ea5eaf4-3dcc-44d8-ba9d-410698fbb7fb",
   "metadata": {},
   "source": [
    "#### 2.2.4. <i class=\"fas fa-puzzle-piece\"></i> Practice\n",
    "\n",
    "Using the three non-empty lists you created in [Practice Exercise #2.1.1](#section-2.1.1), print the first, second, and fourth elements of each list. Use both regular and negative indexing. For the matrix you created, try a few different examples to access various elements."
   ]
  },
  {
   "cell_type": "code",
   "execution_count": null,
   "id": "5bb3c8d8-e2f7-4c68-bd72-bad0a97854d1",
   "metadata": {},
   "outputs": [],
   "source": []
  },
  {
   "cell_type": "code",
   "execution_count": null,
   "id": "f76e4eed-c506-41d6-917f-97537d14ecd2",
   "metadata": {},
   "outputs": [],
   "source": []
  },
  {
   "cell_type": "code",
   "execution_count": null,
   "id": "2f0dcdb9-f378-48df-81e3-64fc6b7a1f36",
   "metadata": {},
   "outputs": [],
   "source": []
  },
  {
   "cell_type": "markdown",
   "id": "4779e140-50a8-47e3-b0f8-fb5f95612254",
   "metadata": {},
   "source": [
    "#### 2.2.5. <i class=\"fas fa-puzzle-piece\"></i> Practice\n",
    "Now that we have leared about `if` and `elif` statements, lists and how to index them.  Lets think back on some of the programs we have written so far that accept arguments.  Remember, if we do not provide sufficient argument to a program on the command line we get an error message indicating that there are not enough values to unpack.  This is not a very friendly message for someone who might be using our program.  It would be better if we provided a more friendly message and skip execution of the program.   Lets make a better program using one we used in [Assignment 6 - Python Basics](A06-Python-Basics.ipynb):\n",
    "\n",
    "```python\n",
    "from sys import argv\n",
    "\n",
    "script, arg1, arg2, arg3 = argv\n",
    "\n",
    "print(\"This script is named {}\".format(script_name))\n",
    "print(\"  The value of argument 1 is: {}\", arg1)\n",
    "print(\"  The value of argument 2 is: {}\", arg2)\n",
    "print(\"  The value of argument 3 is: {}\", arg3)\n",
    "```\n",
    "\n",
    "Perform the following:\n",
    "\n",
    "1. Create a new Python file named `better_program.py` and cut-and-paste the code above.\n",
    "2. Remove the line that unpacks the `argv` variable.\n",
    "3. Whenever the variables `arg1`, `arg2`, `arg3` are used, replace them with the appropriate value from the `argv` variable using an index.\n",
    "4. Add an `elif` statement that checks to make sure the length of `argv` has the expected number of arguments. If the number of arguments provided is fewer or more than expected then give a warning message and do not run the print statements. if the number is correct you can run the print statements. \n",
    "5. Run the program.  If your changes were successful, it should no longer give a Python error if the number of arguments is not correct, but should give a more friendly notice to the user. If the nubmer of arguments is correct, it should print the expected messages.\n",
    "\n",
    "Cut and paste the contents of your program in the cell below:\n"
   ]
  },
  {
   "cell_type": "raw",
   "id": "832e6f3d-e530-46de-a83d-70f4be015886",
   "metadata": {},
   "source": []
  },
  {
   "cell_type": "markdown",
   "id": "b9173cbf-6109-4078-a2eb-8b0167e849e6",
   "metadata": {},
   "source": [
    "### 2.3. Modifying Lists\n",
    "Now that you know how to create a list lets learn how to add and remove values from it."
   ]
  },
  {
   "cell_type": "markdown",
   "id": "5f3b767c-d3eb-4eb7-8cf9-20590956c433",
   "metadata": {},
   "source": [
    "#### 2.3.1. Adding values to a list\n",
    "Just like any data type in Python, a list is an object. Objects have functions and one of those functions for lists is `append()`. To add a value to a list, use the `append()` function and provide the value you want to add.  The value is added to the end of the list.   The following example adds a new list to our `languages` variable. Try it:"
   ]
  },
  {
   "cell_type": "code",
   "execution_count": 17,
   "id": "58472dfc-1cea-4b51-b91d-c9eec0bd8520",
   "metadata": {},
   "outputs": [
    {
     "name": "stdout",
     "output_type": "stream",
     "text": [
      "['Afrikaans', 'Italiano', 'Slovenčina', 'اردو', '中文', 'English']\n"
     ]
    }
   ],
   "source": [
    "languages = ['Afrikaans', 'Italiano', 'Slovenčina', 'اردو', '中文']\n",
    "languages.append('English')\n",
    "\n",
    "# English should be added to the end of the list.\n",
    "print(languages)"
   ]
  },
  {
   "cell_type": "markdown",
   "id": "006071f8-4091-4e1c-83f5-4ac2833e2628",
   "metadata": {},
   "source": [
    "#### 2.3.2. Inserting a value into a list\n",
    "To insert a value into a list use the `insert()` function.  Unlike the `append()` function, the `insert()` function will let you add a value anywhere in the list. You must specify two arguments: the index where you want the value inserted and the value to insert.  To insert a new language into the 3rd position of the `languages` variable try the following:"
   ]
  },
  {
   "cell_type": "code",
   "execution_count": 18,
   "id": "d9c6bd7c-b172-4df2-a755-c9e9a96aa608",
   "metadata": {},
   "outputs": [
    {
     "name": "stdout",
     "output_type": "stream",
     "text": [
      "['Afrikaans', 'Italiano', 'مازِرونی', 'Slovenčina', 'اردو', '中文', 'English']\n"
     ]
    }
   ],
   "source": [
    "# Insert a new language into the 3rd position:\n",
    "languages.insert(2, 'مازِرونی')\n",
    "print(languages)"
   ]
  },
  {
   "cell_type": "markdown",
   "id": "1260ca0c-fe6c-4a7c-bc6f-4570305c2a64",
   "metadata": {},
   "source": [
    "Notice that the index value used for the `insert()` function above for the 3rd element is `2`. The indexes are always zero-based."
   ]
  },
  {
   "cell_type": "markdown",
   "id": "41ed6cbb-e94a-4aaa-80da-bde037b62d9c",
   "metadata": {},
   "source": [
    "#### 2.3.3. Combining Lists\n",
    "There are two ways you can combine two lists. The first is the `+` operator.  For numbers, we know the `+` operator adds them. For strings we know it concatenates them.  For lists, it also concatenates (or combines) them.  For example, try the following:"
   ]
  },
  {
   "cell_type": "code",
   "execution_count": 19,
   "id": "8b979316-6543-495f-b259-5ff9c927c9ce",
   "metadata": {},
   "outputs": [
    {
     "name": "stdout",
     "output_type": "stream",
     "text": [
      "[1, 2, 3]\n",
      "[4, 5, 6]\n",
      "[1, 2, 3, 4, 5, 6]\n"
     ]
    }
   ],
   "source": [
    "list1 = [1, 2, 3]\n",
    "list2 = [4, 5, 6]\n",
    "combined = list1 + list2\n",
    "\n",
    "# No change to the first list.\n",
    "print(list1)\n",
    "\n",
    "# No change to the second list.\n",
    "print(list2)\n",
    "\n",
    "# We have a new combined list in the combined variable.\n",
    "print(combined)"
   ]
  },
  {
   "cell_type": "markdown",
   "id": "c7cd6c7b-d2ec-4873-8cbf-d48401fddd7c",
   "metadata": {},
   "source": [
    "You can also combine lists by using the `extend()` function. The the `extend()` function accepts one argument: the list that will be added.  Unlike the `+` operator, though, the `extend()` function will add the second array **in place**. It does not return a value. The values from the second list will be automatically appended to the first list.  Try it by extending the `list1` variable:"
   ]
  },
  {
   "cell_type": "code",
   "execution_count": 16,
   "id": "9c3af46d-dcf1-4c43-913a-3c1732d6ef53",
   "metadata": {},
   "outputs": [
    {
     "name": "stdout",
     "output_type": "stream",
     "text": [
      "[1, 2, 3, 4, 5, 6]\n",
      "[4, 5, 6]\n"
     ]
    }
   ],
   "source": [
    "list1 = [1, 2, 3]\n",
    "list2 = [4, 5, 6]\n",
    "list1.extend(list2)\n",
    "\n",
    "# The first list should be extended.\n",
    "print(list1)\n",
    "\n",
    "# No change to the second list.\n",
    "print(list2)"
   ]
  },
  {
   "cell_type": "markdown",
   "id": "f7412135-45fe-441e-967a-57d68573fb90",
   "metadata": {},
   "source": [
    "Try the reverse by extending the `list2` variable\n"
   ]
  },
  {
   "cell_type": "code",
   "execution_count": 15,
   "id": "ffcbd718-3fae-43a3-831e-699e0567ab39",
   "metadata": {},
   "outputs": [
    {
     "name": "stdout",
     "output_type": "stream",
     "text": [
      "[1, 2, 3]\n",
      "[4, 5, 6, 1, 2, 3]\n"
     ]
    }
   ],
   "source": [
    "list1 = [1, 2, 3]\n",
    "list2 = [4, 5, 6]\n",
    "list2.extend(list1)\n",
    "\n",
    "# No change to the first list.\n",
    "print(list1)\n",
    "\n",
    "# The second list should be extended.\n",
    "print(list2)"
   ]
  },
  {
   "cell_type": "markdown",
   "id": "89dce918-99b5-4976-8959-558115961d6c",
   "metadata": {},
   "source": [
    "Or try extending them both:"
   ]
  },
  {
   "cell_type": "markdown",
   "id": "8e7dab4c-9978-4574-92a2-74c015633c02",
   "metadata": {
    "tags": []
   },
   "source": [
    "#### 2.3.4. <i class=\"fas fa-puzzle-piece\"></i> Practice\n",
    "Using the first three lists (not the matrix list) you created in [Practice Exercise #2.1.1](#section-2.1.1), perform the following steps in the cells below.\n",
    "\n",
    "1. Append a new element to any of the lists.\n",
    "2. Insert a new element to any of the lists.\n",
    "3. Combine two of the lists together."
   ]
  },
  {
   "cell_type": "code",
   "execution_count": null,
   "id": "0b638d9e-04c7-40c1-9e4d-b4cc5f4a7b46",
   "metadata": {},
   "outputs": [],
   "source": []
  },
  {
   "cell_type": "code",
   "execution_count": null,
   "id": "a13f595f-6f13-4065-84d7-e9539c0fdcac",
   "metadata": {},
   "outputs": [],
   "source": []
  },
  {
   "cell_type": "code",
   "execution_count": null,
   "id": "ba85a754-f18d-4780-afb7-996061fd7c57",
   "metadata": {},
   "outputs": [],
   "source": []
  },
  {
   "cell_type": "markdown",
   "id": "c8663b9d-e4ae-452c-b9fc-0ba8079bea1c",
   "metadata": {},
   "source": [
    "Now, lets try the append, insert and extend the matrix list.  This is a list containing 4 lists with 4 elements each.  Write code to append a new row and print the matrix."
   ]
  },
  {
   "cell_type": "code",
   "execution_count": null,
   "id": "16e15c08-5c0d-49c1-b95e-7ff5f6253dd2",
   "metadata": {},
   "outputs": [],
   "source": []
  },
  {
   "cell_type": "markdown",
   "id": "53afa69c-ddc8-4f39-b100-c8aac703235d",
   "metadata": {},
   "source": [
    "Write code to append a new element to the first row and then print the matrix. "
   ]
  },
  {
   "cell_type": "code",
   "execution_count": null,
   "id": "8af5c399-a8e9-476c-894b-98e87b7ef0ef",
   "metadata": {},
   "outputs": [],
   "source": []
  },
  {
   "cell_type": "markdown",
   "id": "02ccead9-5cc9-481e-bdcb-9816ad6a2c71",
   "metadata": {},
   "source": [
    "The matrix is unbalanced now.  The first row has more elements.  This is not a problem for Python because it does not know we are trying to store a matrix. It just knows we are storing lists of lists.  We will learn in Module2 to use different libraries that will help provide better constraints for representing matricies."
   ]
  },
  {
   "cell_type": "markdown",
   "id": "f79e28c9-4934-48ea-bcff-0a27f40301ed",
   "metadata": {},
   "source": [
    "## 3. Copying Objects"
   ]
  },
  {
   "cell_type": "markdown",
   "id": "2192a8b9-f600-4278-ada6-f89f893bc7f4",
   "metadata": {},
   "source": [
    "Before continuing, we should pause to discuss how Python stores objects. Run the following code. It extends both `list1` and `list2`.  "
   ]
  },
  {
   "cell_type": "code",
   "execution_count": 20,
   "id": "311e838c-2495-4479-8485-972d198fecca",
   "metadata": {},
   "outputs": [
    {
     "name": "stdout",
     "output_type": "stream",
     "text": [
      "[1, 2, 3, 4, 5, 6, 1, 2, 3]\n",
      "[4, 5, 6, 1, 2, 3]\n"
     ]
    }
   ],
   "source": [
    "\n",
    "list1 = [1, 2, 3]\n",
    "list2 = [4, 5, 6]\n",
    "\n",
    "list2.extend(list1)\n",
    "list1.extend(list2)\n",
    "\n",
    "# The first list should be extended?\n",
    "print(list1)\n",
    "\n",
    "# The second list should be extended.\n",
    "print(list2)"
   ]
  },
  {
   "cell_type": "markdown",
   "id": "b7b1a378-797c-48ea-973e-c026c739f568",
   "metadata": {},
   "source": [
    "Oh no. The numbers in `list` have duplicates. This is becaues in the code we first extend `list2` and then use it to extend `list1`.  But if our goal is to extend `list1` and `list2` so that they both have the same set of numbers without duplicates then we need a fix.  How do you think you would fix this? \n",
    "\n",
    "One way to fix this would be to create a copy of one list to presere the original values and use that copy to extend the other.  The following code does this. Try it:"
   ]
  },
  {
   "cell_type": "code",
   "execution_count": 23,
   "id": "396472a0-21c5-444d-8e27-361e222c99cc",
   "metadata": {},
   "outputs": [
    {
     "name": "stdout",
     "output_type": "stream",
     "text": [
      "[1, 2, 3, 4, 5, 6, 1, 2, 3]\n",
      "[4, 5, 6, 1, 2, 3]\n"
     ]
    }
   ],
   "source": [
    "list1 = [1, 2, 3]\n",
    "list2 = [4, 5, 6]\n",
    "\n",
    "# Create a backup copy of list2 and name it list3.\n",
    "list3 = list2\n",
    "\n",
    "# Now extend each list, using the backup \n",
    "list2.extend(list1)\n",
    "list1.extend(list3)\n",
    "\n",
    "# The first list should be extended?\n",
    "print(list1)\n",
    "\n",
    "# The second list should be extended.\n",
    "print(list2)"
   ]
  },
  {
   "cell_type": "markdown",
   "id": "f0f9eda3-c6c7-440d-92b7-a7756da63f3c",
   "metadata": {},
   "source": [
    "Wait. That did not work. Why not?  The reason it is because of the way that Python sets values in variables.  What happens in this line of code is not what we expect:\n",
    "\n",
    "```python\n",
    "list3 = list2\n",
    "```\n",
    "We may have thought that that line of code copies the value of `list2` into the new variable `list3` but this is not what happens. Instead, Python copies the reference in main memory for this variable so that `list2` and `list3` are pointing to the same location in memory, and resolve to the same value.  Python does this to reduce the amount of memory a program may consume. Suppose `list2` had millions of entries. If Python copied the entire thing into `list3` then it would double the amount of memory your program will consume.  \n",
    "\n",
    "If we want to force "
   ]
  },
  {
   "cell_type": "markdown",
   "id": "635cf803-9173-4811-995f-24554ff566c6",
   "metadata": {},
   "source": [
    "## 3. Dictionaries"
   ]
  },
  {
   "cell_type": "markdown",
   "id": "35b1fff1-a86c-466d-a25a-b902dc92a3ce",
   "metadata": {},
   "source": [
    "## 4. Looping"
   ]
  },
  {
   "cell_type": "markdown",
   "id": "e17d36f9-4d4c-4060-b08f-54099fe85a0a",
   "metadata": {},
   "source": [
    "### 4.1. For Loops"
   ]
  },
  {
   "cell_type": "markdown",
   "id": "40c44a51-c8ca-43de-b80e-3698395cd0d2",
   "metadata": {},
   "source": [
    "\n",
    "Another useful control statement is the `for` loop.  You use a for loop to **iterate** over "
   ]
  },
  {
   "cell_type": "markdown",
   "id": "bb41b921-4416-44c8-8cc2-a06f440d1474",
   "metadata": {},
   "source": [
    "### 4.2. While Loops"
   ]
  },
  {
   "cell_type": "markdown",
   "id": "4fd54999-07c3-4479-803d-c20de6431a7a",
   "metadata": {},
   "source": [
    "### 4.3. Do While Loops"
   ]
  },
  {
   "cell_type": "code",
   "execution_count": null,
   "id": "be71e094-55bd-46ff-a45d-a594a3954a49",
   "metadata": {},
   "outputs": [],
   "source": []
  }
 ],
 "metadata": {
  "kernelspec": {
   "display_name": "Python 3 (ipykernel)",
   "language": "python",
   "name": "python3"
  },
  "language_info": {
   "codemirror_mode": {
    "name": "ipython",
    "version": 3
   },
   "file_extension": ".py",
   "mimetype": "text/x-python",
   "name": "python",
   "nbconvert_exporter": "python",
   "pygments_lexer": "ipython3",
   "version": "3.9.13"
  }
 },
 "nbformat": 4,
 "nbformat_minor": 5
}
